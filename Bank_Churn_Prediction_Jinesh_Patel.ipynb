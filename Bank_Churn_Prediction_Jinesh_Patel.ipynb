{
 "cells": [
  {
   "cell_type": "markdown",
   "metadata": {},
   "source": [
    "# Project - Neural Networks"
   ]
  },
  {
   "cell_type": "code",
   "execution_count": 1,
   "metadata": {},
   "outputs": [
    {
     "name": "stderr",
     "output_type": "stream",
     "text": [
      "/usr/local/lib/python3.6/dist-packages/tensorflow/python/framework/dtypes.py:516: FutureWarning: Passing (type, 1) or '1type' as a synonym of type is deprecated; in a future version of numpy, it will be understood as (type, (1,)) / '(1,)type'.\n",
      "  _np_qint8 = np.dtype([(\"qint8\", np.int8, 1)])\n",
      "/usr/local/lib/python3.6/dist-packages/tensorflow/python/framework/dtypes.py:517: FutureWarning: Passing (type, 1) or '1type' as a synonym of type is deprecated; in a future version of numpy, it will be understood as (type, (1,)) / '(1,)type'.\n",
      "  _np_quint8 = np.dtype([(\"quint8\", np.uint8, 1)])\n",
      "/usr/local/lib/python3.6/dist-packages/tensorflow/python/framework/dtypes.py:518: FutureWarning: Passing (type, 1) or '1type' as a synonym of type is deprecated; in a future version of numpy, it will be understood as (type, (1,)) / '(1,)type'.\n",
      "  _np_qint16 = np.dtype([(\"qint16\", np.int16, 1)])\n",
      "/usr/local/lib/python3.6/dist-packages/tensorflow/python/framework/dtypes.py:519: FutureWarning: Passing (type, 1) or '1type' as a synonym of type is deprecated; in a future version of numpy, it will be understood as (type, (1,)) / '(1,)type'.\n",
      "  _np_quint16 = np.dtype([(\"quint16\", np.uint16, 1)])\n",
      "/usr/local/lib/python3.6/dist-packages/tensorflow/python/framework/dtypes.py:520: FutureWarning: Passing (type, 1) or '1type' as a synonym of type is deprecated; in a future version of numpy, it will be understood as (type, (1,)) / '(1,)type'.\n",
      "  _np_qint32 = np.dtype([(\"qint32\", np.int32, 1)])\n",
      "/usr/local/lib/python3.6/dist-packages/tensorflow/python/framework/dtypes.py:525: FutureWarning: Passing (type, 1) or '1type' as a synonym of type is deprecated; in a future version of numpy, it will be understood as (type, (1,)) / '(1,)type'.\n",
      "  np_resource = np.dtype([(\"resource\", np.ubyte, 1)])\n",
      "/usr/local/lib/python3.6/dist-packages/tensorboard/compat/tensorflow_stub/dtypes.py:541: FutureWarning: Passing (type, 1) or '1type' as a synonym of type is deprecated; in a future version of numpy, it will be understood as (type, (1,)) / '(1,)type'.\n",
      "  _np_qint8 = np.dtype([(\"qint8\", np.int8, 1)])\n",
      "/usr/local/lib/python3.6/dist-packages/tensorboard/compat/tensorflow_stub/dtypes.py:542: FutureWarning: Passing (type, 1) or '1type' as a synonym of type is deprecated; in a future version of numpy, it will be understood as (type, (1,)) / '(1,)type'.\n",
      "  _np_quint8 = np.dtype([(\"quint8\", np.uint8, 1)])\n",
      "/usr/local/lib/python3.6/dist-packages/tensorboard/compat/tensorflow_stub/dtypes.py:543: FutureWarning: Passing (type, 1) or '1type' as a synonym of type is deprecated; in a future version of numpy, it will be understood as (type, (1,)) / '(1,)type'.\n",
      "  _np_qint16 = np.dtype([(\"qint16\", np.int16, 1)])\n",
      "/usr/local/lib/python3.6/dist-packages/tensorboard/compat/tensorflow_stub/dtypes.py:544: FutureWarning: Passing (type, 1) or '1type' as a synonym of type is deprecated; in a future version of numpy, it will be understood as (type, (1,)) / '(1,)type'.\n",
      "  _np_quint16 = np.dtype([(\"quint16\", np.uint16, 1)])\n",
      "/usr/local/lib/python3.6/dist-packages/tensorboard/compat/tensorflow_stub/dtypes.py:545: FutureWarning: Passing (type, 1) or '1type' as a synonym of type is deprecated; in a future version of numpy, it will be understood as (type, (1,)) / '(1,)type'.\n",
      "  _np_qint32 = np.dtype([(\"qint32\", np.int32, 1)])\n",
      "/usr/local/lib/python3.6/dist-packages/tensorboard/compat/tensorflow_stub/dtypes.py:550: FutureWarning: Passing (type, 1) or '1type' as a synonym of type is deprecated; in a future version of numpy, it will be understood as (type, (1,)) / '(1,)type'.\n",
      "  np_resource = np.dtype([(\"resource\", np.ubyte, 1)])\n",
      "Using TensorFlow backend.\n"
     ]
    }
   ],
   "source": [
    "# import all necessary libraries.\n",
    "import pandas as pd\n",
    "import numpy as np\n",
    "import matplotlib.pyplot as plt\n",
    "import seaborn as sns\n",
    "\n",
    "import tensorflow as tf\n",
    "from tensorflow.keras import optimizers\n",
    "from keras.models import Sequential\n",
    "from keras.layers import Dense, Dropout, BatchNormalization\n",
    "from keras.utils.vis_utils import plot_model\n",
    "\n",
    "\n",
    "from sklearn.model_selection import train_test_split\n",
    "from sklearn.preprocessing import StandardScaler\n",
    "from sklearn.compose import ColumnTransformer\n",
    "from sklearn.preprocessing import LabelEncoder\n",
    "from sklearn.metrics import confusion_matrix\n",
    "\n",
    "\n"
   ]
  },
  {
   "cell_type": "markdown",
   "metadata": {},
   "source": [
    "# Read the dataset"
   ]
  },
  {
   "cell_type": "code",
   "execution_count": 2,
   "metadata": {},
   "outputs": [],
   "source": [
    "df = pd.read_csv(\"bank.csv\")"
   ]
  },
  {
   "cell_type": "code",
   "execution_count": 3,
   "metadata": {},
   "outputs": [
    {
     "name": "stdout",
     "output_type": "stream",
     "text": [
      "<class 'pandas.core.frame.DataFrame'>\n",
      "RangeIndex: 10000 entries, 0 to 9999\n",
      "Data columns (total 14 columns):\n",
      " #   Column           Non-Null Count  Dtype  \n",
      "---  ------           --------------  -----  \n",
      " 0   RowNumber        10000 non-null  int64  \n",
      " 1   CustomerId       10000 non-null  int64  \n",
      " 2   Surname          10000 non-null  object \n",
      " 3   CreditScore      10000 non-null  int64  \n",
      " 4   Geography        10000 non-null  object \n",
      " 5   Gender           10000 non-null  object \n",
      " 6   Age              10000 non-null  int64  \n",
      " 7   Tenure           10000 non-null  int64  \n",
      " 8   Balance          10000 non-null  float64\n",
      " 9   NumOfProducts    10000 non-null  int64  \n",
      " 10  HasCrCard        10000 non-null  int64  \n",
      " 11  IsActiveMember   10000 non-null  int64  \n",
      " 12  EstimatedSalary  10000 non-null  float64\n",
      " 13  Exited           10000 non-null  int64  \n",
      "dtypes: float64(2), int64(9), object(3)\n",
      "memory usage: 1.1+ MB\n"
     ]
    }
   ],
   "source": [
    "# Check dataset null values, descriptions and info\n",
    "df.info()"
   ]
  },
  {
   "cell_type": "code",
   "execution_count": 4,
   "metadata": {},
   "outputs": [
    {
     "data": {
      "text/html": [
       "<div>\n",
       "<style scoped>\n",
       "    .dataframe tbody tr th:only-of-type {\n",
       "        vertical-align: middle;\n",
       "    }\n",
       "\n",
       "    .dataframe tbody tr th {\n",
       "        vertical-align: top;\n",
       "    }\n",
       "\n",
       "    .dataframe thead th {\n",
       "        text-align: right;\n",
       "    }\n",
       "</style>\n",
       "<table border=\"1\" class=\"dataframe\">\n",
       "  <thead>\n",
       "    <tr style=\"text-align: right;\">\n",
       "      <th></th>\n",
       "      <th>count</th>\n",
       "      <th>mean</th>\n",
       "      <th>std</th>\n",
       "      <th>min</th>\n",
       "      <th>25%</th>\n",
       "      <th>50%</th>\n",
       "      <th>75%</th>\n",
       "      <th>max</th>\n",
       "    </tr>\n",
       "  </thead>\n",
       "  <tbody>\n",
       "    <tr>\n",
       "      <th>RowNumber</th>\n",
       "      <td>10000.0</td>\n",
       "      <td>5.000500e+03</td>\n",
       "      <td>2886.895680</td>\n",
       "      <td>1.00</td>\n",
       "      <td>2500.75</td>\n",
       "      <td>5.000500e+03</td>\n",
       "      <td>7.500250e+03</td>\n",
       "      <td>10000.00</td>\n",
       "    </tr>\n",
       "    <tr>\n",
       "      <th>CustomerId</th>\n",
       "      <td>10000.0</td>\n",
       "      <td>1.569094e+07</td>\n",
       "      <td>71936.186123</td>\n",
       "      <td>15565701.00</td>\n",
       "      <td>15628528.25</td>\n",
       "      <td>1.569074e+07</td>\n",
       "      <td>1.575323e+07</td>\n",
       "      <td>15815690.00</td>\n",
       "    </tr>\n",
       "    <tr>\n",
       "      <th>CreditScore</th>\n",
       "      <td>10000.0</td>\n",
       "      <td>6.505288e+02</td>\n",
       "      <td>96.653299</td>\n",
       "      <td>350.00</td>\n",
       "      <td>584.00</td>\n",
       "      <td>6.520000e+02</td>\n",
       "      <td>7.180000e+02</td>\n",
       "      <td>850.00</td>\n",
       "    </tr>\n",
       "    <tr>\n",
       "      <th>Age</th>\n",
       "      <td>10000.0</td>\n",
       "      <td>3.892180e+01</td>\n",
       "      <td>10.487806</td>\n",
       "      <td>18.00</td>\n",
       "      <td>32.00</td>\n",
       "      <td>3.700000e+01</td>\n",
       "      <td>4.400000e+01</td>\n",
       "      <td>92.00</td>\n",
       "    </tr>\n",
       "    <tr>\n",
       "      <th>Tenure</th>\n",
       "      <td>10000.0</td>\n",
       "      <td>5.012800e+00</td>\n",
       "      <td>2.892174</td>\n",
       "      <td>0.00</td>\n",
       "      <td>3.00</td>\n",
       "      <td>5.000000e+00</td>\n",
       "      <td>7.000000e+00</td>\n",
       "      <td>10.00</td>\n",
       "    </tr>\n",
       "    <tr>\n",
       "      <th>Balance</th>\n",
       "      <td>10000.0</td>\n",
       "      <td>7.648589e+04</td>\n",
       "      <td>62397.405202</td>\n",
       "      <td>0.00</td>\n",
       "      <td>0.00</td>\n",
       "      <td>9.719854e+04</td>\n",
       "      <td>1.276442e+05</td>\n",
       "      <td>250898.09</td>\n",
       "    </tr>\n",
       "    <tr>\n",
       "      <th>NumOfProducts</th>\n",
       "      <td>10000.0</td>\n",
       "      <td>1.530200e+00</td>\n",
       "      <td>0.581654</td>\n",
       "      <td>1.00</td>\n",
       "      <td>1.00</td>\n",
       "      <td>1.000000e+00</td>\n",
       "      <td>2.000000e+00</td>\n",
       "      <td>4.00</td>\n",
       "    </tr>\n",
       "    <tr>\n",
       "      <th>HasCrCard</th>\n",
       "      <td>10000.0</td>\n",
       "      <td>7.055000e-01</td>\n",
       "      <td>0.455840</td>\n",
       "      <td>0.00</td>\n",
       "      <td>0.00</td>\n",
       "      <td>1.000000e+00</td>\n",
       "      <td>1.000000e+00</td>\n",
       "      <td>1.00</td>\n",
       "    </tr>\n",
       "    <tr>\n",
       "      <th>IsActiveMember</th>\n",
       "      <td>10000.0</td>\n",
       "      <td>5.151000e-01</td>\n",
       "      <td>0.499797</td>\n",
       "      <td>0.00</td>\n",
       "      <td>0.00</td>\n",
       "      <td>1.000000e+00</td>\n",
       "      <td>1.000000e+00</td>\n",
       "      <td>1.00</td>\n",
       "    </tr>\n",
       "    <tr>\n",
       "      <th>EstimatedSalary</th>\n",
       "      <td>10000.0</td>\n",
       "      <td>1.000902e+05</td>\n",
       "      <td>57510.492818</td>\n",
       "      <td>11.58</td>\n",
       "      <td>51002.11</td>\n",
       "      <td>1.001939e+05</td>\n",
       "      <td>1.493882e+05</td>\n",
       "      <td>199992.48</td>\n",
       "    </tr>\n",
       "    <tr>\n",
       "      <th>Exited</th>\n",
       "      <td>10000.0</td>\n",
       "      <td>2.037000e-01</td>\n",
       "      <td>0.402769</td>\n",
       "      <td>0.00</td>\n",
       "      <td>0.00</td>\n",
       "      <td>0.000000e+00</td>\n",
       "      <td>0.000000e+00</td>\n",
       "      <td>1.00</td>\n",
       "    </tr>\n",
       "  </tbody>\n",
       "</table>\n",
       "</div>"
      ],
      "text/plain": [
       "                   count          mean           std          min  \\\n",
       "RowNumber        10000.0  5.000500e+03   2886.895680         1.00   \n",
       "CustomerId       10000.0  1.569094e+07  71936.186123  15565701.00   \n",
       "CreditScore      10000.0  6.505288e+02     96.653299       350.00   \n",
       "Age              10000.0  3.892180e+01     10.487806        18.00   \n",
       "Tenure           10000.0  5.012800e+00      2.892174         0.00   \n",
       "Balance          10000.0  7.648589e+04  62397.405202         0.00   \n",
       "NumOfProducts    10000.0  1.530200e+00      0.581654         1.00   \n",
       "HasCrCard        10000.0  7.055000e-01      0.455840         0.00   \n",
       "IsActiveMember   10000.0  5.151000e-01      0.499797         0.00   \n",
       "EstimatedSalary  10000.0  1.000902e+05  57510.492818        11.58   \n",
       "Exited           10000.0  2.037000e-01      0.402769         0.00   \n",
       "\n",
       "                         25%           50%           75%          max  \n",
       "RowNumber            2500.75  5.000500e+03  7.500250e+03     10000.00  \n",
       "CustomerId       15628528.25  1.569074e+07  1.575323e+07  15815690.00  \n",
       "CreditScore           584.00  6.520000e+02  7.180000e+02       850.00  \n",
       "Age                    32.00  3.700000e+01  4.400000e+01        92.00  \n",
       "Tenure                  3.00  5.000000e+00  7.000000e+00        10.00  \n",
       "Balance                 0.00  9.719854e+04  1.276442e+05    250898.09  \n",
       "NumOfProducts           1.00  1.000000e+00  2.000000e+00         4.00  \n",
       "HasCrCard               0.00  1.000000e+00  1.000000e+00         1.00  \n",
       "IsActiveMember          0.00  1.000000e+00  1.000000e+00         1.00  \n",
       "EstimatedSalary     51002.11  1.001939e+05  1.493882e+05    199992.48  \n",
       "Exited                  0.00  0.000000e+00  0.000000e+00         1.00  "
      ]
     },
     "execution_count": 4,
     "metadata": {},
     "output_type": "execute_result"
    }
   ],
   "source": [
    "df.describe().transpose()"
   ]
  },
  {
   "cell_type": "code",
   "execution_count": 5,
   "metadata": {},
   "outputs": [
    {
     "data": {
      "text/plain": [
       "RowNumber          0\n",
       "CustomerId         0\n",
       "Surname            0\n",
       "CreditScore        0\n",
       "Geography          0\n",
       "Gender             0\n",
       "Age                0\n",
       "Tenure             0\n",
       "Balance            0\n",
       "NumOfProducts      0\n",
       "HasCrCard          0\n",
       "IsActiveMember     0\n",
       "EstimatedSalary    0\n",
       "Exited             0\n",
       "dtype: int64"
      ]
     },
     "execution_count": 5,
     "metadata": {},
     "output_type": "execute_result"
    }
   ],
   "source": [
    "df.isna().sum()"
   ]
  },
  {
   "cell_type": "code",
   "execution_count": 6,
   "metadata": {},
   "outputs": [
    {
     "data": {
      "text/html": [
       "<div>\n",
       "<style scoped>\n",
       "    .dataframe tbody tr th:only-of-type {\n",
       "        vertical-align: middle;\n",
       "    }\n",
       "\n",
       "    .dataframe tbody tr th {\n",
       "        vertical-align: top;\n",
       "    }\n",
       "\n",
       "    .dataframe thead th {\n",
       "        text-align: right;\n",
       "    }\n",
       "</style>\n",
       "<table border=\"1\" class=\"dataframe\">\n",
       "  <thead>\n",
       "    <tr style=\"text-align: right;\">\n",
       "      <th></th>\n",
       "      <th>RowNumber</th>\n",
       "      <th>CustomerId</th>\n",
       "      <th>CreditScore</th>\n",
       "      <th>Age</th>\n",
       "      <th>Tenure</th>\n",
       "      <th>Balance</th>\n",
       "      <th>NumOfProducts</th>\n",
       "      <th>HasCrCard</th>\n",
       "      <th>IsActiveMember</th>\n",
       "      <th>EstimatedSalary</th>\n",
       "      <th>Exited</th>\n",
       "    </tr>\n",
       "  </thead>\n",
       "  <tbody>\n",
       "    <tr>\n",
       "      <th>RowNumber</th>\n",
       "      <td>1.000000</td>\n",
       "      <td>0.004202</td>\n",
       "      <td>0.005840</td>\n",
       "      <td>0.000783</td>\n",
       "      <td>-0.006495</td>\n",
       "      <td>-0.009067</td>\n",
       "      <td>0.007246</td>\n",
       "      <td>0.000599</td>\n",
       "      <td>0.012044</td>\n",
       "      <td>-0.005988</td>\n",
       "      <td>-0.016571</td>\n",
       "    </tr>\n",
       "    <tr>\n",
       "      <th>CustomerId</th>\n",
       "      <td>0.004202</td>\n",
       "      <td>1.000000</td>\n",
       "      <td>0.005308</td>\n",
       "      <td>0.009497</td>\n",
       "      <td>-0.014883</td>\n",
       "      <td>-0.012419</td>\n",
       "      <td>0.016972</td>\n",
       "      <td>-0.014025</td>\n",
       "      <td>0.001665</td>\n",
       "      <td>0.015271</td>\n",
       "      <td>-0.006248</td>\n",
       "    </tr>\n",
       "    <tr>\n",
       "      <th>CreditScore</th>\n",
       "      <td>0.005840</td>\n",
       "      <td>0.005308</td>\n",
       "      <td>1.000000</td>\n",
       "      <td>-0.003965</td>\n",
       "      <td>0.000842</td>\n",
       "      <td>0.006268</td>\n",
       "      <td>0.012238</td>\n",
       "      <td>-0.005458</td>\n",
       "      <td>0.025651</td>\n",
       "      <td>-0.001384</td>\n",
       "      <td>-0.027094</td>\n",
       "    </tr>\n",
       "    <tr>\n",
       "      <th>Age</th>\n",
       "      <td>0.000783</td>\n",
       "      <td>0.009497</td>\n",
       "      <td>-0.003965</td>\n",
       "      <td>1.000000</td>\n",
       "      <td>-0.009997</td>\n",
       "      <td>0.028308</td>\n",
       "      <td>-0.030680</td>\n",
       "      <td>-0.011721</td>\n",
       "      <td>0.085472</td>\n",
       "      <td>-0.007201</td>\n",
       "      <td>0.285323</td>\n",
       "    </tr>\n",
       "    <tr>\n",
       "      <th>Tenure</th>\n",
       "      <td>-0.006495</td>\n",
       "      <td>-0.014883</td>\n",
       "      <td>0.000842</td>\n",
       "      <td>-0.009997</td>\n",
       "      <td>1.000000</td>\n",
       "      <td>-0.012254</td>\n",
       "      <td>0.013444</td>\n",
       "      <td>0.022583</td>\n",
       "      <td>-0.028362</td>\n",
       "      <td>0.007784</td>\n",
       "      <td>-0.014001</td>\n",
       "    </tr>\n",
       "    <tr>\n",
       "      <th>Balance</th>\n",
       "      <td>-0.009067</td>\n",
       "      <td>-0.012419</td>\n",
       "      <td>0.006268</td>\n",
       "      <td>0.028308</td>\n",
       "      <td>-0.012254</td>\n",
       "      <td>1.000000</td>\n",
       "      <td>-0.304180</td>\n",
       "      <td>-0.014858</td>\n",
       "      <td>-0.010084</td>\n",
       "      <td>0.012797</td>\n",
       "      <td>0.118533</td>\n",
       "    </tr>\n",
       "    <tr>\n",
       "      <th>NumOfProducts</th>\n",
       "      <td>0.007246</td>\n",
       "      <td>0.016972</td>\n",
       "      <td>0.012238</td>\n",
       "      <td>-0.030680</td>\n",
       "      <td>0.013444</td>\n",
       "      <td>-0.304180</td>\n",
       "      <td>1.000000</td>\n",
       "      <td>0.003183</td>\n",
       "      <td>0.009612</td>\n",
       "      <td>0.014204</td>\n",
       "      <td>-0.047820</td>\n",
       "    </tr>\n",
       "    <tr>\n",
       "      <th>HasCrCard</th>\n",
       "      <td>0.000599</td>\n",
       "      <td>-0.014025</td>\n",
       "      <td>-0.005458</td>\n",
       "      <td>-0.011721</td>\n",
       "      <td>0.022583</td>\n",
       "      <td>-0.014858</td>\n",
       "      <td>0.003183</td>\n",
       "      <td>1.000000</td>\n",
       "      <td>-0.011866</td>\n",
       "      <td>-0.009933</td>\n",
       "      <td>-0.007138</td>\n",
       "    </tr>\n",
       "    <tr>\n",
       "      <th>IsActiveMember</th>\n",
       "      <td>0.012044</td>\n",
       "      <td>0.001665</td>\n",
       "      <td>0.025651</td>\n",
       "      <td>0.085472</td>\n",
       "      <td>-0.028362</td>\n",
       "      <td>-0.010084</td>\n",
       "      <td>0.009612</td>\n",
       "      <td>-0.011866</td>\n",
       "      <td>1.000000</td>\n",
       "      <td>-0.011421</td>\n",
       "      <td>-0.156128</td>\n",
       "    </tr>\n",
       "    <tr>\n",
       "      <th>EstimatedSalary</th>\n",
       "      <td>-0.005988</td>\n",
       "      <td>0.015271</td>\n",
       "      <td>-0.001384</td>\n",
       "      <td>-0.007201</td>\n",
       "      <td>0.007784</td>\n",
       "      <td>0.012797</td>\n",
       "      <td>0.014204</td>\n",
       "      <td>-0.009933</td>\n",
       "      <td>-0.011421</td>\n",
       "      <td>1.000000</td>\n",
       "      <td>0.012097</td>\n",
       "    </tr>\n",
       "    <tr>\n",
       "      <th>Exited</th>\n",
       "      <td>-0.016571</td>\n",
       "      <td>-0.006248</td>\n",
       "      <td>-0.027094</td>\n",
       "      <td>0.285323</td>\n",
       "      <td>-0.014001</td>\n",
       "      <td>0.118533</td>\n",
       "      <td>-0.047820</td>\n",
       "      <td>-0.007138</td>\n",
       "      <td>-0.156128</td>\n",
       "      <td>0.012097</td>\n",
       "      <td>1.000000</td>\n",
       "    </tr>\n",
       "  </tbody>\n",
       "</table>\n",
       "</div>"
      ],
      "text/plain": [
       "                 RowNumber  CustomerId  CreditScore       Age    Tenure  \\\n",
       "RowNumber         1.000000    0.004202     0.005840  0.000783 -0.006495   \n",
       "CustomerId        0.004202    1.000000     0.005308  0.009497 -0.014883   \n",
       "CreditScore       0.005840    0.005308     1.000000 -0.003965  0.000842   \n",
       "Age               0.000783    0.009497    -0.003965  1.000000 -0.009997   \n",
       "Tenure           -0.006495   -0.014883     0.000842 -0.009997  1.000000   \n",
       "Balance          -0.009067   -0.012419     0.006268  0.028308 -0.012254   \n",
       "NumOfProducts     0.007246    0.016972     0.012238 -0.030680  0.013444   \n",
       "HasCrCard         0.000599   -0.014025    -0.005458 -0.011721  0.022583   \n",
       "IsActiveMember    0.012044    0.001665     0.025651  0.085472 -0.028362   \n",
       "EstimatedSalary  -0.005988    0.015271    -0.001384 -0.007201  0.007784   \n",
       "Exited           -0.016571   -0.006248    -0.027094  0.285323 -0.014001   \n",
       "\n",
       "                  Balance  NumOfProducts  HasCrCard  IsActiveMember  \\\n",
       "RowNumber       -0.009067       0.007246   0.000599        0.012044   \n",
       "CustomerId      -0.012419       0.016972  -0.014025        0.001665   \n",
       "CreditScore      0.006268       0.012238  -0.005458        0.025651   \n",
       "Age              0.028308      -0.030680  -0.011721        0.085472   \n",
       "Tenure          -0.012254       0.013444   0.022583       -0.028362   \n",
       "Balance          1.000000      -0.304180  -0.014858       -0.010084   \n",
       "NumOfProducts   -0.304180       1.000000   0.003183        0.009612   \n",
       "HasCrCard       -0.014858       0.003183   1.000000       -0.011866   \n",
       "IsActiveMember  -0.010084       0.009612  -0.011866        1.000000   \n",
       "EstimatedSalary  0.012797       0.014204  -0.009933       -0.011421   \n",
       "Exited           0.118533      -0.047820  -0.007138       -0.156128   \n",
       "\n",
       "                 EstimatedSalary    Exited  \n",
       "RowNumber              -0.005988 -0.016571  \n",
       "CustomerId              0.015271 -0.006248  \n",
       "CreditScore            -0.001384 -0.027094  \n",
       "Age                    -0.007201  0.285323  \n",
       "Tenure                  0.007784 -0.014001  \n",
       "Balance                 0.012797  0.118533  \n",
       "NumOfProducts           0.014204 -0.047820  \n",
       "HasCrCard              -0.009933 -0.007138  \n",
       "IsActiveMember         -0.011421 -0.156128  \n",
       "EstimatedSalary         1.000000  0.012097  \n",
       "Exited                  0.012097  1.000000  "
      ]
     },
     "execution_count": 6,
     "metadata": {},
     "output_type": "execute_result"
    }
   ],
   "source": [
    "df.corr()"
   ]
  },
  {
   "cell_type": "markdown",
   "metadata": {},
   "source": [
    "### Dataset has 10,000 samples and it looks like data is mostly clean ( i.e no Null  values, No NaN etc)"
   ]
  },
  {
   "cell_type": "markdown",
   "metadata": {},
   "source": [
    "# Drop the columns which are unique for all users"
   ]
  },
  {
   "cell_type": "code",
   "execution_count": 7,
   "metadata": {},
   "outputs": [],
   "source": [
    "# Drop the columns which are unique for all users\n",
    "# Surname may be not unique but logically it has nothing to do with Exit\n",
    "columns_to_drop = [\"RowNumber\", \"CustomerId\", \"Surname\"]\n",
    "df.drop(columns_to_drop,axis=1,inplace=True)"
   ]
  },
  {
   "cell_type": "markdown",
   "metadata": {},
   "source": [
    "### Even after dropping the columns, there are two colums that has non numeric value, 1) Geography 2) Gender. These two columns need to be converted via Labelencoder or OneHotEncode."
   ]
  },
  {
   "cell_type": "code",
   "execution_count": 8,
   "metadata": {},
   "outputs": [],
   "source": [
    "# convert gender to neumeric value\n",
    "gender_coder = LabelEncoder()\n",
    "df['Gender'] = gender_coder.fit_transform(df['Gender'])"
   ]
  },
  {
   "cell_type": "code",
   "execution_count": 9,
   "metadata": {},
   "outputs": [],
   "source": [
    "# also Geography is string value, It is unique 3 values, so we can use one hot encoding for it\n",
    "# now convert all categorical variable to numeric variable by using one hot encoding\n",
    "df = pd.get_dummies(df, columns=[\"Geography\"])"
   ]
  },
  {
   "cell_type": "code",
   "execution_count": 10,
   "metadata": {},
   "outputs": [
    {
     "data": {
      "text/html": [
       "<div>\n",
       "<style scoped>\n",
       "    .dataframe tbody tr th:only-of-type {\n",
       "        vertical-align: middle;\n",
       "    }\n",
       "\n",
       "    .dataframe tbody tr th {\n",
       "        vertical-align: top;\n",
       "    }\n",
       "\n",
       "    .dataframe thead th {\n",
       "        text-align: right;\n",
       "    }\n",
       "</style>\n",
       "<table border=\"1\" class=\"dataframe\">\n",
       "  <thead>\n",
       "    <tr style=\"text-align: right;\">\n",
       "      <th></th>\n",
       "      <th>CreditScore</th>\n",
       "      <th>Gender</th>\n",
       "      <th>Age</th>\n",
       "      <th>Tenure</th>\n",
       "      <th>Balance</th>\n",
       "      <th>NumOfProducts</th>\n",
       "      <th>HasCrCard</th>\n",
       "      <th>IsActiveMember</th>\n",
       "      <th>EstimatedSalary</th>\n",
       "      <th>Exited</th>\n",
       "      <th>Geography_France</th>\n",
       "      <th>Geography_Germany</th>\n",
       "      <th>Geography_Spain</th>\n",
       "    </tr>\n",
       "  </thead>\n",
       "  <tbody>\n",
       "    <tr>\n",
       "      <th>0</th>\n",
       "      <td>619</td>\n",
       "      <td>0</td>\n",
       "      <td>42</td>\n",
       "      <td>2</td>\n",
       "      <td>0.00</td>\n",
       "      <td>1</td>\n",
       "      <td>1</td>\n",
       "      <td>1</td>\n",
       "      <td>101348.88</td>\n",
       "      <td>1</td>\n",
       "      <td>1</td>\n",
       "      <td>0</td>\n",
       "      <td>0</td>\n",
       "    </tr>\n",
       "    <tr>\n",
       "      <th>1</th>\n",
       "      <td>608</td>\n",
       "      <td>0</td>\n",
       "      <td>41</td>\n",
       "      <td>1</td>\n",
       "      <td>83807.86</td>\n",
       "      <td>1</td>\n",
       "      <td>0</td>\n",
       "      <td>1</td>\n",
       "      <td>112542.58</td>\n",
       "      <td>0</td>\n",
       "      <td>0</td>\n",
       "      <td>0</td>\n",
       "      <td>1</td>\n",
       "    </tr>\n",
       "    <tr>\n",
       "      <th>2</th>\n",
       "      <td>502</td>\n",
       "      <td>0</td>\n",
       "      <td>42</td>\n",
       "      <td>8</td>\n",
       "      <td>159660.80</td>\n",
       "      <td>3</td>\n",
       "      <td>1</td>\n",
       "      <td>0</td>\n",
       "      <td>113931.57</td>\n",
       "      <td>1</td>\n",
       "      <td>1</td>\n",
       "      <td>0</td>\n",
       "      <td>0</td>\n",
       "    </tr>\n",
       "    <tr>\n",
       "      <th>3</th>\n",
       "      <td>699</td>\n",
       "      <td>0</td>\n",
       "      <td>39</td>\n",
       "      <td>1</td>\n",
       "      <td>0.00</td>\n",
       "      <td>2</td>\n",
       "      <td>0</td>\n",
       "      <td>0</td>\n",
       "      <td>93826.63</td>\n",
       "      <td>0</td>\n",
       "      <td>1</td>\n",
       "      <td>0</td>\n",
       "      <td>0</td>\n",
       "    </tr>\n",
       "    <tr>\n",
       "      <th>4</th>\n",
       "      <td>850</td>\n",
       "      <td>0</td>\n",
       "      <td>43</td>\n",
       "      <td>2</td>\n",
       "      <td>125510.82</td>\n",
       "      <td>1</td>\n",
       "      <td>1</td>\n",
       "      <td>1</td>\n",
       "      <td>79084.10</td>\n",
       "      <td>0</td>\n",
       "      <td>0</td>\n",
       "      <td>0</td>\n",
       "      <td>1</td>\n",
       "    </tr>\n",
       "  </tbody>\n",
       "</table>\n",
       "</div>"
      ],
      "text/plain": [
       "   CreditScore  Gender  Age  Tenure    Balance  NumOfProducts  HasCrCard  \\\n",
       "0          619       0   42       2       0.00              1          1   \n",
       "1          608       0   41       1   83807.86              1          0   \n",
       "2          502       0   42       8  159660.80              3          1   \n",
       "3          699       0   39       1       0.00              2          0   \n",
       "4          850       0   43       2  125510.82              1          1   \n",
       "\n",
       "   IsActiveMember  EstimatedSalary  Exited  Geography_France  \\\n",
       "0               1        101348.88       1                 1   \n",
       "1               1        112542.58       0                 0   \n",
       "2               0        113931.57       1                 1   \n",
       "3               0         93826.63       0                 1   \n",
       "4               1         79084.10       0                 0   \n",
       "\n",
       "   Geography_Germany  Geography_Spain  \n",
       "0                  0                0  \n",
       "1                  0                1  \n",
       "2                  0                0  \n",
       "3                  0                0  \n",
       "4                  0                1  "
      ]
     },
     "execution_count": 10,
     "metadata": {},
     "output_type": "execute_result"
    }
   ],
   "source": [
    "df.head()"
   ]
  },
  {
   "cell_type": "markdown",
   "metadata": {},
   "source": [
    "### Now , In dataframe , all columns are numeric and there is not string values"
   ]
  },
  {
   "cell_type": "markdown",
   "metadata": {},
   "source": [
    "# Distinguish the feature and target set "
   ]
  },
  {
   "cell_type": "code",
   "execution_count": 11,
   "metadata": {},
   "outputs": [
    {
     "data": {
      "text/plain": [
       "['CreditScore',\n",
       " 'Gender',\n",
       " 'Age',\n",
       " 'Tenure',\n",
       " 'Balance',\n",
       " 'NumOfProducts',\n",
       " 'HasCrCard',\n",
       " 'IsActiveMember',\n",
       " 'EstimatedSalary',\n",
       " 'Geography_France',\n",
       " 'Geography_Germany',\n",
       " 'Geography_Spain']"
      ]
     },
     "execution_count": 11,
     "metadata": {},
     "output_type": "execute_result"
    }
   ],
   "source": [
    "# Here target column will be \"EXIT\" and rest of the columns will be feature set\n",
    "features = [col for col in df.columns if col != 'Exited']\n",
    "features"
   ]
  },
  {
   "cell_type": "markdown",
   "metadata": {},
   "source": [
    "# Divide the data set into training and test sets"
   ]
  },
  {
   "cell_type": "code",
   "execution_count": 12,
   "metadata": {},
   "outputs": [
    {
     "data": {
      "text/plain": [
       "((7000, 12), (3000, 12))"
      ]
     },
     "execution_count": 12,
     "metadata": {},
     "output_type": "execute_result"
    }
   ],
   "source": [
    "X_train, X_test, y_train, y_test = train_test_split(df[features], df['Exited'], test_size=.3, random_state=42)\n",
    "X_train.shape, X_test.shape"
   ]
  },
  {
   "cell_type": "markdown",
   "metadata": {},
   "source": [
    "### Here above observation, data is splitted into training, test data by 70:30 ratio, with 7000 samples for training and 3000 samples for testing"
   ]
  },
  {
   "cell_type": "markdown",
   "metadata": {},
   "source": [
    "# Normalize the train and test data"
   ]
  },
  {
   "cell_type": "code",
   "execution_count": 13,
   "metadata": {},
   "outputs": [],
   "source": [
    "# data is not uniform. means it has wide min-max range, example balance has range 0-250K while HascrCard has only two value 0-1 \n",
    "# Data need to Normalized, for this Standard scalar will be used\n",
    "normalizer = StandardScaler()\n",
    "X_train = normalizer.fit_transform(X_train)\n",
    "X_test = normalizer.transform (X_test)"
   ]
  },
  {
   "cell_type": "markdown",
   "metadata": {},
   "source": [
    "#  Initialize & build the model. Identify the points of improvement and implement the same"
   ]
  },
  {
   "cell_type": "code",
   "execution_count": 14,
   "metadata": {},
   "outputs": [
    {
     "name": "stdout",
     "output_type": "stream",
     "text": [
      "WARNING:tensorflow:From /usr/local/lib/python3.6/dist-packages/tensorflow/python/ops/nn_impl.py:182: add_dispatch_support.<locals>.wrapper (from tensorflow.python.ops.array_ops) is deprecated and will be removed in a future version.\n",
      "Instructions for updating:\n",
      "Use tf.where in 2.0, which has the same broadcast rule as np.where\n"
     ]
    }
   ],
   "source": [
    "# Build Neural network by using some basic Dense layers with sequential connection and relu/sigmoid activation function\n",
    "\n",
    "simple_model = Sequential(name=\"simple_model\")\n",
    "simple_model.add(Dense(32, activation = 'relu', input_shape = (X_train.shape[1],),name=\"Hidden1\"))\n",
    "simple_model.add(Dense(1, activation = 'sigmoid',name=\"Output\"))\n",
    "simple_model.compile(optimizer='adam', loss = 'binary_crossentropy', metrics=['accuracy'])\n"
   ]
  },
  {
   "cell_type": "code",
   "execution_count": 15,
   "metadata": {},
   "outputs": [
    {
     "data": {
      "image/png": "[encoded data removed]",
      "text/plain": [
       "<IPython.core.display.Image object>"
      ]
     },
     "execution_count": 15,
     "metadata": {},
     "output_type": "execute_result"
    }
   ],
   "source": [
    "# Check model in graph\n",
    "plot_model(simple_model, to_file='simple_model.png', show_shapes=True, show_layer_names=True)"
   ]
  },
  {
   "cell_type": "code",
   "execution_count": 16,
   "metadata": {},
   "outputs": [
    {
     "name": "stdout",
     "output_type": "stream",
     "text": [
      "Model: \"simple_model\"\n",
      "_________________________________________________________________\n",
      "Layer (type)                 Output Shape              Param #   \n",
      "=================================================================\n",
      "Hidden1 (Dense)              (None, 32)                416       \n",
      "_________________________________________________________________\n",
      "Output (Dense)               (None, 1)                 33        \n",
      "=================================================================\n",
      "Total params: 449\n",
      "Trainable params: 449\n",
      "Non-trainable params: 0\n",
      "_________________________________________________________________\n"
     ]
    }
   ],
   "source": [
    "simple_model.summary()"
   ]
  },
  {
   "cell_type": "code",
   "execution_count": 17,
   "metadata": {},
   "outputs": [
    {
     "name": "stdout",
     "output_type": "stream",
     "text": [
      "Train on 5600 samples, validate on 1400 samples\n",
      "Epoch 1/50\n",
      "5600/5600 [==============================] - 1s 161us/step - loss: 0.4824 - accuracy: 0.7748 - val_loss: 0.4140 - val_accuracy: 0.8186\n",
      "Epoch 2/50\n",
      "5600/5600 [==============================] - 1s 144us/step - loss: 0.4116 - accuracy: 0.8246 - val_loss: 0.3893 - val_accuracy: 0.8357\n",
      "Epoch 3/50\n",
      "5600/5600 [==============================] - 1s 140us/step - loss: 0.3861 - accuracy: 0.8395 - val_loss: 0.3752 - val_accuracy: 0.8421\n",
      "Epoch 4/50\n",
      "5600/5600 [==============================] - 1s 147us/step - loss: 0.3696 - accuracy: 0.8464 - val_loss: 0.3676 - val_accuracy: 0.8471\n",
      "Epoch 5/50\n",
      "5600/5600 [==============================] - 1s 143us/step - loss: 0.3602 - accuracy: 0.8525 - val_loss: 0.3586 - val_accuracy: 0.8529\n",
      "Epoch 6/50\n",
      "5600/5600 [==============================] - 1s 137us/step - loss: 0.3542 - accuracy: 0.8518 - val_loss: 0.3571 - val_accuracy: 0.8529\n",
      "Epoch 7/50\n",
      "5600/5600 [==============================] - 1s 146us/step - loss: 0.3505 - accuracy: 0.8548 - val_loss: 0.3562 - val_accuracy: 0.8557\n",
      "Epoch 8/50\n",
      "5600/5600 [==============================] - 1s 143us/step - loss: 0.3466 - accuracy: 0.8568 - val_loss: 0.3552 - val_accuracy: 0.8521\n",
      "Epoch 9/50\n",
      "5600/5600 [==============================] - 1s 138us/step - loss: 0.3462 - accuracy: 0.8561 - val_loss: 0.3507 - val_accuracy: 0.8536\n",
      "Epoch 10/50\n",
      "5600/5600 [==============================] - 1s 141us/step - loss: 0.3447 - accuracy: 0.8580 - val_loss: 0.3503 - val_accuracy: 0.8500\n",
      "Epoch 11/50\n",
      "5600/5600 [==============================] - 1s 136us/step - loss: 0.3434 - accuracy: 0.8573 - val_loss: 0.3498 - val_accuracy: 0.8536\n",
      "Epoch 12/50\n",
      "5600/5600 [==============================] - 1s 145us/step - loss: 0.3421 - accuracy: 0.8582 - val_loss: 0.3490 - val_accuracy: 0.8493\n",
      "Epoch 13/50\n",
      "5600/5600 [==============================] - 1s 145us/step - loss: 0.3407 - accuracy: 0.8584 - val_loss: 0.3472 - val_accuracy: 0.8521\n",
      "Epoch 14/50\n",
      "5600/5600 [==============================] - 1s 142us/step - loss: 0.3392 - accuracy: 0.8598 - val_loss: 0.3504 - val_accuracy: 0.8500\n",
      "Epoch 15/50\n",
      "5600/5600 [==============================] - 1s 139us/step - loss: 0.3392 - accuracy: 0.8596 - val_loss: 0.3487 - val_accuracy: 0.8529\n",
      "Epoch 16/50\n",
      "5600/5600 [==============================] - 1s 138us/step - loss: 0.3382 - accuracy: 0.8607 - val_loss: 0.3465 - val_accuracy: 0.8507\n",
      "Epoch 17/50\n",
      "5600/5600 [==============================] - 1s 138us/step - loss: 0.3377 - accuracy: 0.8587 - val_loss: 0.3477 - val_accuracy: 0.8536\n",
      "Epoch 18/50\n",
      "5600/5600 [==============================] - 1s 141us/step - loss: 0.3367 - accuracy: 0.8596 - val_loss: 0.3457 - val_accuracy: 0.8507\n",
      "Epoch 19/50\n",
      "5600/5600 [==============================] - 1s 132us/step - loss: 0.3359 - accuracy: 0.8621 - val_loss: 0.3489 - val_accuracy: 0.8536\n",
      "Epoch 20/50\n",
      "5600/5600 [==============================] - 1s 134us/step - loss: 0.3355 - accuracy: 0.8607 - val_loss: 0.3473 - val_accuracy: 0.8536\n",
      "Epoch 21/50\n",
      "5600/5600 [==============================] - 1s 131us/step - loss: 0.3351 - accuracy: 0.8604 - val_loss: 0.3489 - val_accuracy: 0.8557\n",
      "Epoch 22/50\n",
      "5600/5600 [==============================] - 1s 131us/step - loss: 0.3342 - accuracy: 0.8582 - val_loss: 0.3474 - val_accuracy: 0.8543\n",
      "Epoch 23/50\n",
      "5600/5600 [==============================] - 1s 136us/step - loss: 0.3343 - accuracy: 0.8612 - val_loss: 0.3476 - val_accuracy: 0.8550\n",
      "Epoch 24/50\n",
      "5600/5600 [==============================] - 1s 130us/step - loss: 0.3341 - accuracy: 0.8598 - val_loss: 0.3463 - val_accuracy: 0.8514\n",
      "Epoch 25/50\n",
      "5600/5600 [==============================] - 1s 133us/step - loss: 0.3329 - accuracy: 0.8602 - val_loss: 0.3474 - val_accuracy: 0.8471\n",
      "Epoch 26/50\n",
      "5600/5600 [==============================] - 1s 134us/step - loss: 0.3315 - accuracy: 0.8636 - val_loss: 0.3496 - val_accuracy: 0.8493\n",
      "Epoch 27/50\n",
      "5600/5600 [==============================] - 1s 134us/step - loss: 0.3319 - accuracy: 0.8641 - val_loss: 0.3479 - val_accuracy: 0.8514\n",
      "Epoch 28/50\n",
      "5600/5600 [==============================] - 1s 134us/step - loss: 0.3321 - accuracy: 0.8621 - val_loss: 0.3458 - val_accuracy: 0.8579\n",
      "Epoch 29/50\n",
      "5600/5600 [==============================] - 1s 137us/step - loss: 0.3304 - accuracy: 0.8630 - val_loss: 0.3489 - val_accuracy: 0.8536\n",
      "Epoch 30/50\n",
      "5600/5600 [==============================] - 1s 136us/step - loss: 0.3310 - accuracy: 0.8614 - val_loss: 0.3453 - val_accuracy: 0.8529\n",
      "Epoch 31/50\n",
      "5600/5600 [==============================] - 1s 141us/step - loss: 0.3304 - accuracy: 0.8618 - val_loss: 0.3491 - val_accuracy: 0.8550\n",
      "Epoch 32/50\n",
      "5600/5600 [==============================] - 1s 138us/step - loss: 0.3298 - accuracy: 0.8637 - val_loss: 0.3495 - val_accuracy: 0.8543\n",
      "Epoch 33/50\n",
      "5600/5600 [==============================] - 1s 144us/step - loss: 0.3301 - accuracy: 0.8627 - val_loss: 0.3468 - val_accuracy: 0.8493\n",
      "Epoch 34/50\n",
      "5600/5600 [==============================] - 1s 139us/step - loss: 0.3295 - accuracy: 0.8641 - val_loss: 0.3523 - val_accuracy: 0.8507\n",
      "Epoch 35/50\n",
      "5600/5600 [==============================] - 1s 129us/step - loss: 0.3285 - accuracy: 0.8630 - val_loss: 0.3462 - val_accuracy: 0.8514\n",
      "Epoch 36/50\n",
      "5600/5600 [==============================] - 1s 145us/step - loss: 0.3286 - accuracy: 0.8632 - val_loss: 0.3500 - val_accuracy: 0.8593\n",
      "Epoch 37/50\n",
      "5600/5600 [==============================] - 1s 137us/step - loss: 0.3279 - accuracy: 0.8643 - val_loss: 0.3493 - val_accuracy: 0.8529\n",
      "Epoch 38/50\n",
      "5600/5600 [==============================] - 1s 126us/step - loss: 0.3280 - accuracy: 0.8646 - val_loss: 0.3483 - val_accuracy: 0.8571\n",
      "Epoch 39/50\n",
      "5600/5600 [==============================] - 1s 161us/step - loss: 0.3268 - accuracy: 0.8637 - val_loss: 0.3472 - val_accuracy: 0.8536\n",
      "Epoch 40/50\n",
      "5600/5600 [==============================] - 1s 128us/step - loss: 0.3266 - accuracy: 0.8650 - val_loss: 0.3453 - val_accuracy: 0.8514\n",
      "Epoch 41/50\n",
      "5600/5600 [==============================] - 1s 124us/step - loss: 0.3266 - accuracy: 0.8637 - val_loss: 0.3472 - val_accuracy: 0.8507\n",
      "Epoch 42/50\n",
      "5600/5600 [==============================] - 1s 123us/step - loss: 0.3263 - accuracy: 0.8641 - val_loss: 0.3484 - val_accuracy: 0.8521\n",
      "Epoch 43/50\n",
      "5600/5600 [==============================] - 1s 123us/step - loss: 0.3257 - accuracy: 0.8646 - val_loss: 0.3492 - val_accuracy: 0.8507\n",
      "Epoch 44/50\n",
      "5600/5600 [==============================] - 1s 122us/step - loss: 0.3254 - accuracy: 0.8657 - val_loss: 0.3454 - val_accuracy: 0.8514\n",
      "Epoch 45/50\n",
      "5600/5600 [==============================] - 1s 127us/step - loss: 0.3245 - accuracy: 0.8662 - val_loss: 0.3483 - val_accuracy: 0.8514\n",
      "Epoch 46/50\n",
      "5600/5600 [==============================] - 1s 128us/step - loss: 0.3237 - accuracy: 0.8637 - val_loss: 0.3471 - val_accuracy: 0.8543\n",
      "Epoch 47/50\n",
      "5600/5600 [==============================] - 1s 134us/step - loss: 0.3247 - accuracy: 0.8629 - val_loss: 0.3476 - val_accuracy: 0.8543\n",
      "Epoch 48/50\n",
      "5600/5600 [==============================] - 1s 127us/step - loss: 0.3242 - accuracy: 0.8650 - val_loss: 0.3463 - val_accuracy: 0.8507\n",
      "Epoch 49/50\n",
      "5600/5600 [==============================] - 1s 159us/step - loss: 0.3228 - accuracy: 0.8623 - val_loss: 0.3534 - val_accuracy: 0.8536\n",
      "Epoch 50/50\n",
      "5600/5600 [==============================] - 1s 126us/step - loss: 0.3235 - accuracy: 0.8673 - val_loss: 0.3496 - val_accuracy: 0.8536\n"
     ]
    }
   ],
   "source": [
    "# Train And measure Accuracy of model, here batch size epoch are hyperparams, will adjust for performance\n",
    " train_history = simple_model.fit(X_train, y_train, batch_size=8, epochs=50, validation_split=0.2, verbose=1)"
   ]
  },
  {
   "cell_type": "code",
   "execution_count": 18,
   "metadata": {},
   "outputs": [],
   "source": [
    "# Define plot function to track validation and accuracy vs epoch\n",
    "def plot_accuracy_loss_chart(history):\n",
    "    accuracy = history.history['accuracy']\n",
    "    val_accuracy = history.history['val_accuracy']\n",
    "    loss = history.history['loss']\n",
    "    val_loss = history.history['val_loss']\n",
    "    epochs = range(1, len(accuracy) + 1)\n",
    "    plt.plot(epochs, accuracy, 'bo', label='Training acc')\n",
    "    plt.plot(epochs, val_accuracy, 'b', label='Validation acc')\n",
    "    plt.title('Training and validation accuracy')\n",
    "    plt.legend()\n",
    "    plt.figure()\n",
    "    plt.plot(epochs, loss, 'bo', label='Training loss')\n",
    "    plt.plot(epochs, val_loss, 'b', label='Validation loss')\n",
    "    plt.title('Training and validation loss')\n",
    "    plt.legend()\n",
    "    plt.show()"
   ]
  },
  {
   "cell_type": "code",
   "execution_count": 19,
   "metadata": {},
   "outputs": [
    {
     "data": {
      "image/png": "[encoded data removed]",
      "text/plain": [
       "<Figure size 432x288 with 1 Axes>"
      ]
     },
     "metadata": {
      "needs_background": "light"
     },
     "output_type": "display_data"
    },
    {
     "data": {
      "image/png": "[encoded data removed]",
      "text/plain": [
       "<Figure size 432x288 with 1 Axes>"
      ]
     },
     "metadata": {
      "needs_background": "light"
     },
     "output_type": "display_data"
    }
   ],
   "source": [
    "plot_accuracy_loss_chart(train_history)"
   ]
  },
  {
   "cell_type": "markdown",
   "metadata": {},
   "source": [
    "## By looking at model performance, it is moderately performing Ok with only one hidden layer, accuracy and loss are constant with epoch.infact it is fluctuating which is not good sign. trying to add one more hidden layer for improvement."
   ]
  },
  {
   "cell_type": "code",
   "execution_count": 20,
   "metadata": {},
   "outputs": [],
   "source": [
    "# Adding one more layer to improve performance\n",
    "dense_model = Sequential(name=\"dense_model\")\n",
    "dense_model.add(Dense(32, activation = 'relu', input_shape = (X_train.shape[1],),name=\"Hidden1\"))\n",
    "dense_model.add(Dense(32, activation = 'relu',name=\"Hidden2\"))\n",
    "dense_model.add(Dense(1, activation = 'sigmoid',name=\"Output\"))\n",
    "dense_model.compile(optimizer='adam', loss = 'binary_crossentropy', metrics=['accuracy'])"
   ]
  },
  {
   "cell_type": "code",
   "execution_count": 21,
   "metadata": {},
   "outputs": [
    {
     "data": {
      "image/png": "[encoded data removed]",
      "text/plain": [
       "<IPython.core.display.Image object>"
      ]
     },
     "execution_count": 21,
     "metadata": {},
     "output_type": "execute_result"
    }
   ],
   "source": [
    "# Visualize model in diagram\n",
    "plot_model(dense_model, to_file='dense_model.png', show_shapes=True, show_layer_names=True)"
   ]
  },
  {
   "cell_type": "code",
   "execution_count": 22,
   "metadata": {},
   "outputs": [
    {
     "name": "stdout",
     "output_type": "stream",
     "text": [
      "Train on 5600 samples, validate on 1400 samples\n",
      "Epoch 1/50\n",
      "5600/5600 [==============================] - 1s 181us/step - loss: 0.4709 - accuracy: 0.7834 - val_loss: 0.4085 - val_accuracy: 0.8286\n",
      "Epoch 2/50\n",
      "5600/5600 [==============================] - 1s 155us/step - loss: 0.3911 - accuracy: 0.8386 - val_loss: 0.3719 - val_accuracy: 0.8579\n",
      "Epoch 3/50\n",
      "5600/5600 [==============================] - 1s 152us/step - loss: 0.3597 - accuracy: 0.8546 - val_loss: 0.3601 - val_accuracy: 0.8550\n",
      "Epoch 4/50\n",
      "5600/5600 [==============================] - 1s 152us/step - loss: 0.3495 - accuracy: 0.8509 - val_loss: 0.3564 - val_accuracy: 0.8543\n",
      "Epoch 5/50\n",
      "5600/5600 [==============================] - 1s 155us/step - loss: 0.3435 - accuracy: 0.8562 - val_loss: 0.3514 - val_accuracy: 0.8493\n",
      "Epoch 6/50\n",
      "5600/5600 [==============================] - 1s 161us/step - loss: 0.3395 - accuracy: 0.8589 - val_loss: 0.3532 - val_accuracy: 0.8507\n",
      "Epoch 7/50\n",
      "5600/5600 [==============================] - 1s 162us/step - loss: 0.3363 - accuracy: 0.8612 - val_loss: 0.3507 - val_accuracy: 0.8500\n",
      "Epoch 8/50\n",
      "5600/5600 [==============================] - 1s 149us/step - loss: 0.3332 - accuracy: 0.8618 - val_loss: 0.3473 - val_accuracy: 0.8550\n",
      "Epoch 9/50\n",
      "5600/5600 [==============================] - 1s 145us/step - loss: 0.3308 - accuracy: 0.8641 - val_loss: 0.3461 - val_accuracy: 0.8536\n",
      "Epoch 10/50\n",
      "5600/5600 [==============================] - 1s 142us/step - loss: 0.3288 - accuracy: 0.8646 - val_loss: 0.3455 - val_accuracy: 0.8579\n",
      "Epoch 11/50\n",
      "5600/5600 [==============================] - 1s 151us/step - loss: 0.3257 - accuracy: 0.8639 - val_loss: 0.3485 - val_accuracy: 0.8564\n",
      "Epoch 12/50\n",
      "5600/5600 [==============================] - 1s 148us/step - loss: 0.3233 - accuracy: 0.8645 - val_loss: 0.3503 - val_accuracy: 0.8493\n",
      "Epoch 13/50\n",
      "5600/5600 [==============================] - 1s 148us/step - loss: 0.3221 - accuracy: 0.8684 - val_loss: 0.3466 - val_accuracy: 0.8564\n",
      "Epoch 14/50\n",
      "5600/5600 [==============================] - 1s 158us/step - loss: 0.3192 - accuracy: 0.8639 - val_loss: 0.3469 - val_accuracy: 0.8529\n",
      "Epoch 15/50\n",
      "5600/5600 [==============================] - 1s 148us/step - loss: 0.3182 - accuracy: 0.8664 - val_loss: 0.3515 - val_accuracy: 0.8493\n",
      "Epoch 16/50\n",
      "5600/5600 [==============================] - 1s 147us/step - loss: 0.3155 - accuracy: 0.8709 - val_loss: 0.3493 - val_accuracy: 0.8529\n",
      "Epoch 17/50\n",
      "5600/5600 [==============================] - 1s 150us/step - loss: 0.3136 - accuracy: 0.8698 - val_loss: 0.3537 - val_accuracy: 0.8543\n",
      "Epoch 18/50\n",
      "5600/5600 [==============================] - 1s 147us/step - loss: 0.3122 - accuracy: 0.8684 - val_loss: 0.3530 - val_accuracy: 0.8521\n",
      "Epoch 19/50\n",
      "5600/5600 [==============================] - 1s 143us/step - loss: 0.3092 - accuracy: 0.8721 - val_loss: 0.3614 - val_accuracy: 0.8436\n",
      "Epoch 20/50\n",
      "5600/5600 [==============================] - 1s 147us/step - loss: 0.3091 - accuracy: 0.8691 - val_loss: 0.3572 - val_accuracy: 0.8514\n",
      "Epoch 21/50\n",
      "5600/5600 [==============================] - 1s 149us/step - loss: 0.3066 - accuracy: 0.8698 - val_loss: 0.3571 - val_accuracy: 0.8471\n",
      "Epoch 22/50\n",
      "5600/5600 [==============================] - 1s 143us/step - loss: 0.3050 - accuracy: 0.8727 - val_loss: 0.3522 - val_accuracy: 0.8507\n",
      "Epoch 23/50\n",
      "5600/5600 [==============================] - 1s 152us/step - loss: 0.3028 - accuracy: 0.8723 - val_loss: 0.3538 - val_accuracy: 0.8536\n",
      "Epoch 24/50\n",
      "5600/5600 [==============================] - 1s 151us/step - loss: 0.3022 - accuracy: 0.8727 - val_loss: 0.3540 - val_accuracy: 0.8521\n",
      "Epoch 25/50\n",
      "5600/5600 [==============================] - 1s 140us/step - loss: 0.2998 - accuracy: 0.8755 - val_loss: 0.3553 - val_accuracy: 0.8514\n",
      "Epoch 26/50\n",
      "5600/5600 [==============================] - 1s 152us/step - loss: 0.3001 - accuracy: 0.8723 - val_loss: 0.3587 - val_accuracy: 0.8486\n",
      "Epoch 27/50\n",
      "5600/5600 [==============================] - 1s 154us/step - loss: 0.2972 - accuracy: 0.8729 - val_loss: 0.3672 - val_accuracy: 0.8543\n",
      "Epoch 28/50\n",
      "5600/5600 [==============================] - 1s 147us/step - loss: 0.2957 - accuracy: 0.8752 - val_loss: 0.3598 - val_accuracy: 0.8429\n",
      "Epoch 29/50\n",
      "5600/5600 [==============================] - 1s 145us/step - loss: 0.2943 - accuracy: 0.8766 - val_loss: 0.3549 - val_accuracy: 0.8486\n",
      "Epoch 30/50\n",
      "5600/5600 [==============================] - 1s 146us/step - loss: 0.2918 - accuracy: 0.8813 - val_loss: 0.3655 - val_accuracy: 0.8536\n",
      "Epoch 31/50\n",
      "5600/5600 [==============================] - 1s 147us/step - loss: 0.2928 - accuracy: 0.8754 - val_loss: 0.3618 - val_accuracy: 0.8507\n",
      "Epoch 32/50\n",
      "5600/5600 [==============================] - 1s 142us/step - loss: 0.2898 - accuracy: 0.8779 - val_loss: 0.3619 - val_accuracy: 0.8507\n",
      "Epoch 33/50\n",
      "5600/5600 [==============================] - 1s 144us/step - loss: 0.2901 - accuracy: 0.8786 - val_loss: 0.3573 - val_accuracy: 0.8521\n",
      "Epoch 34/50\n",
      "5600/5600 [==============================] - 1s 142us/step - loss: 0.2878 - accuracy: 0.8798 - val_loss: 0.3620 - val_accuracy: 0.8471\n",
      "Epoch 35/50\n",
      "5600/5600 [==============================] - 1s 143us/step - loss: 0.2876 - accuracy: 0.8816 - val_loss: 0.3622 - val_accuracy: 0.8507\n",
      "Epoch 36/50\n",
      "5600/5600 [==============================] - 1s 142us/step - loss: 0.2866 - accuracy: 0.8825 - val_loss: 0.3600 - val_accuracy: 0.8571\n",
      "Epoch 37/50\n",
      "5600/5600 [==============================] - 1s 142us/step - loss: 0.2835 - accuracy: 0.8789 - val_loss: 0.3640 - val_accuracy: 0.8486\n",
      "Epoch 38/50\n",
      "5600/5600 [==============================] - 1s 147us/step - loss: 0.2847 - accuracy: 0.8804 - val_loss: 0.3622 - val_accuracy: 0.8529\n",
      "Epoch 39/50\n",
      "5600/5600 [==============================] - 1s 145us/step - loss: 0.2829 - accuracy: 0.8807 - val_loss: 0.3639 - val_accuracy: 0.8514\n",
      "Epoch 40/50\n",
      "5600/5600 [==============================] - 1s 147us/step - loss: 0.2818 - accuracy: 0.8807 - val_loss: 0.3650 - val_accuracy: 0.8500\n",
      "Epoch 41/50\n",
      "5600/5600 [==============================] - 1s 145us/step - loss: 0.2807 - accuracy: 0.8805 - val_loss: 0.3637 - val_accuracy: 0.8500\n",
      "Epoch 42/50\n",
      "5600/5600 [==============================] - 1s 145us/step - loss: 0.2792 - accuracy: 0.8830 - val_loss: 0.3711 - val_accuracy: 0.8486\n",
      "Epoch 43/50\n",
      "5600/5600 [==============================] - 1s 145us/step - loss: 0.2774 - accuracy: 0.8836 - val_loss: 0.3610 - val_accuracy: 0.8486\n",
      "Epoch 44/50\n",
      "5600/5600 [==============================] - 1s 145us/step - loss: 0.2780 - accuracy: 0.8816 - val_loss: 0.3761 - val_accuracy: 0.8529\n",
      "Epoch 45/50\n",
      "5600/5600 [==============================] - 1s 140us/step - loss: 0.2749 - accuracy: 0.8845 - val_loss: 0.3700 - val_accuracy: 0.8486\n",
      "Epoch 46/50\n",
      "5600/5600 [==============================] - 1s 141us/step - loss: 0.2739 - accuracy: 0.8843 - val_loss: 0.3693 - val_accuracy: 0.8471\n",
      "Epoch 47/50\n",
      "5600/5600 [==============================] - 1s 142us/step - loss: 0.2734 - accuracy: 0.8827 - val_loss: 0.3777 - val_accuracy: 0.8393\n",
      "Epoch 48/50\n",
      "5600/5600 [==============================] - 1s 144us/step - loss: 0.2735 - accuracy: 0.8855 - val_loss: 0.3710 - val_accuracy: 0.8443\n",
      "Epoch 49/50\n",
      "5600/5600 [==============================] - 1s 144us/step - loss: 0.2728 - accuracy: 0.8861 - val_loss: 0.3692 - val_accuracy: 0.8521\n",
      "Epoch 50/50\n",
      "5600/5600 [==============================] - 1s 143us/step - loss: 0.2711 - accuracy: 0.8852 - val_loss: 0.3749 - val_accuracy: 0.8443\n"
     ]
    }
   ],
   "source": [
    "# Train And measure Accuracy of model\n",
    " train_history_dense = dense_model.fit(X_train, y_train, batch_size=8, epochs=50, validation_split=0.2, verbose=1)"
   ]
  },
  {
   "cell_type": "code",
   "execution_count": 23,
   "metadata": {},
   "outputs": [
    {
     "data": {
      "image/png": "[encoded data removed]",
      "text/plain": [
       "<Figure size 432x288 with 1 Axes>"
      ]
     },
     "metadata": {
      "needs_background": "light"
     },
     "output_type": "display_data"
    },
    {
     "data": {
      "image/png": "[encoded data removed]",
      "text/plain": [
       "<Figure size 432x288 with 1 Axes>"
      ]
     },
     "metadata": {
      "needs_background": "light"
     },
     "output_type": "display_data"
    }
   ],
   "source": [
    "plot_accuracy_loss_chart(train_history_dense)"
   ]
  },
  {
   "cell_type": "markdown",
   "metadata": {},
   "source": [
    "## By adding additional Dense layer, accuracy and validation accuracy both are improving.However after some epoch( n = 5) validation loss increased and training accuracy become constant. trying to add 30% dropout layer between dense hidden layers to improve performance."
   ]
  },
  {
   "cell_type": "code",
   "execution_count": 24,
   "metadata": {},
   "outputs": [],
   "source": [
    "# Adding dense layer with 30% drop out\n",
    "dense_model_with_dropout = Sequential(name=\"dense_model\")\n",
    "dense_model_with_dropout.add(Dense(32, activation = 'relu', input_shape = (X_train.shape[1],),name=\"Hidden1\"))\n",
    "dense_model_with_dropout.add(Dropout(rate=0.3)) \n",
    "dense_model_with_dropout.add(Dense(32, activation = 'relu',name=\"Hidden2\"))\n",
    "dense_model_with_dropout.add(Dropout(rate=0.3))\n",
    "dense_model_with_dropout.add(Dense(1, activation = 'sigmoid',name=\"Output\"))\n",
    "dense_model_with_dropout.compile(optimizer='adam', loss = 'binary_crossentropy', metrics=['accuracy'])"
   ]
  },
  {
   "cell_type": "code",
   "execution_count": 25,
   "metadata": {},
   "outputs": [
    {
     "data": {
      "image/png": "[encoded data removed]",
      "text/plain": [
       "<IPython.core.display.Image object>"
      ]
     },
     "execution_count": 25,
     "metadata": {},
     "output_type": "execute_result"
    }
   ],
   "source": [
    "# Check model in graph\n",
    "plot_model(dense_model_with_dropout, to_file='dense_model_with_dropout.png', show_shapes=True, show_layer_names=True)"
   ]
  },
  {
   "cell_type": "code",
   "execution_count": 26,
   "metadata": {},
   "outputs": [
    {
     "name": "stdout",
     "output_type": "stream",
     "text": [
      "Train on 5600 samples, validate on 1400 samples\n",
      "Epoch 1/50\n",
      "5600/5600 [==============================] - 1s 207us/step - loss: 0.5046 - accuracy: 0.7771 - val_loss: 0.4244 - val_accuracy: 0.8093\n",
      "Epoch 2/50\n",
      "5600/5600 [==============================] - 1s 178us/step - loss: 0.4435 - accuracy: 0.8111 - val_loss: 0.4038 - val_accuracy: 0.8293\n",
      "Epoch 3/50\n",
      "5600/5600 [==============================] - 1s 166us/step - loss: 0.4287 - accuracy: 0.8204 - val_loss: 0.3853 - val_accuracy: 0.8429\n",
      "Epoch 4/50\n",
      "5600/5600 [==============================] - 1s 165us/step - loss: 0.4035 - accuracy: 0.8336 - val_loss: 0.3707 - val_accuracy: 0.8486\n",
      "Epoch 5/50\n",
      "5600/5600 [==============================] - 1s 164us/step - loss: 0.3961 - accuracy: 0.8314 - val_loss: 0.3690 - val_accuracy: 0.8457\n",
      "Epoch 6/50\n",
      "5600/5600 [==============================] - 1s 167us/step - loss: 0.3823 - accuracy: 0.8402 - val_loss: 0.3621 - val_accuracy: 0.8471\n",
      "Epoch 7/50\n",
      "5600/5600 [==============================] - 1s 168us/step - loss: 0.3756 - accuracy: 0.8416 - val_loss: 0.3623 - val_accuracy: 0.8450\n",
      "Epoch 8/50\n",
      "5600/5600 [==============================] - 1s 176us/step - loss: 0.3761 - accuracy: 0.8439 - val_loss: 0.3585 - val_accuracy: 0.8493\n",
      "Epoch 9/50\n",
      "5600/5600 [==============================] - 1s 176us/step - loss: 0.3730 - accuracy: 0.8439 - val_loss: 0.3566 - val_accuracy: 0.8479\n",
      "Epoch 10/50\n",
      "5600/5600 [==============================] - 1s 174us/step - loss: 0.3684 - accuracy: 0.8487 - val_loss: 0.3537 - val_accuracy: 0.8543\n",
      "Epoch 11/50\n",
      "5600/5600 [==============================] - 1s 177us/step - loss: 0.3644 - accuracy: 0.8496 - val_loss: 0.3508 - val_accuracy: 0.8543\n",
      "Epoch 12/50\n",
      "5600/5600 [==============================] - 1s 174us/step - loss: 0.3653 - accuracy: 0.8486 - val_loss: 0.3551 - val_accuracy: 0.8507\n",
      "Epoch 13/50\n",
      "5600/5600 [==============================] - 1s 166us/step - loss: 0.3665 - accuracy: 0.8509 - val_loss: 0.3509 - val_accuracy: 0.8557\n",
      "Epoch 14/50\n",
      "5600/5600 [==============================] - 1s 163us/step - loss: 0.3674 - accuracy: 0.8537 - val_loss: 0.3521 - val_accuracy: 0.8557\n",
      "Epoch 15/50\n",
      "5600/5600 [==============================] - 1s 165us/step - loss: 0.3629 - accuracy: 0.8500 - val_loss: 0.3560 - val_accuracy: 0.8514\n",
      "Epoch 16/50\n",
      "5600/5600 [==============================] - 1s 165us/step - loss: 0.3567 - accuracy: 0.8575 - val_loss: 0.3527 - val_accuracy: 0.8536\n",
      "Epoch 17/50\n",
      "5600/5600 [==============================] - 1s 167us/step - loss: 0.3624 - accuracy: 0.8496 - val_loss: 0.3553 - val_accuracy: 0.8514\n",
      "Epoch 18/50\n",
      "5600/5600 [==============================] - 1s 168us/step - loss: 0.3636 - accuracy: 0.8482 - val_loss: 0.3521 - val_accuracy: 0.8536\n",
      "Epoch 19/50\n",
      "5600/5600 [==============================] - 1s 168us/step - loss: 0.3594 - accuracy: 0.8514 - val_loss: 0.3508 - val_accuracy: 0.8564\n",
      "Epoch 20/50\n",
      "5600/5600 [==============================] - 1s 170us/step - loss: 0.3566 - accuracy: 0.8539 - val_loss: 0.3525 - val_accuracy: 0.8571\n",
      "Epoch 21/50\n",
      "5600/5600 [==============================] - 1s 162us/step - loss: 0.3598 - accuracy: 0.8536 - val_loss: 0.3528 - val_accuracy: 0.8564\n",
      "Epoch 22/50\n",
      "5600/5600 [==============================] - 1s 171us/step - loss: 0.3537 - accuracy: 0.8527 - val_loss: 0.3543 - val_accuracy: 0.8543\n",
      "Epoch 23/50\n",
      "5600/5600 [==============================] - 1s 171us/step - loss: 0.3532 - accuracy: 0.8523 - val_loss: 0.3505 - val_accuracy: 0.8529\n",
      "Epoch 24/50\n",
      "5600/5600 [==============================] - 1s 168us/step - loss: 0.3507 - accuracy: 0.8573 - val_loss: 0.3537 - val_accuracy: 0.8514\n",
      "Epoch 25/50\n",
      "5600/5600 [==============================] - 1s 168us/step - loss: 0.3483 - accuracy: 0.8527 - val_loss: 0.3519 - val_accuracy: 0.8543\n",
      "Epoch 26/50\n",
      "5600/5600 [==============================] - 1s 167us/step - loss: 0.3462 - accuracy: 0.8571 - val_loss: 0.3517 - val_accuracy: 0.8536\n",
      "Epoch 27/50\n",
      "5600/5600 [==============================] - 1s 172us/step - loss: 0.3481 - accuracy: 0.8593 - val_loss: 0.3463 - val_accuracy: 0.8571\n",
      "Epoch 28/50\n",
      "5600/5600 [==============================] - 1s 165us/step - loss: 0.3437 - accuracy: 0.8582 - val_loss: 0.3480 - val_accuracy: 0.8507\n",
      "Epoch 29/50\n",
      "5600/5600 [==============================] - 1s 173us/step - loss: 0.3403 - accuracy: 0.8584 - val_loss: 0.3463 - val_accuracy: 0.8536\n",
      "Epoch 30/50\n",
      "5600/5600 [==============================] - 1s 171us/step - loss: 0.3472 - accuracy: 0.8559 - val_loss: 0.3489 - val_accuracy: 0.8536\n",
      "Epoch 31/50\n",
      "5600/5600 [==============================] - 1s 175us/step - loss: 0.3448 - accuracy: 0.8570 - val_loss: 0.3494 - val_accuracy: 0.8536\n",
      "Epoch 32/50\n",
      "5600/5600 [==============================] - 1s 181us/step - loss: 0.3394 - accuracy: 0.8634 - val_loss: 0.3487 - val_accuracy: 0.8536\n",
      "Epoch 33/50\n",
      "5600/5600 [==============================] - 1s 169us/step - loss: 0.3446 - accuracy: 0.8561 - val_loss: 0.3468 - val_accuracy: 0.8543\n",
      "Epoch 34/50\n",
      "5600/5600 [==============================] - 1s 178us/step - loss: 0.3455 - accuracy: 0.8589 - val_loss: 0.3464 - val_accuracy: 0.8557\n",
      "Epoch 35/50\n",
      "5600/5600 [==============================] - 1s 171us/step - loss: 0.3481 - accuracy: 0.8580 - val_loss: 0.3468 - val_accuracy: 0.8529\n",
      "Epoch 36/50\n",
      "5600/5600 [==============================] - 1s 166us/step - loss: 0.3440 - accuracy: 0.8575 - val_loss: 0.3488 - val_accuracy: 0.8543\n",
      "Epoch 37/50\n",
      "5600/5600 [==============================] - 1s 162us/step - loss: 0.3436 - accuracy: 0.8587 - val_loss: 0.3490 - val_accuracy: 0.8571\n",
      "Epoch 38/50\n",
      "5600/5600 [==============================] - 1s 170us/step - loss: 0.3451 - accuracy: 0.8591 - val_loss: 0.3489 - val_accuracy: 0.8543\n",
      "Epoch 39/50\n",
      "5600/5600 [==============================] - 1s 176us/step - loss: 0.3430 - accuracy: 0.8580 - val_loss: 0.3480 - val_accuracy: 0.8557\n",
      "Epoch 40/50\n",
      "5600/5600 [==============================] - 1s 175us/step - loss: 0.3403 - accuracy: 0.8598 - val_loss: 0.3461 - val_accuracy: 0.8543\n",
      "Epoch 41/50\n",
      "5600/5600 [==============================] - 1s 181us/step - loss: 0.3411 - accuracy: 0.8593 - val_loss: 0.3471 - val_accuracy: 0.8521\n",
      "Epoch 42/50\n",
      "5600/5600 [==============================] - 1s 170us/step - loss: 0.3395 - accuracy: 0.8612 - val_loss: 0.3459 - val_accuracy: 0.8529\n",
      "Epoch 43/50\n",
      "5600/5600 [==============================] - 1s 177us/step - loss: 0.3380 - accuracy: 0.8609 - val_loss: 0.3441 - val_accuracy: 0.8571\n",
      "Epoch 44/50\n",
      "5600/5600 [==============================] - 1s 220us/step - loss: 0.3383 - accuracy: 0.8611 - val_loss: 0.3440 - val_accuracy: 0.8529\n",
      "Epoch 45/50\n",
      "5600/5600 [==============================] - 1s 197us/step - loss: 0.3328 - accuracy: 0.8629 - val_loss: 0.3485 - val_accuracy: 0.8564\n",
      "Epoch 46/50\n",
      "5600/5600 [==============================] - 1s 229us/step - loss: 0.3412 - accuracy: 0.8625 - val_loss: 0.3468 - val_accuracy: 0.8564\n",
      "Epoch 47/50\n",
      "5600/5600 [==============================] - 1s 216us/step - loss: 0.3361 - accuracy: 0.8618 - val_loss: 0.3439 - val_accuracy: 0.8586\n",
      "Epoch 48/50\n",
      "5600/5600 [==============================] - 1s 229us/step - loss: 0.3353 - accuracy: 0.8625 - val_loss: 0.3501 - val_accuracy: 0.8586\n",
      "Epoch 49/50\n",
      "5600/5600 [==============================] - 1s 233us/step - loss: 0.3356 - accuracy: 0.8607 - val_loss: 0.3449 - val_accuracy: 0.8593\n",
      "Epoch 50/50\n",
      "5600/5600 [==============================] - 1s 261us/step - loss: 0.3365 - accuracy: 0.8614 - val_loss: 0.3460 - val_accuracy: 0.8614\n"
     ]
    }
   ],
   "source": [
    "#Train And measure Accuracy of model, here batch size epoch are hyperparams, will adjust for performance\n",
    "train_history_dropout = dense_model_with_dropout.fit(X_train, y_train, batch_size=8, epochs=50, validation_split=0.2, verbose=1)"
   ]
  },
  {
   "cell_type": "code",
   "execution_count": 27,
   "metadata": {},
   "outputs": [
    {
     "data": {
      "image/png": "[encoded data removed]",
      "text/plain": [
       "<Figure size 432x288 with 1 Axes>"
      ]
     },
     "metadata": {
      "needs_background": "light"
     },
     "output_type": "display_data"
    },
    {
     "data": {
      "image/png": "[encoded data removed]",
      "text/plain": [
       "<Figure size 432x288 with 1 Axes>"
      ]
     },
     "metadata": {
      "needs_background": "light"
     },
     "output_type": "display_data"
    }
   ],
   "source": [
    "plot_accuracy_loss_chart(train_history_dropout)"
   ]
  },
  {
   "cell_type": "markdown",
   "metadata": {},
   "source": [
    "## After adding dropout layer, both training accuracy and validation accuracy increased with epoch and both losses ( validation, training) decresed with epoch. this is the best imporved model so far. Use this for confusion matrix evalution"
   ]
  },
  {
   "cell_type": "code",
   "execution_count": 28,
   "metadata": {},
   "outputs": [],
   "source": [
    "# Trying to improve model with other optimizer\n",
    "rmsprop = tf.keras.optimizers.RMSprop(learning_rate=0.1)\n",
    "sgd =  tf.keras.optimizers.SGD(learning_rate=0.1)"
   ]
  },
  {
   "cell_type": "code",
   "execution_count": 29,
   "metadata": {},
   "outputs": [],
   "source": [
    "#RmsProp\n",
    "dense_model_with_dropout_rmsprop = Sequential(name=\"dense_model_rmsprop\")\n",
    "dense_model_with_dropout_rmsprop.add(Dense(32, activation = 'relu', input_shape = (X_train.shape[1],),name=\"Hidden1\"))\n",
    "dense_model_with_dropout_rmsprop.add(Dropout(rate=0.3)) \n",
    "dense_model_with_dropout_rmsprop.add(Dense(32, activation = 'relu',name=\"Hidden2\"))\n",
    "dense_model_with_dropout_rmsprop.add(Dropout(rate=0.3))\n",
    "dense_model_with_dropout_rmsprop.add(Dense(1, activation = 'sigmoid',name=\"Output\"))\n",
    "dense_model_with_dropout_rmsprop.compile(optimizer=rmsprop, loss = 'binary_crossentropy', metrics=['accuracy'])"
   ]
  },
  {
   "cell_type": "code",
   "execution_count": 30,
   "metadata": {},
   "outputs": [
    {
     "name": "stdout",
     "output_type": "stream",
     "text": [
      "Train on 5600 samples, validate on 1400 samples\n",
      "Epoch 1/50\n",
      "5600/5600 [==============================] - 1s 188us/step - loss: 0.7373 - accuracy: 0.7709 - val_loss: 0.5386 - val_accuracy: 0.7943\n",
      "Epoch 2/50\n",
      "5600/5600 [==============================] - 1s 160us/step - loss: 0.6554 - accuracy: 0.7771 - val_loss: 0.5242 - val_accuracy: 0.7943\n",
      "Epoch 3/50\n",
      "5600/5600 [==============================] - 1s 162us/step - loss: 0.6777 - accuracy: 0.7818 - val_loss: 0.8161 - val_accuracy: 0.7914\n",
      "Epoch 4/50\n",
      "5600/5600 [==============================] - 1s 153us/step - loss: 0.6849 - accuracy: 0.7855 - val_loss: 0.5156 - val_accuracy: 0.7943\n",
      "Epoch 5/50\n",
      "5600/5600 [==============================] - 1s 155us/step - loss: 0.6696 - accuracy: 0.7873 - val_loss: 0.4985 - val_accuracy: 0.7943\n",
      "Epoch 6/50\n",
      "5600/5600 [==============================] - 1s 165us/step - loss: 0.7128 - accuracy: 0.7852 - val_loss: 0.5103 - val_accuracy: 0.7943\n",
      "Epoch 7/50\n",
      "5600/5600 [==============================] - 1s 160us/step - loss: 0.6567 - accuracy: 0.7891 - val_loss: 0.5938 - val_accuracy: 0.7943\n",
      "Epoch 8/50\n",
      "5600/5600 [==============================] - 1s 161us/step - loss: 0.6613 - accuracy: 0.7862 - val_loss: 0.5787 - val_accuracy: 0.7943\n",
      "Epoch 9/50\n",
      "5600/5600 [==============================] - 1s 151us/step - loss: 0.6220 - accuracy: 0.7893 - val_loss: 0.5079 - val_accuracy: 0.7943\n",
      "Epoch 10/50\n",
      "5600/5600 [==============================] - 1s 177us/step - loss: 0.6273 - accuracy: 0.7900 - val_loss: 0.5125 - val_accuracy: 0.7943\n",
      "Epoch 11/50\n",
      "5600/5600 [==============================] - 1s 158us/step - loss: 0.6606 - accuracy: 0.7891 - val_loss: 0.6183 - val_accuracy: 0.7943\n",
      "Epoch 12/50\n",
      "5600/5600 [==============================] - 1s 161us/step - loss: 0.6968 - accuracy: 0.7877 - val_loss: 0.5183 - val_accuracy: 0.7886\n",
      "Epoch 13/50\n",
      "5600/5600 [==============================] - 1s 164us/step - loss: 0.7405 - accuracy: 0.7870 - val_loss: 0.5998 - val_accuracy: 0.7829\n",
      "Epoch 14/50\n",
      "5600/5600 [==============================] - 1s 153us/step - loss: 0.6390 - accuracy: 0.7871 - val_loss: 0.6588 - val_accuracy: 0.8171\n",
      "Epoch 15/50\n",
      "5600/5600 [==============================] - 1s 157us/step - loss: 0.6715 - accuracy: 0.7923 - val_loss: 0.5056 - val_accuracy: 0.7943\n",
      "Epoch 16/50\n",
      "5600/5600 [==============================] - 1s 160us/step - loss: 0.6436 - accuracy: 0.7866 - val_loss: 0.6298 - val_accuracy: 0.7914\n",
      "Epoch 17/50\n",
      "5600/5600 [==============================] - 1s 152us/step - loss: 0.6463 - accuracy: 0.7870 - val_loss: 0.6131 - val_accuracy: 0.7943\n",
      "Epoch 18/50\n",
      "5600/5600 [==============================] - 1s 171us/step - loss: 0.7684 - accuracy: 0.7852 - val_loss: 0.5230 - val_accuracy: 0.7943\n",
      "Epoch 19/50\n",
      "5600/5600 [==============================] - 1s 169us/step - loss: 0.5946 - accuracy: 0.7911 - val_loss: 0.5373 - val_accuracy: 0.8007\n",
      "Epoch 20/50\n",
      "5600/5600 [==============================] - 1s 165us/step - loss: 0.6910 - accuracy: 0.7995 - val_loss: 0.4718 - val_accuracy: 0.8186\n",
      "Epoch 21/50\n",
      "5600/5600 [==============================] - 1s 159us/step - loss: 0.7301 - accuracy: 0.7993 - val_loss: 0.4971 - val_accuracy: 0.7993\n",
      "Epoch 22/50\n",
      "5600/5600 [==============================] - 1s 167us/step - loss: 0.6087 - accuracy: 0.7977 - val_loss: 0.7025 - val_accuracy: 0.8107\n",
      "Epoch 23/50\n",
      "5600/5600 [==============================] - 1s 173us/step - loss: 0.6640 - accuracy: 0.7916 - val_loss: 0.6038 - val_accuracy: 0.7943\n",
      "Epoch 24/50\n",
      "5600/5600 [==============================] - 1s 155us/step - loss: 0.6404 - accuracy: 0.7879 - val_loss: 0.5517 - val_accuracy: 0.7943\n",
      "Epoch 25/50\n",
      "5600/5600 [==============================] - 1s 161us/step - loss: 0.7055 - accuracy: 0.7898 - val_loss: 0.5365 - val_accuracy: 0.7943\n",
      "Epoch 26/50\n",
      "5600/5600 [==============================] - 1s 159us/step - loss: 0.7506 - accuracy: 0.7887 - val_loss: 0.7769 - val_accuracy: 0.7171\n",
      "Epoch 27/50\n",
      "5600/5600 [==============================] - 1s 156us/step - loss: 0.6862 - accuracy: 0.7866 - val_loss: 0.7084 - val_accuracy: 0.7943\n",
      "Epoch 28/50\n",
      "5600/5600 [==============================] - 1s 158us/step - loss: 0.8306 - accuracy: 0.7879 - val_loss: 0.7663 - val_accuracy: 0.7943\n",
      "Epoch 29/50\n",
      "5600/5600 [==============================] - 1s 154us/step - loss: 0.6549 - accuracy: 0.7875 - val_loss: 1.0247 - val_accuracy: 0.7943\n",
      "Epoch 30/50\n",
      "5600/5600 [==============================] - 1s 154us/step - loss: 0.6893 - accuracy: 0.7887 - val_loss: 1.0903 - val_accuracy: 0.7943\n",
      "Epoch 31/50\n",
      "5600/5600 [==============================] - 1s 156us/step - loss: 0.8216 - accuracy: 0.7861 - val_loss: 0.6888 - val_accuracy: 0.7943\n",
      "Epoch 32/50\n",
      "5600/5600 [==============================] - 1s 154us/step - loss: 0.7553 - accuracy: 0.7889 - val_loss: 0.8837 - val_accuracy: 0.7943\n",
      "Epoch 33/50\n",
      "5600/5600 [==============================] - 1s 155us/step - loss: 0.6025 - accuracy: 0.7891 - val_loss: 2.0970 - val_accuracy: 0.7943\n",
      "Epoch 34/50\n",
      "5600/5600 [==============================] - 1s 155us/step - loss: 0.9004 - accuracy: 0.7877 - val_loss: 0.7138 - val_accuracy: 0.7807\n",
      "Epoch 35/50\n",
      "5600/5600 [==============================] - 1s 154us/step - loss: 0.6788 - accuracy: 0.7879 - val_loss: 0.7412 - val_accuracy: 0.7943\n",
      "Epoch 36/50\n",
      "5600/5600 [==============================] - 1s 153us/step - loss: 0.6657 - accuracy: 0.7952 - val_loss: 0.6394 - val_accuracy: 0.8129\n",
      "Epoch 37/50\n",
      "5600/5600 [==============================] - 1s 169us/step - loss: 0.6790 - accuracy: 0.8011 - val_loss: 0.7663 - val_accuracy: 0.8150\n",
      "Epoch 38/50\n",
      "5600/5600 [==============================] - 1s 149us/step - loss: 0.6833 - accuracy: 0.8018 - val_loss: 0.8383 - val_accuracy: 0.8186\n",
      "Epoch 39/50\n",
      "5600/5600 [==============================] - 1s 151us/step - loss: 0.7679 - accuracy: 0.7982 - val_loss: 0.6433 - val_accuracy: 0.8043\n",
      "Epoch 40/50\n",
      "5600/5600 [==============================] - 1s 153us/step - loss: 0.6591 - accuracy: 0.8027 - val_loss: 0.6938 - val_accuracy: 0.8136\n",
      "Epoch 41/50\n",
      "5600/5600 [==============================] - 1s 152us/step - loss: 0.7075 - accuracy: 0.7998 - val_loss: 0.8380 - val_accuracy: 0.8150\n",
      "Epoch 42/50\n",
      "5600/5600 [==============================] - 1s 172us/step - loss: 0.7938 - accuracy: 0.7948 - val_loss: 0.7674 - val_accuracy: 0.8029\n",
      "Epoch 43/50\n",
      "5600/5600 [==============================] - 1s 174us/step - loss: 0.7131 - accuracy: 0.7964 - val_loss: 0.7804 - val_accuracy: 0.8157\n",
      "Epoch 44/50\n",
      "5600/5600 [==============================] - 1s 165us/step - loss: 0.6884 - accuracy: 0.7977 - val_loss: 0.5550 - val_accuracy: 0.8107\n",
      "Epoch 45/50\n",
      "5600/5600 [==============================] - 1s 169us/step - loss: 0.6433 - accuracy: 0.8009 - val_loss: 0.6018 - val_accuracy: 0.8021\n",
      "Epoch 46/50\n",
      "5600/5600 [==============================] - 1s 158us/step - loss: 0.6566 - accuracy: 0.8014 - val_loss: 0.8534 - val_accuracy: 0.8121\n",
      "Epoch 47/50\n",
      "5600/5600 [==============================] - 1s 163us/step - loss: 0.8189 - accuracy: 0.7995 - val_loss: 0.6535 - val_accuracy: 0.8029\n",
      "Epoch 48/50\n",
      "5600/5600 [==============================] - 1s 163us/step - loss: 0.8352 - accuracy: 0.7950 - val_loss: 0.6692 - val_accuracy: 0.8014\n",
      "Epoch 49/50\n",
      "5600/5600 [==============================] - 1s 155us/step - loss: 0.8076 - accuracy: 0.7987 - val_loss: 0.5664 - val_accuracy: 0.7871\n",
      "Epoch 50/50\n",
      "5600/5600 [==============================] - 1s 164us/step - loss: 0.6783 - accuracy: 0.7979 - val_loss: 1.0154 - val_accuracy: 0.6964\n"
     ]
    }
   ],
   "source": [
    "train_history_dropout_rmsprop = dense_model_with_dropout_rmsprop.fit(X_train, y_train, batch_size=8, epochs=50, validation_split=0.2, verbose=1)"
   ]
  },
  {
   "cell_type": "code",
   "execution_count": 31,
   "metadata": {},
   "outputs": [
    {
     "data": {
      "image/png": "[encoded data removed]",
      "text/plain": [
       "<Figure size 432x288 with 1 Axes>"
      ]
     },
     "metadata": {
      "needs_background": "light"
     },
     "output_type": "display_data"
    },
    {
     "data": {
      "image/png": "[encoded data removed]",
      "text/plain": [
       "<Figure size 432x288 with 1 Axes>"
      ]
     },
     "metadata": {
      "needs_background": "light"
     },
     "output_type": "display_data"
    }
   ],
   "source": [
    "plot_accuracy_loss_chart(train_history_dropout_rmsprop)"
   ]
  },
  {
   "cell_type": "markdown",
   "metadata": {},
   "source": [
    "### RMSprop optimizer is not giving accurate result. also it is flatulating."
   ]
  },
  {
   "cell_type": "code",
   "execution_count": 32,
   "metadata": {},
   "outputs": [],
   "source": [
    "#SGD\n",
    "dense_model_with_dropout_sgd = Sequential(name=\"dense_model_sgd\")\n",
    "dense_model_with_dropout_sgd.add(Dense(32, activation = 'relu', input_shape = (X_train.shape[1],),name=\"Hidden1\"))\n",
    "dense_model_with_dropout_sgd.add(Dropout(rate=0.3)) \n",
    "dense_model_with_dropout_sgd.add(Dense(32, activation = 'relu',name=\"Hidden2\"))\n",
    "dense_model_with_dropout_sgd.add(Dropout(rate=0.3))\n",
    "dense_model_with_dropout_sgd.add(Dense(1, activation = 'sigmoid',name=\"Output\"))\n",
    "dense_model_with_dropout_sgd.compile(optimizer=sgd, loss = 'binary_crossentropy', metrics=['accuracy'])"
   ]
  },
  {
   "cell_type": "code",
   "execution_count": 33,
   "metadata": {},
   "outputs": [
    {
     "name": "stdout",
     "output_type": "stream",
     "text": [
      "Train on 5600 samples, validate on 1400 samples\n",
      "Epoch 1/50\n",
      "5600/5600 [==============================] - 1s 162us/step - loss: 0.4740 - accuracy: 0.8009 - val_loss: 0.4113 - val_accuracy: 0.8221\n",
      "Epoch 2/50\n",
      "5600/5600 [==============================] - 1s 149us/step - loss: 0.4198 - accuracy: 0.8209 - val_loss: 0.3948 - val_accuracy: 0.8221\n",
      "Epoch 3/50\n",
      "5600/5600 [==============================] - 1s 147us/step - loss: 0.3977 - accuracy: 0.8321 - val_loss: 0.3658 - val_accuracy: 0.8471\n",
      "Epoch 4/50\n",
      "5600/5600 [==============================] - 1s 148us/step - loss: 0.3968 - accuracy: 0.8314 - val_loss: 0.3695 - val_accuracy: 0.8507\n",
      "Epoch 5/50\n",
      "5600/5600 [==============================] - 1s 150us/step - loss: 0.3845 - accuracy: 0.8402 - val_loss: 0.3689 - val_accuracy: 0.8379\n",
      "Epoch 6/50\n",
      "5600/5600 [==============================] - 1s 144us/step - loss: 0.3784 - accuracy: 0.8386 - val_loss: 0.3650 - val_accuracy: 0.8479\n",
      "Epoch 7/50\n",
      "5600/5600 [==============================] - 1s 146us/step - loss: 0.3776 - accuracy: 0.8439 - val_loss: 0.3630 - val_accuracy: 0.8464\n",
      "Epoch 8/50\n",
      "5600/5600 [==============================] - 1s 151us/step - loss: 0.3787 - accuracy: 0.8384 - val_loss: 0.3635 - val_accuracy: 0.8471\n",
      "Epoch 9/50\n",
      "5600/5600 [==============================] - 1s 151us/step - loss: 0.3666 - accuracy: 0.8468 - val_loss: 0.3588 - val_accuracy: 0.8500\n",
      "Epoch 10/50\n",
      "5600/5600 [==============================] - 1s 147us/step - loss: 0.3664 - accuracy: 0.8459 - val_loss: 0.3617 - val_accuracy: 0.8507\n",
      "Epoch 11/50\n",
      "5600/5600 [==============================] - 1s 156us/step - loss: 0.3704 - accuracy: 0.8454 - val_loss: 0.3587 - val_accuracy: 0.8479\n",
      "Epoch 12/50\n",
      "5600/5600 [==============================] - 1s 153us/step - loss: 0.3633 - accuracy: 0.8487 - val_loss: 0.3579 - val_accuracy: 0.8479\n",
      "Epoch 13/50\n",
      "5600/5600 [==============================] - 1s 145us/step - loss: 0.3636 - accuracy: 0.8473 - val_loss: 0.3552 - val_accuracy: 0.8521\n",
      "Epoch 14/50\n",
      "5600/5600 [==============================] - 1s 153us/step - loss: 0.3583 - accuracy: 0.8505 - val_loss: 0.3516 - val_accuracy: 0.8500\n",
      "Epoch 15/50\n",
      "5600/5600 [==============================] - 1s 150us/step - loss: 0.3621 - accuracy: 0.8480 - val_loss: 0.3649 - val_accuracy: 0.8429\n",
      "Epoch 16/50\n",
      "5600/5600 [==============================] - 1s 154us/step - loss: 0.3585 - accuracy: 0.8504 - val_loss: 0.3535 - val_accuracy: 0.8543\n",
      "Epoch 17/50\n",
      "5600/5600 [==============================] - 1s 152us/step - loss: 0.3584 - accuracy: 0.8536 - val_loss: 0.3581 - val_accuracy: 0.8443\n",
      "Epoch 18/50\n",
      "5600/5600 [==============================] - 1s 150us/step - loss: 0.3546 - accuracy: 0.8520 - val_loss: 0.3557 - val_accuracy: 0.8479\n",
      "Epoch 19/50\n",
      "5600/5600 [==============================] - 1s 146us/step - loss: 0.3571 - accuracy: 0.8486 - val_loss: 0.3669 - val_accuracy: 0.8464\n",
      "Epoch 20/50\n",
      "5600/5600 [==============================] - 1s 142us/step - loss: 0.3523 - accuracy: 0.8539 - val_loss: 0.3626 - val_accuracy: 0.8486\n",
      "Epoch 21/50\n",
      "5600/5600 [==============================] - 1s 148us/step - loss: 0.3553 - accuracy: 0.8505 - val_loss: 0.3478 - val_accuracy: 0.8593\n",
      "Epoch 22/50\n",
      "5600/5600 [==============================] - 1s 146us/step - loss: 0.3548 - accuracy: 0.8491 - val_loss: 0.3542 - val_accuracy: 0.8564\n",
      "Epoch 23/50\n",
      "5600/5600 [==============================] - 1s 144us/step - loss: 0.3520 - accuracy: 0.8521 - val_loss: 0.3517 - val_accuracy: 0.8521\n",
      "Epoch 24/50\n",
      "5600/5600 [==============================] - 1s 148us/step - loss: 0.3497 - accuracy: 0.8550 - val_loss: 0.3495 - val_accuracy: 0.8529\n",
      "Epoch 25/50\n",
      "5600/5600 [==============================] - 1s 152us/step - loss: 0.3497 - accuracy: 0.8545 - val_loss: 0.3571 - val_accuracy: 0.8557\n",
      "Epoch 26/50\n",
      "5600/5600 [==============================] - 1s 150us/step - loss: 0.3485 - accuracy: 0.8557 - val_loss: 0.3520 - val_accuracy: 0.8536\n",
      "Epoch 27/50\n",
      "5600/5600 [==============================] - 1s 148us/step - loss: 0.3547 - accuracy: 0.8570 - val_loss: 0.3512 - val_accuracy: 0.8486\n",
      "Epoch 28/50\n",
      "5600/5600 [==============================] - 1s 146us/step - loss: 0.3449 - accuracy: 0.8575 - val_loss: 0.3560 - val_accuracy: 0.8536\n",
      "Epoch 29/50\n",
      "5600/5600 [==============================] - 1s 149us/step - loss: 0.3494 - accuracy: 0.8559 - val_loss: 0.3499 - val_accuracy: 0.8521\n",
      "Epoch 30/50\n",
      "5600/5600 [==============================] - 1s 151us/step - loss: 0.3433 - accuracy: 0.8589 - val_loss: 0.3578 - val_accuracy: 0.8514\n",
      "Epoch 31/50\n",
      "5600/5600 [==============================] - 1s 146us/step - loss: 0.3513 - accuracy: 0.8561 - val_loss: 0.3522 - val_accuracy: 0.8529\n",
      "Epoch 32/50\n",
      "5600/5600 [==============================] - 1s 148us/step - loss: 0.3542 - accuracy: 0.8550 - val_loss: 0.3583 - val_accuracy: 0.8500\n",
      "Epoch 33/50\n",
      "5600/5600 [==============================] - 1s 148us/step - loss: 0.3468 - accuracy: 0.8543 - val_loss: 0.3616 - val_accuracy: 0.8536\n",
      "Epoch 34/50\n",
      "5600/5600 [==============================] - 1s 145us/step - loss: 0.3458 - accuracy: 0.8570 - val_loss: 0.3599 - val_accuracy: 0.8486\n",
      "Epoch 35/50\n",
      "5600/5600 [==============================] - 1s 149us/step - loss: 0.3487 - accuracy: 0.8545 - val_loss: 0.3527 - val_accuracy: 0.8564\n",
      "Epoch 36/50\n",
      "5600/5600 [==============================] - 1s 149us/step - loss: 0.3498 - accuracy: 0.8595 - val_loss: 0.3614 - val_accuracy: 0.8593\n",
      "Epoch 37/50\n",
      "5600/5600 [==============================] - 1s 145us/step - loss: 0.3450 - accuracy: 0.8616 - val_loss: 0.3485 - val_accuracy: 0.8521\n",
      "Epoch 38/50\n",
      "5600/5600 [==============================] - 1s 151us/step - loss: 0.3525 - accuracy: 0.8521 - val_loss: 0.3591 - val_accuracy: 0.8493\n",
      "Epoch 39/50\n",
      "5600/5600 [==============================] - 1s 151us/step - loss: 0.3507 - accuracy: 0.8543 - val_loss: 0.3594 - val_accuracy: 0.8543\n",
      "Epoch 40/50\n",
      "5600/5600 [==============================] - 1s 147us/step - loss: 0.3455 - accuracy: 0.8561 - val_loss: 0.3492 - val_accuracy: 0.8579\n",
      "Epoch 41/50\n",
      "5600/5600 [==============================] - 1s 150us/step - loss: 0.3462 - accuracy: 0.8561 - val_loss: 0.3539 - val_accuracy: 0.8507\n",
      "Epoch 42/50\n",
      "5600/5600 [==============================] - 1s 156us/step - loss: 0.3477 - accuracy: 0.8561 - val_loss: 0.3555 - val_accuracy: 0.8457\n",
      "Epoch 43/50\n",
      "5600/5600 [==============================] - 1s 145us/step - loss: 0.3404 - accuracy: 0.8654 - val_loss: 0.3625 - val_accuracy: 0.8464\n",
      "Epoch 44/50\n",
      "5600/5600 [==============================] - 1s 145us/step - loss: 0.3452 - accuracy: 0.8612 - val_loss: 0.3567 - val_accuracy: 0.8543\n",
      "Epoch 45/50\n",
      "5600/5600 [==============================] - 1s 151us/step - loss: 0.3410 - accuracy: 0.8584 - val_loss: 0.3588 - val_accuracy: 0.8514\n",
      "Epoch 46/50\n",
      "5600/5600 [==============================] - 1s 144us/step - loss: 0.3485 - accuracy: 0.8582 - val_loss: 0.3638 - val_accuracy: 0.8436\n",
      "Epoch 47/50\n",
      "5600/5600 [==============================] - 1s 153us/step - loss: 0.3452 - accuracy: 0.8573 - val_loss: 0.3605 - val_accuracy: 0.8493\n",
      "Epoch 48/50\n",
      "5600/5600 [==============================] - 1s 148us/step - loss: 0.3438 - accuracy: 0.8616 - val_loss: 0.3507 - val_accuracy: 0.8536\n",
      "Epoch 49/50\n",
      "5600/5600 [==============================] - 1s 146us/step - loss: 0.3448 - accuracy: 0.8580 - val_loss: 0.3600 - val_accuracy: 0.8514\n",
      "Epoch 50/50\n",
      "5600/5600 [==============================] - 1s 143us/step - loss: 0.3417 - accuracy: 0.8593 - val_loss: 0.3536 - val_accuracy: 0.8514\n"
     ]
    }
   ],
   "source": [
    "train_history_dropout_sgd = dense_model_with_dropout_sgd.fit(X_train, y_train, batch_size=8, epochs=50, validation_split=0.2, verbose=1)"
   ]
  },
  {
   "cell_type": "code",
   "execution_count": 34,
   "metadata": {},
   "outputs": [
    {
     "data": {
      "image/png": "[encoded data removed]",
      "text/plain": [
       "<Figure size 432x288 with 1 Axes>"
      ]
     },
     "metadata": {
      "needs_background": "light"
     },
     "output_type": "display_data"
    },
    {
     "data": {
      "image/png": "[encoded data removed]",
      "text/plain": [
       "<Figure size 432x288 with 1 Axes>"
      ]
     },
     "metadata": {
      "needs_background": "light"
     },
     "output_type": "display_data"
    }
   ],
   "source": [
    "plot_accuracy_loss_chart(train_history_dropout_sgd)"
   ]
  },
  {
   "cell_type": "markdown",
   "metadata": {},
   "source": [
    "### SGD is better than RMSProp but still Adam is the best optimizer."
   ]
  },
  {
   "cell_type": "markdown",
   "metadata": {},
   "source": [
    "## By observing above various experiments with neural network, Points of improvements are mentioned.\n",
    "\n",
    "1) Add dense layer into neural network increased accurarcy, multiple hidden layers model (n=2) is performing better than n=1.however, higher number of  hidden layers will causing overfit if your data is not enough.\n",
    "\n",
    "2) Adding Dropout significantly improve validation accuracy and validation loss which makes model more general.\n",
    "\n",
    "3) Adam optimizer is working the best compare to other two (sgd and rmsprop).\n",
    "\n",
    "4) final model gives ~89% accuracy which is moderatly good on relatively less data.\n"
   ]
  },
  {
   "cell_type": "markdown",
   "metadata": {},
   "source": [
    "# Predict the results using 0.5 as a threshold"
   ]
  },
  {
   "cell_type": "code",
   "execution_count": 35,
   "metadata": {},
   "outputs": [
    {
     "data": {
      "text/plain": [
       "array([[0],\n",
       "       [0],\n",
       "       [0],\n",
       "       ...,\n",
       "       [0],\n",
       "       [0],\n",
       "       [0]])"
      ]
     },
     "execution_count": 35,
     "metadata": {},
     "output_type": "execute_result"
    }
   ],
   "source": [
    "# Selecting dropout model with adam optimized and predicting result using thresold 0.5\n",
    "\n",
    "# define threshold\n",
    "threshold = 0.5\n",
    "\n",
    "# predicting results\n",
    "result = dense_model_with_dropout.predict(X_test)\n",
    "result = (result > threshold).astype(int)\n",
    "result"
   ]
  },
  {
   "cell_type": "markdown",
   "metadata": {},
   "source": [
    "# Print the Accuracy score and confusion matrix "
   ]
  },
  {
   "cell_type": "code",
   "execution_count": 36,
   "metadata": {},
   "outputs": [
    {
     "data": {
      "image/png": "[encoded data removed]",
      "text/plain": [
       "<Figure size 432x288 with 2 Axes>"
      ]
     },
     "metadata": {
      "needs_background": "light"
     },
     "output_type": "display_data"
    },
    {
     "name": "stdout",
     "output_type": "stream",
     "text": [
      "[[2367   49]\n",
      " [ 334  250]]\n"
     ]
    }
   ],
   "source": [
    "# Print confusion matrix for Neural network\n",
    "cm = confusion_matrix(y_test, result)\n",
    "sns.heatmap(cm, annot=True,  fmt='.2f', xticklabels = [0,1] , yticklabels = [0,1] )\n",
    "plt.ylabel('Observed')\n",
    "plt.xlabel('Predicted')\n",
    "plt.show()\n",
    "\n",
    "print(cm)"
   ]
  },
  {
   "cell_type": "code",
   "execution_count": 37,
   "metadata": {},
   "outputs": [
    {
     "name": "stdout",
     "output_type": "stream",
     "text": [
      "Accuracy of Neural network is: 0.8723333333333333\n"
     ]
    }
   ],
   "source": [
    "# Calculate Accuracy based on confusion matrix\n",
    "\n",
    "accuray = (cm[0][0] + cm[1][1]) / (cm[0][0] + cm[1][1] + cm[0][1] + cm[1][0])\n",
    "\n",
    "print(\"Accuracy of Neural network is: {}\".format(accuray))\n"
   ]
  },
  {
   "cell_type": "code",
   "execution_count": 38,
   "metadata": {},
   "outputs": [
    {
     "name": "stdout",
     "output_type": "stream",
     "text": [
      "Recall of Neural network is: 0.4280821917808219\n"
     ]
    }
   ],
   "source": [
    "# Calculate Recall\n",
    "recall = (cm[1][1]/(cm[1][1]+cm[1][0]))\n",
    "print(\"Recall of Neural network is: {}\".format(recall))       "
   ]
  },
  {
   "cell_type": "code",
   "execution_count": 39,
   "metadata": {},
   "outputs": [
    {
     "name": "stdout",
     "output_type": "stream",
     "text": [
      "Precision of Neural network is: 0.8361204013377926\n"
     ]
    }
   ],
   "source": [
    "# Calculate Precision\n",
    "precision = (cm[1][1]/(cm[1][1]+cm[0][1]))\n",
    "print(\"Precision of Neural network is: {}\".format(precision))  "
   ]
  },
  {
   "cell_type": "markdown",
   "metadata": {},
   "source": [
    "### Conclusion: Neural network with dropout layer , multiple hidden layers(n=2)  with Adam optimizer give accuracy on training set around 89% and on test set 86-88% which is fairly good accuracy."
   ]
  },
  {
   "cell_type": "code",
   "execution_count": null,
   "metadata": {},
   "outputs": [],
   "source": []
  }
 ],
 "metadata": {
  "kernelspec": {
   "display_name": "Python 3",
   "language": "python",
   "name": "python3"
  },
  "language_info": {
   "codemirror_mode": {
    "name": "ipython",
    "version": 3
   },
   "file_extension": ".py",
   "mimetype": "text/x-python",
   "name": "python",
   "nbconvert_exporter": "python",
   "pygments_lexer": "ipython3",
   "version": "3.6.8"
  }
 },
 "nbformat": 4,
 "nbformat_minor": 2
}
