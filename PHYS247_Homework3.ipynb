{
  "nbformat": 4,
  "nbformat_minor": 0,
  "metadata": {
    "colab": {
      "name": "PHYS247-Homework3.ipynb",
      "provenance": [],
      "collapsed_sections": [],
      "machine_shape": "hm"
    },
    "kernelspec": {
      "name": "python3",
      "display_name": "Python 3"
    }
  },
  "cells": [
    {
      "cell_type": "markdown",
      "metadata": {
        "id": "TdrpSvGqWe7k"
      },
      "source": [
        "# Problem 1: Markov chain Monte Carlo(MCMC)method for Homework2"
      ]
    },
    {
      "cell_type": "markdown",
      "metadata": {
        "id": "fBnX8pLwWnHu"
      },
      "source": [
        "### a) Write a Python code to implement the Metropolis-Hastings algorithm for the twitter problem in homework 2 and find the posterior distributions for λ 1 , λ 2 and W s . How do the initial value of parameters (the starting point) and number of iteration affect your results?"
      ]
    },
    {
      "cell_type": "code",
      "metadata": {
        "colab": {
          "resources": {
            "http://localhost:8080/nbextensions/google.colab/files.js": {
              "data": "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",
              "ok": true,
              "headers": [
                [
                  "content-type",
                  "application/javascript"
                ]
              ],
              "status": 200,
              "status_text": ""
            }
          },
          "base_uri": "https://localhost:8080/",
          "height": 72
        },
        "id": "Md3UQlMZWlyl",
        "outputId": "8b0f25d6-c272-4f6e-875d-10ec7e20e773"
      },
      "source": [
        "# import necessary libs\n",
        "import numpy as np\n",
        "import pandas as pd\n",
        "\n",
        "# upload tweets_counts.csv file\n",
        "from google.colab import files\n",
        "uploaded = files.upload()"
      ],
      "execution_count": null,
      "outputs": [
        {
          "output_type": "display_data",
          "data": {
            "text/html": [
              "\n",
              "     <input type=\"file\" id=\"files-a1d1fd88-21d1-4c5d-9b9b-495d8990faf4\" name=\"files[]\" multiple disabled\n",
              "        style=\"border:none\" />\n",
              "     <output id=\"result-a1d1fd88-21d1-4c5d-9b9b-495d8990faf4\">\n",
              "      Upload widget is only available when the cell has been executed in the\n",
              "      current browser session. Please rerun this cell to enable.\n",
              "      </output>\n",
              "      <script src=\"/nbextensions/google.colab/files.js\"></script> "
            ],
            "text/plain": [
              "<IPython.core.display.HTML object>"
            ]
          },
          "metadata": {
            "tags": []
          }
        },
        {
          "output_type": "stream",
          "text": [
            "Saving tweet_counts.csv to tweet_counts (1).csv\n"
          ],
          "name": "stdout"
        }
      ]
    },
    {
      "cell_type": "code",
      "metadata": {
        "id": "wTPwlbXf6byW"
      },
      "source": [
        "import matplotlib.pylab as plt\n",
        "plt.rcParams['figure.figsize']=8,6\n",
        "import seaborn as sns\n",
        "\n",
        "sns.set()"
      ],
      "execution_count": null,
      "outputs": []
    },
    {
      "cell_type": "code",
      "metadata": {
        "colab": {
          "base_uri": "https://localhost:8080/",
          "height": 204
        },
        "id": "zYWhK2zQXBWQ",
        "outputId": "275ea06e-2fd1-4682-a0c2-451872d8b812"
      },
      "source": [
        "# Read csv\n",
        "df = pd.read_csv(\"tweet_counts.csv\")\n",
        "df.head()"
      ],
      "execution_count": null,
      "outputs": [
        {
          "output_type": "execute_result",
          "data": {
            "text/html": [
              "<div>\n",
              "<style scoped>\n",
              "    .dataframe tbody tr th:only-of-type {\n",
              "        vertical-align: middle;\n",
              "    }\n",
              "\n",
              "    .dataframe tbody tr th {\n",
              "        vertical-align: top;\n",
              "    }\n",
              "\n",
              "    .dataframe thead th {\n",
              "        text-align: right;\n",
              "    }\n",
              "</style>\n",
              "<table border=\"1\" class=\"dataframe\">\n",
              "  <thead>\n",
              "    <tr style=\"text-align: right;\">\n",
              "      <th></th>\n",
              "      <th>week</th>\n",
              "      <th>count</th>\n",
              "    </tr>\n",
              "  </thead>\n",
              "  <tbody>\n",
              "    <tr>\n",
              "      <th>0</th>\n",
              "      <td>1</td>\n",
              "      <td>39.0</td>\n",
              "    </tr>\n",
              "    <tr>\n",
              "      <th>1</th>\n",
              "      <td>2</td>\n",
              "      <td>46.0</td>\n",
              "    </tr>\n",
              "    <tr>\n",
              "      <th>2</th>\n",
              "      <td>3</td>\n",
              "      <td>41.0</td>\n",
              "    </tr>\n",
              "    <tr>\n",
              "      <th>3</th>\n",
              "      <td>4</td>\n",
              "      <td>42.0</td>\n",
              "    </tr>\n",
              "    <tr>\n",
              "      <th>4</th>\n",
              "      <td>5</td>\n",
              "      <td>31.0</td>\n",
              "    </tr>\n",
              "  </tbody>\n",
              "</table>\n",
              "</div>"
            ],
            "text/plain": [
              "   week  count\n",
              "0     1   39.0\n",
              "1     2   46.0\n",
              "2     3   41.0\n",
              "3     4   42.0\n",
              "4     5   31.0"
            ]
          },
          "metadata": {
            "tags": []
          },
          "execution_count": 315
        }
      ]
    },
    {
      "cell_type": "code",
      "metadata": {
        "id": "LwqvKTrKXKWK"
      },
      "source": [
        "# Store variables\n",
        "count = df['count']\n",
        "week = df['week']"
      ],
      "execution_count": null,
      "outputs": []
    },
    {
      "cell_type": "code",
      "metadata": {
        "colab": {
          "base_uri": "https://localhost:8080/"
        },
        "id": "hMJR1Zv5XRKk",
        "outputId": "9811b335-5651-45ac-e080-86162ceec16a"
      },
      "source": [
        "# Get average vale and estimate alpha\n",
        "\n",
        "alpha = 1 / np.average(df['count'])\n",
        "print(\"alpha value is :{}\".format(alpha))"
      ],
      "execution_count": null,
      "outputs": [
        {
          "output_type": "stream",
          "text": [
            "alpha value is :0.025793650793650796\n"
          ],
          "name": "stdout"
        }
      ]
    },
    {
      "cell_type": "code",
      "metadata": {
        "id": "7HxpEOLVXizs"
      },
      "source": [
        "# define poisson function \n",
        "poisson=lambda k,l: ((l**k)*np.exp(-l))/(np.math.factorial(k))"
      ],
      "execution_count": null,
      "outputs": []
    },
    {
      "cell_type": "code",
      "metadata": {
        "id": "uw8ZnccnXtmX"
      },
      "source": [
        "def posterior_log(count,week,l1,l2,ws):\n",
        "    p=0\n",
        "    for i in count[week<ws]:\n",
        "        p = p +np.log(poisson(i,l1)*alpha*np.exp(-alpha*l1))\n",
        "    for j in count[week>=ws]:\n",
        "        p = p +np.log(poisson(j,l2)*alpha*np.exp(-alpha*l2))\n",
        "    return p"
      ],
      "execution_count": null,
      "outputs": []
    },
    {
      "cell_type": "code",
      "metadata": {
        "id": "JrPPCEFan3j7"
      },
      "source": [
        "# Define MCMC function.\n",
        "initial_step = 0.10\n",
        "\n",
        "def mcmc(posterior_log,count,week,l1,l2,ws,steps,n_iteration):\n",
        "  # select initial point θ\n",
        "  initial_point = np.array([l1,l2,ws])\n",
        "\n",
        "  # random walk point θ' \n",
        "  random_walk_points = np.array([l1,l2,ws])\n",
        "   \n",
        "  # iterate to large enough number\n",
        "  for i in range(1,n_iteration):\n",
        "    # find posterior for θ\n",
        "    posterior_point_1 = posterior_log(count,week,initial_point[0],initial_point[1],initial_point[2])\n",
        "\n",
        "    # generate uniform random number.\n",
        "    random_r = np.random.rand()\n",
        "\n",
        "    # get predicted moved point\n",
        "    updated_point = np.random.multivariate_normal(initial_point,steps)\n",
        "\n",
        "    # find posterior for θ'\n",
        "    posterior_point_2 = posterior_log(count,week,updated_point[0],updated_point[1],updated_point[2])\n",
        "\n",
        "    # find  r step 4\n",
        "    r = posterior_point_2 - posterior_point_1\n",
        "\n",
        "    # check condtion for step  5 \n",
        "    if  r > np.log(random_r):\n",
        "      random_walk_points = np.vstack((random_walk_points, updated_point))\n",
        "\n",
        "      # in case of condition satisfy, move initial point to new point.\n",
        "      initial_point = updated_point\n",
        "    else:\n",
        "      random_walk_points = np.vstack((random_walk_points,initial_point))\n",
        "  \n",
        "  return random_walk_points\n",
        "\n",
        "D=mcmc(posterior_log,count,week,l1=25,l2=25,ws=30,steps=[[initial_step,0,0],[0,initial_step,0],[0,0,initial_step]],n_iteration=10000)"
      ],
      "execution_count": null,
      "outputs": []
    },
    {
      "cell_type": "code",
      "metadata": {
        "colab": {
          "base_uri": "https://localhost:8080/"
        },
        "id": "f2P8_OxY58VX",
        "outputId": "cf6c94b3-889d-484b-c111-6cd28d92d397"
      },
      "source": [
        "# check shape for D\n",
        "D.shape"
      ],
      "execution_count": null,
      "outputs": [
        {
          "output_type": "execute_result",
          "data": {
            "text/plain": [
              "(10000, 3)"
            ]
          },
          "metadata": {
            "tags": []
          },
          "execution_count": 321
        }
      ]
    },
    {
      "cell_type": "markdown",
      "metadata": {
        "id": "N9K-s2Gj8508"
      },
      "source": [
        "### b) Are the posteriors consistent with those you found in the previous homework?"
      ]
    },
    {
      "cell_type": "code",
      "metadata": {
        "id": "54zUAMPl6BVA"
      },
      "source": [
        "# Lets check posterior consistent, for that lets find mean for lambda1,lambda2 and ws\n",
        "\n",
        "# Get l1,l2,ws\n",
        "generated_l1 = D.T[0]\n",
        "generated_l2 = D.T[1]\n",
        "generated_ws = D.T[2]"
      ],
      "execution_count": null,
      "outputs": []
    },
    {
      "cell_type": "code",
      "metadata": {
        "colab": {
          "base_uri": "https://localhost:8080/"
        },
        "id": "2FB9DEd97ChF",
        "outputId": "b08f4491-148b-427e-8753-1cf7512102d2"
      },
      "source": [
        "generated_l1[:100].shape"
      ],
      "execution_count": null,
      "outputs": [
        {
          "output_type": "execute_result",
          "data": {
            "text/plain": [
              "(100,)"
            ]
          },
          "metadata": {
            "tags": []
          },
          "execution_count": 323
        }
      ]
    },
    {
      "cell_type": "code",
      "metadata": {
        "colab": {
          "base_uri": "https://localhost:8080/",
          "height": 403
        },
        "id": "YV2btU_ortrV",
        "outputId": "4dc81d11-f7fa-40b6-85bb-b6f649159086"
      },
      "source": [
        "# Plot the histogram\n",
        "plt.hist(generated_l1[100:],label='lambda1')\n",
        "plt.hist(generated_l2[100:],label='lambda2')\n",
        "plt.xlabel(\"$\\lambda_1$\",fontsize=20)\n",
        "plt.legend(fontsize=20)\n",
        "plt.show()"
      ],
      "execution_count": null,
      "outputs": [
        {
          "output_type": "display_data",
          "data": {
            "image/png": "[encoded data removed]",
            "text/plain": [
              "<Figure size 576x432 with 1 Axes>"
            ]
          },
          "metadata": {
            "tags": []
          }
        }
      ]
    },
    {
      "cell_type": "code",
      "metadata": {
        "colab": {
          "base_uri": "https://localhost:8080/",
          "height": 730
        },
        "id": "WaAzvNyH_hlw",
        "outputId": "b14aff0d-7a23-49a3-d850-d07d8ad37942"
      },
      "source": [
        "# Plot the histogram\n",
        "sns.displot(generated_l1[100:], kde=True)\n",
        "sns.displot(generated_l2[100:],kde=True)"
      ],
      "execution_count": null,
      "outputs": [
        {
          "output_type": "execute_result",
          "data": {
            "text/plain": [
              "<seaborn.axisgrid.FacetGrid at 0x7f57c622cc90>"
            ]
          },
          "metadata": {
            "tags": []
          },
          "execution_count": 325
        },
        {
          "output_type": "display_data",
          "data": {
            "image/png": "[encoded data removed]",
            "text/plain": [
              "<Figure size 360x360 with 1 Axes>"
            ]
          },
          "metadata": {
            "tags": []
          }
        },
        {
          "output_type": "display_data",
          "data": {
            "image/png": "[encoded data removed]",
            "text/plain": [
              "<Figure size 360x360 with 1 Axes>"
            ]
          },
          "metadata": {
            "tags": []
          }
        }
      ]
    },
    {
      "cell_type": "code",
      "metadata": {
        "colab": {
          "base_uri": "https://localhost:8080/",
          "height": 536
        },
        "id": "3Bk4tHVeC0Eb",
        "outputId": "eeab445d-b612-4640-b224-788a5e72cd11"
      },
      "source": [
        "# plot histogram from lambda1 and lambda2 \n",
        "sns.distplot(generated_l1[100:], hist=False, rug=True,label=\"lambda1\");\n",
        "sns.distplot(generated_l2[100:], hist=False, rug=True, label=\"lambda2\");"
      ],
      "execution_count": null,
      "outputs": [
        {
          "output_type": "stream",
          "text": [
            "/usr/local/lib/python3.7/dist-packages/seaborn/distributions.py:2557: FutureWarning: `distplot` is a deprecated function and will be removed in a future version. Please adapt your code to use either `displot` (a figure-level function with similar flexibility) or `kdeplot` (an axes-level function for kernel density plots).\n",
            "  warnings.warn(msg, FutureWarning)\n",
            "/usr/local/lib/python3.7/dist-packages/seaborn/distributions.py:2056: FutureWarning: The `axis` variable is no longer used and will be removed. Instead, assign variables directly to `x` or `y`.\n",
            "  warnings.warn(msg, FutureWarning)\n",
            "/usr/local/lib/python3.7/dist-packages/seaborn/distributions.py:2557: FutureWarning: `distplot` is a deprecated function and will be removed in a future version. Please adapt your code to use either `displot` (a figure-level function with similar flexibility) or `kdeplot` (an axes-level function for kernel density plots).\n",
            "  warnings.warn(msg, FutureWarning)\n",
            "/usr/local/lib/python3.7/dist-packages/seaborn/distributions.py:2056: FutureWarning: The `axis` variable is no longer used and will be removed. Instead, assign variables directly to `x` or `y`.\n",
            "  warnings.warn(msg, FutureWarning)\n"
          ],
          "name": "stderr"
        },
        {
          "output_type": "display_data",
          "data": {
            "image/png": "[encoded data removed]",
            "text/plain": [
              "<Figure size 576x432 with 1 Axes>"
            ]
          },
          "metadata": {
            "tags": []
          }
        }
      ]
    },
    {
      "cell_type": "code",
      "metadata": {
        "colab": {
          "base_uri": "https://localhost:8080/",
          "height": 394
        },
        "id": "nQ3raeTPsAVD",
        "outputId": "6c264ed1-6604-4cb4-fa06-b5e9ab1b12d5"
      },
      "source": [
        "# Plot the histogram\n",
        "plt.hist2d(generated_l1[100:],generated_l2[100:])\n",
        "plt.legend(fontsize=20)\n",
        "plt.show()"
      ],
      "execution_count": null,
      "outputs": [
        {
          "output_type": "stream",
          "text": [
            "No handles with labels found to put in legend.\n"
          ],
          "name": "stderr"
        },
        {
          "output_type": "display_data",
          "data": {
            "image/png": "[encoded data removed]",
            "text/plain": [
              "<Figure size 576x432 with 1 Axes>"
            ]
          },
          "metadata": {
            "tags": []
          }
        }
      ]
    },
    {
      "cell_type": "code",
      "metadata": {
        "colab": {
          "base_uri": "https://localhost:8080/",
          "height": 394
        },
        "id": "Rub1J2dDtRRB",
        "outputId": "cad6730a-e76f-4a15-d12d-79dde9c3b0a8"
      },
      "source": [
        "# Plot the histogram\n",
        "plt.hist2d(generated_l1[100:],generated_ws[100:])\n",
        "plt.legend(fontsize=20)\n",
        "plt.show()"
      ],
      "execution_count": null,
      "outputs": [
        {
          "output_type": "stream",
          "text": [
            "No handles with labels found to put in legend.\n"
          ],
          "name": "stderr"
        },
        {
          "output_type": "display_data",
          "data": {
            "image/png": "[encoded data removed]",
            "text/plain": [
              "<Figure size 576x432 with 1 Axes>"
            ]
          },
          "metadata": {
            "tags": []
          }
        }
      ]
    },
    {
      "cell_type": "code",
      "metadata": {
        "colab": {
          "base_uri": "https://localhost:8080/",
          "height": 394
        },
        "id": "hae476UEtZQx",
        "outputId": "ffc66d6b-059d-4abc-b396-f1a4610c4ada"
      },
      "source": [
        "# Plot the histogram\n",
        "plt.hist2d(generated_l2[100:],generated_ws[100:])\n",
        "plt.legend(fontsize=20)\n",
        "plt.show()"
      ],
      "execution_count": null,
      "outputs": [
        {
          "output_type": "stream",
          "text": [
            "No handles with labels found to put in legend.\n"
          ],
          "name": "stderr"
        },
        {
          "output_type": "display_data",
          "data": {
            "image/png": "[encoded data removed]",
            "text/plain": [
              "<Figure size 576x432 with 1 Axes>"
            ]
          },
          "metadata": {
            "tags": []
          }
        }
      ]
    },
    {
      "cell_type": "code",
      "metadata": {
        "colab": {
          "base_uri": "https://localhost:8080/"
        },
        "id": "NyOPaxWh1pNM",
        "outputId": "dd5afb80-0dcf-4eb4-c000-20a7acb98000"
      },
      "source": [
        "# now check mean for lambda1 \n",
        "l1_mean = np.mean(generated_l1)\n",
        "l1_std = np.std(generated_l1)\n",
        "print(\"Lambda1 mean is:{}\".format(l1_mean))\n",
        "print(\"Lambda1 standard deviation is:{}\".format(l1_std))"
      ],
      "execution_count": null,
      "outputs": [
        {
          "output_type": "stream",
          "text": [
            "Lambda1 mean is:35.63637759770172\n",
            "Lambda1 standard deviation is:1.3256445330839837\n"
          ],
          "name": "stdout"
        }
      ]
    },
    {
      "cell_type": "code",
      "metadata": {
        "colab": {
          "base_uri": "https://localhost:8080/"
        },
        "id": "JKYedF8U8It5",
        "outputId": "aba5ad62-33b3-4dac-e40e-26ca32ef0d88"
      },
      "source": [
        "# now check mean for lambda2\n",
        "l2_mean =np.mean(generated_l2)\n",
        "l2_std = np.std(generated_l2)\n",
        "print(\"Lambda2 mean is:{}\".format(l2_mean))\n",
        "print(\"Lambda2 standard deviation is:{}\".format(l2_std))"
      ],
      "execution_count": null,
      "outputs": [
        {
          "output_type": "stream",
          "text": [
            "Lambda2 mean is:41.369210884111006\n",
            "Lambda2 standard deviation is:2.039363214758891\n"
          ],
          "name": "stdout"
        }
      ]
    },
    {
      "cell_type": "code",
      "metadata": {
        "colab": {
          "base_uri": "https://localhost:8080/"
        },
        "id": "VTrieom08K4h",
        "outputId": "2468adf5-27aa-468a-b547-27301d0bb4c3"
      },
      "source": [
        "# now check mean for Ws\n",
        "ws_mean = np.mean(generated_ws)\n",
        "ws_std = np.std(generated_ws)\n",
        "print(\"ws mean is:{}\".format(ws_mean))\n",
        "print(\"ws std is:{}\".format(ws_std))"
      ],
      "execution_count": null,
      "outputs": [
        {
          "output_type": "stream",
          "text": [
            "ws mean is:34.506667856027256\n",
            "ws std is:3.251593197402865\n"
          ],
          "name": "stdout"
        }
      ]
    },
    {
      "cell_type": "markdown",
      "metadata": {
        "id": "uGtOjNQjuJX3"
      },
      "source": [
        "## Conclusion: As per the data for lambda1, lambda2 and ws is close with the Homework2's solution. MCMC method is the way faster to converge than Homework 2 solution."
      ]
    },
    {
      "cell_type": "markdown",
      "metadata": {
        "id": "nZ8kzKJk9LNE"
      },
      "source": [
        "### c) As you did in part g of homework 2, find P ((λ 2 − λ 1 ) > 5), the probability that Bob’s weekly tweet counts have increased by five at some point."
      ]
    },
    {
      "cell_type": "code",
      "metadata": {
        "id": "djsFw58s1pes"
      },
      "source": [
        "# Lets check this by calculating counts for events\n",
        "total_events = D.shape[0]"
      ],
      "execution_count": null,
      "outputs": []
    },
    {
      "cell_type": "code",
      "metadata": {
        "colab": {
          "base_uri": "https://localhost:8080/"
        },
        "id": "DgM_O5ss1phN",
        "outputId": "0235a8e9-d4c4-48e5-b518-b61dd232a644"
      },
      "source": [
        "count = 0\n",
        "for i in range(total_events):\n",
        "  if D.T[1][i] - D.T[0][i] > 5:\n",
        "    count += 1\n",
        "\n",
        "print(\"Total event happend for λ2 − λ1 > 5 is {}\".format(count))\n",
        "\n",
        "probablity_for_event = count / total_events\n",
        "\n",
        "print(\"Probablity is {}\".format(probablity_for_event))"
      ],
      "execution_count": null,
      "outputs": [
        {
          "output_type": "stream",
          "text": [
            "Total event happend for λ2 − λ1 > 5 is 6399\n",
            "Probablity is 0.6399\n"
          ],
          "name": "stdout"
        }
      ]
    },
    {
      "cell_type": "markdown",
      "metadata": {
        "id": "VANi5RXh9BPl"
      },
      "source": [
        "# Problem 2: K-means Alggorithm"
      ]
    },
    {
      "cell_type": "markdown",
      "metadata": {
        "id": "QfuSMhZDUnZw"
      },
      "source": [
        "## a) Write a python function that takes data points with two features (two dimen-sional data) and a number of clusters and returns partitioned data. Consider that the data points are located in Euclidean space."
      ]
    },
    {
      "cell_type": "code",
      "metadata": {
        "id": "3vkRFvaz1pjp",
        "colab": {
          "base_uri": "https://localhost:8080/"
        },
        "outputId": "579c79c0-fa9e-42f9-f29f-a721a0e0a47e"
      },
      "source": [
        "# Import necessary libs\n",
        "import numpy as np\n",
        "import pandas as pd\n",
        "import matplotlib.pyplot as plt\n",
        "import seaborn as sns\n",
        "from sklearn.datasets import make_blobs\n",
        "from scipy.spatial.distance import cdist\n",
        "\n",
        "import warnings\n",
        "warnings.simplefilter(\"ignore\", category=RuntimeWarning)\n",
        "\n",
        "# some basic settings for figure.\n",
        "sns.set()\n",
        "sns.color_palette(\"flare\", as_cmap=True)\n",
        "\n"
      ],
      "execution_count": null,
      "outputs": [
        {
          "output_type": "execute_result",
          "data": {
            "text/plain": [
              "<matplotlib.colors.ListedColormap at 0x7f57d834efd0>"
            ]
          },
          "metadata": {
            "tags": []
          },
          "execution_count": 178
        }
      ]
    },
    {
      "cell_type": "markdown",
      "metadata": {
        "id": "bJGfrTrKVTvo"
      },
      "source": [
        "### generate pseudo data"
      ]
    },
    {
      "cell_type": "code",
      "metadata": {
        "colab": {
          "base_uri": "https://localhost:8080/",
          "height": 594
        },
        "id": "HzDsM17S-k7O",
        "outputId": "afc360ee-cb5c-4a8f-b62d-cef42399a518"
      },
      "source": [
        "# generate \n",
        "X,Y = make_blobs(n_samples=500, cluster_std=0.8, centers=3, n_features=3, random_state=0)\n",
        "\n",
        "# plot data as scatter plot\n",
        "fig = plt.figure(figsize=(15, 10));\n",
        "\n",
        "# taking only 2nd and 3rd dimention for problem.dropping 1st dim.\n",
        "plt.scatter(X[:,1],X[:,2])\n",
        "plt.show()"
      ],
      "execution_count": null,
      "outputs": [
        {
          "output_type": "display_data",
          "data": {
            "image/png": "[encoded data removed]",
            "text/plain": [
              "<Figure size 1080x720 with 1 Axes>"
            ]
          },
          "metadata": {
            "tags": []
          }
        }
      ]
    },
    {
      "cell_type": "code",
      "metadata": {
        "colab": {
          "base_uri": "https://localhost:8080/"
        },
        "id": "iSJtoVow-lBS",
        "outputId": "cdc8b5c0-3aec-450b-8a2f-570f7baef893"
      },
      "source": [
        "# check ths shape of Y\n",
        "Y.shape"
      ],
      "execution_count": null,
      "outputs": [
        {
          "output_type": "execute_result",
          "data": {
            "text/plain": [
              "(500,)"
            ]
          },
          "metadata": {
            "tags": []
          },
          "execution_count": 191
        }
      ]
    },
    {
      "cell_type": "code",
      "metadata": {
        "colab": {
          "base_uri": "https://localhost:8080/"
        },
        "id": "iJDWvHYK-lEO",
        "outputId": "d77b20cc-12b8-4d5b-c4ed-eb70f05d0bb9"
      },
      "source": [
        "# check the shape of X\n",
        "X.shape"
      ],
      "execution_count": null,
      "outputs": [
        {
          "output_type": "execute_result",
          "data": {
            "text/plain": [
              "(500, 3)"
            ]
          },
          "metadata": {
            "tags": []
          },
          "execution_count": 192
        }
      ]
    },
    {
      "cell_type": "code",
      "metadata": {
        "id": "YcCfO9-t-lHP"
      },
      "source": [
        "# drop one dimention for X\n",
        "X_new = np.delete(X, 0, axis=1)"
      ],
      "execution_count": null,
      "outputs": []
    },
    {
      "cell_type": "code",
      "metadata": {
        "colab": {
          "base_uri": "https://localhost:8080/"
        },
        "id": "gAG8-v32-lKQ",
        "outputId": "e72b3d80-b587-40ab-ab48-f01b0bc9aee2"
      },
      "source": [
        "# check new shape of X, should be n_sample x n_original_dim -1 \n",
        "X_new.shape"
      ],
      "execution_count": null,
      "outputs": [
        {
          "output_type": "execute_result",
          "data": {
            "text/plain": [
              "(500, 2)"
            ]
          },
          "metadata": {
            "tags": []
          },
          "execution_count": 194
        }
      ]
    },
    {
      "cell_type": "markdown",
      "metadata": {
        "id": "uAxkV0hrXq15"
      },
      "source": [
        "### Write function that define K-means algorithm"
      ]
    },
    {
      "cell_type": "code",
      "metadata": {
        "id": "0HAEp2tL9SWS"
      },
      "source": [
        "def k_means(X,k):\n",
        "\n",
        "  # define cluster distance tolerance.\n",
        "  tolerance = pow(10,-8)\n",
        "\n",
        "  # define features and sample of data.\n",
        "  num_features = X.shape[1]\n",
        "  num_samples = X.shape[0]\n",
        "  \n",
        "  # get mean from  dimentions\n",
        "  mean = [np.mean(X[:,0]),np.mean(X[:,1])]\n",
        "  \n",
        "  # get covariance matrix.\n",
        "  cov = np.cov(X.T)\n",
        "\n",
        "\n",
        "  # initialized random k centers.\n",
        "  centers = np.random.multivariate_normal(mean,cov,k)\n",
        "\n",
        "  # initialized random error metrics.\n",
        "  error = np.random.rand(k, num_features)\n",
        " \n",
        "  \n",
        "  #print(\"Dimention of custers:{}\".format(centers.shape))\n",
        "\n",
        "  # check error is less than tolerance.\n",
        "\n",
        "  while (error > tolerance).all():\n",
        "    # calculate distance.\n",
        "    distance_to_center = cdist(X,centers,metric='euclidean')\n",
        "\n",
        "    # get cluster lable from min dist.\n",
        "    Y = np.argmin(distance_to_center,axis=1)\n",
        "\n",
        "    # itrate through k.\n",
        "    for i in range(0,k):\n",
        "      # get new centers.\n",
        "      new_centers = np.mean(X[Y==i],axis=0)\n",
        "\n",
        "      # calculate error and point to new centers.\n",
        "      error[i] = centers[i] - new_centers\n",
        "      centers[i] = new_centers\n",
        "\n",
        "  # calculate distortion.\n",
        "  dist = 0\n",
        "\n",
        "  # iterate thorugh centers.\n",
        "  for i in range(0,k):\n",
        "    dist+= np.sum(cdist(X[Y==i].reshape(-1,1),centers[i].reshape(-1,1),metric='euclidean'))\n",
        "\n",
        "  return Y,centers,dist"
      ],
      "execution_count": null,
      "outputs": []
    },
    {
      "cell_type": "markdown",
      "metadata": {
        "id": "9GRoZWkaYXif"
      },
      "source": [
        "## b) Considering 3 clusters, apply your function in part a to the dataset you have created."
      ]
    },
    {
      "cell_type": "code",
      "metadata": {
        "colab": {
          "base_uri": "https://localhost:8080/",
          "height": 336
        },
        "id": "VrGR6-QJYWtm",
        "outputId": "978307d8-92e0-48d9-bfd9-685cec415d6c"
      },
      "source": [
        "# Use method that define \n",
        "\n",
        "Y, centers_for_k_3, distortion_for_k_3 = k_means(X_new,3)\n",
        "\n",
        "\n",
        "print(\"Centers for k=3 is :{}\".format(centers_for_k_3))\n",
        "print(\"distortion value for k=3 is: {}\".format(distortion_for_k_3))\n",
        "\n",
        "\n",
        "# plot optimized centers in a cluster for k=3\n",
        "\n",
        "plt.scatter(X[:,1],X[:,2],c=Y)\n",
        "plt.scatter(centers_for_k_3[:, 0], centers_for_k_3[:,1], c = \"r\", s = 50)\n",
        "plt.show()\n",
        "\n"
      ],
      "execution_count": null,
      "outputs": [
        {
          "output_type": "stream",
          "text": [
            "Centers for k=3 is :[[ 4.26887294  1.879373  ]\n",
            " [ 7.81260774  9.26849868]\n",
            " [-1.60355314  2.82566473]]\n",
            "distortion value for k=3 is: 3395.3959236718247\n"
          ],
          "name": "stdout"
        },
        {
          "output_type": "display_data",
          "data": {
            "image/png": "[encoded data removed]",
            "text/plain": [
              "<Figure size 432x288 with 1 Axes>"
            ]
          },
          "metadata": {
            "tags": []
          }
        }
      ]
    },
    {
      "cell_type": "markdown",
      "metadata": {
        "id": "Yh_gAh8Baldx"
      },
      "source": [
        "## c) Here we knew the number of clusters, but this is not the case in real problems.Explain a method where we can determine optimal number of clusters in K-means algorithm."
      ]
    },
    {
      "cell_type": "markdown",
      "metadata": {
        "id": "teuV8FR8btm1"
      },
      "source": [
        "###  For solve this we will use elbow method for finding optimal number for k, algorithms follows\n",
        "1) Select k = 1,3,5,..odd numbers\n",
        "2) find distortation for k = 1,3,5..\n",
        "3) check Distortion[k_{i}] - Distortion[k_{i+1}] >> Distortion[k_{i+1}] - Distortion[k_{i+2}] for some i, your optimum choice of k should be [i+1]"
      ]
    },
    {
      "cell_type": "code",
      "metadata": {
        "colab": {
          "base_uri": "https://localhost:8080/"
        },
        "id": "mMOtGHwtbAjS",
        "outputId": "5958a41e-f3b7-437f-c46a-e39dc5e5631f"
      },
      "source": [
        "# get various distortaions for k =1, 3, 5 ...\n",
        "\n",
        "distortion_dict  = {}\n",
        "\n",
        "# define maximum clusters.\n",
        "max_clusters = 11\n",
        "\n",
        "\n",
        "for i in range(1,max_clusters+2,2):\n",
        "  Y, centers, distortion = k_means(X_new,i)\n",
        "  print(\"Centers for k={} is :{}\".format(i,centers))\n",
        "  print(\"distortion value for k={} is: {}\".format(i,distortion))\n",
        "  distortion_dict[i] = distortion\n",
        "\n",
        "distortion_dict"
      ],
      "execution_count": null,
      "outputs": [
        {
          "output_type": "stream",
          "text": [
            "Centers for k=1 is :[[3.48400258 4.64862416]]\n",
            "distortion value for k=1 is: 6299.404995790025\n",
            "Centers for k=3 is :[[1.24092114 2.34018658]\n",
            " [7.81260774 9.26849868]\n",
            " [5.6181707  2.92861267]]\n",
            "distortion value for k=3 is: 3292.7502580879313\n",
            "Centers for k=5 is :[[ 5.17803754  3.61129577]\n",
            " [ 7.47459095  9.32731785]\n",
            " [ 8.66843748  9.11957354]\n",
            " [-1.67076185  3.02139007]\n",
            " [ 3.54714011  1.81410341]]\n",
            "distortion value for k=5 is: 3357.356464421702\n",
            "Centers for k=7 is :[[ 7.8046908   9.27850264]\n",
            " [-2.0047229   2.52986522]\n",
            " [ 4.25435255  3.02921709]\n",
            " [ 2.78339263  2.16497031]\n",
            " [ 4.37892848  1.50943916]\n",
            " [-0.43843183  2.33837227]\n",
            " [-1.18527827  3.59359442]]\n",
            "distortion value for k=7 is: 3314.4409819285106\n",
            "Centers for k=9 is :[[-1.6838698   3.07870815]\n",
            " [-0.52202276  2.42799051]\n",
            " [-1.65636701  1.55260563]\n",
            " [ 4.08397579  1.46332376]\n",
            " [ 7.81260774  9.26849868]\n",
            " [        nan         nan]\n",
            " [        nan         nan]\n",
            " [ 5.08648742  2.43317667]\n",
            " [ 3.84703972  3.03448369]]\n",
            "distortion value for k=9 is: 3299.683585967423\n",
            "Centers for k=11 is :[[-1.00729124  2.76329686]\n",
            " [-2.22106517  1.39739373]\n",
            " [        nan         nan]\n",
            " [ 4.44201711  1.96607307]\n",
            " [ 7.83440287  9.40076653]\n",
            " [ 9.24453227  8.19298541]\n",
            " [-2.09173463  4.65679225]\n",
            " [        nan         nan]\n",
            " [        nan         nan]\n",
            " [ 3.9231174  -0.04666137]\n",
            " [ 7.23068135  7.99052653]]\n",
            "distortion value for k=11 is: 3341.5997889378295\n"
          ],
          "name": "stdout"
        },
        {
          "output_type": "execute_result",
          "data": {
            "text/plain": [
              "{1: 6299.404995790025,\n",
              " 3: 3292.7502580879313,\n",
              " 5: 3357.356464421702,\n",
              " 7: 3314.4409819285106,\n",
              " 9: 3299.683585967423,\n",
              " 11: 3341.5997889378295}"
            ]
          },
          "metadata": {
            "tags": []
          },
          "execution_count": 255
        }
      ]
    },
    {
      "cell_type": "code",
      "metadata": {
        "colab": {
          "base_uri": "https://localhost:8080/",
          "height": 339
        },
        "id": "Ta10mOeRfVel",
        "outputId": "312bf23c-38a0-4210-aa90-3ed2c086ac69"
      },
      "source": [
        "# Lets plot this value for more clear picture\n",
        "x_dist = distortion_dict.keys()\n",
        "y_dist = distortion_dict.values()\n",
        "\n",
        "sns.lineplot(x_dist,y_dist,label=\"elbow plot\")"
      ],
      "execution_count": null,
      "outputs": [
        {
          "output_type": "stream",
          "text": [
            "/usr/local/lib/python3.7/dist-packages/seaborn/_decorators.py:43: FutureWarning: Pass the following variables as keyword args: x, y. From version 0.12, the only valid positional argument will be `data`, and passing other arguments without an explicit keyword will result in an error or misinterpretation.\n",
            "  FutureWarning\n"
          ],
          "name": "stderr"
        },
        {
          "output_type": "execute_result",
          "data": {
            "text/plain": [
              "<matplotlib.axes._subplots.AxesSubplot at 0x7f57d2c98450>"
            ]
          },
          "metadata": {
            "tags": []
          },
          "execution_count": 256
        },
        {
          "output_type": "display_data",
          "data": {
            "image/png": "[encoded data removed]",
            "text/plain": [
              "<Figure size 432x288 with 1 Axes>"
            ]
          },
          "metadata": {
            "tags": []
          }
        }
      ]
    },
    {
      "cell_type": "code",
      "metadata": {
        "id": "w6K-aQS6he6t"
      },
      "source": [
        "# Define function that find the optimal numbers\n",
        "n_clusters = [x for x in range(1,max_clusters+2,2)]\n",
        "\n",
        "def get_optimal_cluster_number(distortion):\n",
        "  # set tracking for distortion delta\n",
        "  max_delta = 0\n",
        "  optimum_cluster = None\n",
        "  for i in range(len(n_clusters)-1):\n",
        "    if distortion[n_clusters[i]] - distortion[n_clusters[i+1]] > max_delta:\n",
        "      max_delta = distortion[n_clusters[i]] - distortion[n_clusters[i+1]]\n",
        "      optimum_cluster = n_clusters[i+1]\n",
        "\n",
        "  return optimum_cluster\n"
      ],
      "execution_count": null,
      "outputs": []
    },
    {
      "cell_type": "markdown",
      "metadata": {
        "id": "wiHzypm3hYYK"
      },
      "source": [
        "## d) Apply your method in part c to the data you have generated and verify that the optimal number of the cluster for part b is three."
      ]
    },
    {
      "cell_type": "code",
      "metadata": {
        "colab": {
          "base_uri": "https://localhost:8080/"
        },
        "id": "2v20Flfjaw5s",
        "outputId": "3ab0861e-ce80-4b3f-d2ee-587af5c900cc"
      },
      "source": [
        "# Get optimal clusters \n",
        "\n",
        "print(get_optimal_cluster_number(distortion_dict))"
      ],
      "execution_count": null,
      "outputs": [
        {
          "output_type": "stream",
          "text": [
            "3\n"
          ],
          "name": "stdout"
        }
      ]
    },
    {
      "cell_type": "markdown",
      "metadata": {
        "id": "US9j8e1cqLNa"
      },
      "source": [
        "## Conclusion: Optimal cluster we get from generated data is K=3, We can also see in elbow plot that after K=3 there is no more distortion improvement as we increase the number of cluster to k=11. however, we need more compute for k=11 with a little improvement. so K=3 is the optimal number."
      ]
    },
    {
      "cell_type": "code",
      "metadata": {
        "id": "3HSNGJuAqcVZ"
      },
      "source": [
        ""
      ],
      "execution_count": null,
      "outputs": []
    }
  ]
}