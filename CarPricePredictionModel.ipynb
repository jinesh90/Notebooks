{
 "cells": [
  {
   "cell_type": "code",
   "execution_count": 1,
   "metadata": {},
   "outputs": [
    {
     "name": "stderr",
     "output_type": "stream",
     "text": [
      "/usr/lib/python3.6/importlib/_bootstrap.py:219: RuntimeWarning: numpy.dtype size changed, may indicate binary incompatibility. Expected 96, got 88\n",
      "  return f(*args, **kwds)\n",
      "/usr/lib/python3.6/importlib/_bootstrap.py:219: RuntimeWarning: numpy.dtype size changed, may indicate binary incompatibility. Expected 96, got 88\n",
      "  return f(*args, **kwds)\n"
     ]
    }
   ],
   "source": [
    "import pandas as pd\n",
    "import numpy as np\n",
    "from sklearn.model_selection import train_test_split\n",
    "from sklearn.linear_model import LinearRegression\n",
    "from sklearn.externals import joblib\n",
    "from sklearn.metrics import mean_squared_error"
   ]
  },
  {
   "cell_type": "code",
   "execution_count": 2,
   "metadata": {},
   "outputs": [],
   "source": [
    "df = pd.read_csv(\"/home/jinesh/Desktop/cardata/train.csv\")\n",
    "# Check data columns and Drop unncessesary columns.\n",
    "df.columns\n",
    "df.drop('Unnamed: 0',inplace=True,axis=1)"
   ]
  },
  {
   "cell_type": "code",
   "execution_count": 3,
   "metadata": {},
   "outputs": [
    {
     "data": {
      "text/html": [
       "<div>\n",
       "<style scoped>\n",
       "    .dataframe tbody tr th:only-of-type {\n",
       "        vertical-align: middle;\n",
       "    }\n",
       "\n",
       "    .dataframe tbody tr th {\n",
       "        vertical-align: top;\n",
       "    }\n",
       "\n",
       "    .dataframe thead th {\n",
       "        text-align: right;\n",
       "    }\n",
       "</style>\n",
       "<table border=\"1\" class=\"dataframe\">\n",
       "  <thead>\n",
       "    <tr style=\"text-align: right;\">\n",
       "      <th></th>\n",
       "      <th>Kilometeres</th>\n",
       "      <th>Fuel_Type</th>\n",
       "      <th>Doors</th>\n",
       "      <th>Automatic</th>\n",
       "      <th>HorsePower</th>\n",
       "      <th>MetallicCol</th>\n",
       "      <th>CC</th>\n",
       "      <th>Wt</th>\n",
       "      <th>SellingPrice</th>\n",
       "      <th>Age</th>\n",
       "    </tr>\n",
       "  </thead>\n",
       "  <tbody>\n",
       "    <tr>\n",
       "      <th>0</th>\n",
       "      <td>46986</td>\n",
       "      <td>Diesel</td>\n",
       "      <td>3</td>\n",
       "      <td>0</td>\n",
       "      <td>90</td>\n",
       "      <td>1</td>\n",
       "      <td>2000</td>\n",
       "      <td>1165</td>\n",
       "      <td>13500</td>\n",
       "      <td>23</td>\n",
       "    </tr>\n",
       "    <tr>\n",
       "      <th>1</th>\n",
       "      <td>94612</td>\n",
       "      <td>Diesel</td>\n",
       "      <td>3</td>\n",
       "      <td>0</td>\n",
       "      <td>90</td>\n",
       "      <td>1</td>\n",
       "      <td>2000</td>\n",
       "      <td>1245</td>\n",
       "      <td>16900</td>\n",
       "      <td>27</td>\n",
       "    </tr>\n",
       "    <tr>\n",
       "      <th>2</th>\n",
       "      <td>19700</td>\n",
       "      <td>Petrol</td>\n",
       "      <td>3</td>\n",
       "      <td>0</td>\n",
       "      <td>192</td>\n",
       "      <td>0</td>\n",
       "      <td>1800</td>\n",
       "      <td>1185</td>\n",
       "      <td>21500</td>\n",
       "      <td>27</td>\n",
       "    </tr>\n",
       "    <tr>\n",
       "      <th>3</th>\n",
       "      <td>43610</td>\n",
       "      <td>Petrol</td>\n",
       "      <td>3</td>\n",
       "      <td>0</td>\n",
       "      <td>192</td>\n",
       "      <td>0</td>\n",
       "      <td>1800</td>\n",
       "      <td>1185</td>\n",
       "      <td>19950</td>\n",
       "      <td>22</td>\n",
       "    </tr>\n",
       "    <tr>\n",
       "      <th>4</th>\n",
       "      <td>34131</td>\n",
       "      <td>Petrol</td>\n",
       "      <td>3</td>\n",
       "      <td>0</td>\n",
       "      <td>192</td>\n",
       "      <td>1</td>\n",
       "      <td>1800</td>\n",
       "      <td>1185</td>\n",
       "      <td>22500</td>\n",
       "      <td>32</td>\n",
       "    </tr>\n",
       "  </tbody>\n",
       "</table>\n",
       "</div>"
      ],
      "text/plain": [
       "   Kilometeres Fuel_Type  Doors  Automatic  HorsePower  MetallicCol    CC  \\\n",
       "0        46986    Diesel      3          0          90            1  2000   \n",
       "1        94612    Diesel      3          0          90            1  2000   \n",
       "2        19700    Petrol      3          0         192            0  1800   \n",
       "3        43610    Petrol      3          0         192            0  1800   \n",
       "4        34131    Petrol      3          0         192            1  1800   \n",
       "\n",
       "     Wt  SellingPrice  Age  \n",
       "0  1165         13500   23  \n",
       "1  1245         16900   27  \n",
       "2  1185         21500   27  \n",
       "3  1185         19950   22  \n",
       "4  1185         22500   32  "
      ]
     },
     "execution_count": 3,
     "metadata": {},
     "output_type": "execute_result"
    }
   ],
   "source": [
    "df.head(5)"
   ]
  },
  {
   "cell_type": "code",
   "execution_count": 4,
   "metadata": {},
   "outputs": [
    {
     "data": {
      "text/plain": [
       "LinearRegression(copy_X=True, fit_intercept=True, n_jobs=None,\n",
       "         normalize=False)"
      ]
     },
     "execution_count": 4,
     "metadata": {},
     "output_type": "execute_result"
    }
   ],
   "source": [
    "## We see here some column (Fuel_type) is Non Numeric, Convert into numeric value\n",
    "df['Fuel_Type'] = df['Fuel_Type'].apply(lambda x: 1 if x == \"Petrol\" else 0)\n",
    "\n",
    "## Drop selling price for train our model\n",
    "selling_prices = df['SellingPrice']\n",
    "df.drop('SellingPrice',axis=1,inplace=True)\n",
    "\n",
    "## Split the data into train and test sets for train our model\n",
    "X_train, X_test, y_train, y_test = train_test_split(df,selling_prices,random_state=42)\n",
    "\n",
    "## At this point we have clean data set that has data for model to train, Train linear regression model\n",
    "lin_reg = LinearRegression()\n",
    "lin_reg.fit(X_train,y_train)"
   ]
  },
  {
   "cell_type": "code",
   "execution_count": 5,
   "metadata": {},
   "outputs": [
    {
     "data": {
      "text/plain": [
       "1294.5371746553276"
      ]
     },
     "execution_count": 5,
     "metadata": {},
     "output_type": "execute_result"
    }
   ],
   "source": [
    "### Now check the RMSE of model\n",
    "price_pred = lin_reg.predict(X_test)\n",
    "lin_rmse = np.sqrt(mean_squared_error(price_pred,y_test))\n",
    "lin_rmse"
   ]
  },
  {
   "cell_type": "code",
   "execution_count": 8,
   "metadata": {},
   "outputs": [
    {
     "data": {
      "text/plain": [
       "array([16428.08336424])"
      ]
     },
     "execution_count": 8,
     "metadata": {},
     "output_type": "execute_result"
    }
   ],
   "source": [
    "### Check prediction on one data point\n",
    "X_new = np.array([26000,0,3,1,86,0,1300,1015,5]).reshape(1,-1)\n",
    "lin_reg.predict(X_new)"
   ]
  },
  {
   "cell_type": "code",
   "execution_count": 9,
   "metadata": {},
   "outputs": [
    {
     "data": {
      "text/plain": [
       "['car_price_prediction.pkl']"
      ]
     },
     "execution_count": 9,
     "metadata": {},
     "output_type": "execute_result"
    }
   ],
   "source": [
    "### Save our model, This will generate .pkl file in your currentl dircetroy, your model is ready to use.\n",
    "joblib.dump(lin_reg,\"car_price_prediction.pkl\")"
   ]
  },
  {
   "cell_type": "code",
   "execution_count": null,
   "metadata": {},
   "outputs": [],
   "source": []
  }
 ],
 "metadata": {
  "kernelspec": {
   "display_name": "Python 3",
   "language": "python",
   "name": "python3"
  },
  "language_info": {
   "codemirror_mode": {
    "name": "ipython",
    "version": 3
   },
   "file_extension": ".py",
   "mimetype": "text/x-python",
   "name": "python",
   "nbconvert_exporter": "python",
   "pygments_lexer": "ipython3",
   "version": "3.6.7"
  }
 },
 "nbformat": 4,
 "nbformat_minor": 2
}
