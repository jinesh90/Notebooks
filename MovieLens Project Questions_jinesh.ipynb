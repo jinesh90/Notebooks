{
 "cells": [
  {
   "cell_type": "markdown",
   "metadata": {},
   "source": [
    "### Project - MovieLens Data Analysis\n",
    "\n",
    "The GroupLens Research Project is a research group in the Department of Computer Science and Engineering at the University of Minnesota. The data is widely used for collaborative filtering and other filtering solutions. However, we will be using this data to act as a means to demonstrate our skill in using Python to “play” with data.\n",
    "\n",
    "#### Domain \n",
    "Internet and Entertainment\n",
    "\n",
    "**Note that the project will need you to apply the concepts of groupby and merging extensively.**"
   ]
  },
  {
   "cell_type": "code",
   "execution_count": null,
   "metadata": {},
   "outputs": [],
   "source": []
  },
  {
   "cell_type": "markdown",
   "metadata": {},
   "source": [
    "#### 1. Import the necessary packages - 2.5 marks"
   ]
  },
  {
   "cell_type": "code",
   "execution_count": 1,
   "metadata": {},
   "outputs": [],
   "source": [
    "import numpy as np\n",
    "import pandas as pd\n",
    "import matplotlib.pyplot as plt\n",
    "import seaborn as sns"
   ]
  },
  {
   "cell_type": "markdown",
   "metadata": {},
   "source": [
    "#### 2. Read the 3 datasets into dataframes - 2.5 marks"
   ]
  },
  {
   "cell_type": "code",
   "execution_count": 2,
   "metadata": {
    "scrolled": true
   },
   "outputs": [],
   "source": [
    "# Read users.csv in user_df, item.csv in movies_df and Data.csv in ratings_df\n",
    "users_df = pd.read_csv('user.csv')\n",
    "movies_df = pd.read_csv('item.csv')\n",
    "ratings_df = pd.read_csv('Data.csv')"
   ]
  },
  {
   "cell_type": "markdown",
   "metadata": {},
   "source": [
    "#### 3. Apply info, shape, describe, and find the number of missing values in the data - 5 marks"
   ]
  },
  {
   "cell_type": "code",
   "execution_count": 3,
   "metadata": {},
   "outputs": [
    {
     "name": "stdout",
     "output_type": "stream",
     "text": [
      "<class 'pandas.core.frame.DataFrame'>\n",
      "RangeIndex: 943 entries, 0 to 942\n",
      "Data columns (total 5 columns):\n",
      " #   Column      Non-Null Count  Dtype \n",
      "---  ------      --------------  ----- \n",
      " 0   user id     943 non-null    int64 \n",
      " 1   age         943 non-null    int64 \n",
      " 2   gender      943 non-null    object\n",
      " 3   occupation  943 non-null    object\n",
      " 4   zip code    943 non-null    object\n",
      "dtypes: int64(2), object(3)\n",
      "memory usage: 37.0+ KB\n"
     ]
    }
   ],
   "source": [
    "# applying info for all three dataframes\n",
    "users_df.info()"
   ]
  },
  {
   "cell_type": "code",
   "execution_count": 4,
   "metadata": {},
   "outputs": [
    {
     "name": "stdout",
     "output_type": "stream",
     "text": [
      "<class 'pandas.core.frame.DataFrame'>\n",
      "RangeIndex: 1681 entries, 0 to 1680\n",
      "Data columns (total 22 columns):\n",
      " #   Column        Non-Null Count  Dtype \n",
      "---  ------        --------------  ----- \n",
      " 0   movie id      1681 non-null   int64 \n",
      " 1   movie title   1681 non-null   object\n",
      " 2   release date  1681 non-null   object\n",
      " 3   unknown       1681 non-null   int64 \n",
      " 4   Action        1681 non-null   int64 \n",
      " 5   Adventure     1681 non-null   int64 \n",
      " 6   Animation     1681 non-null   int64 \n",
      " 7   Childrens     1681 non-null   int64 \n",
      " 8   Comedy        1681 non-null   int64 \n",
      " 9   Crime         1681 non-null   int64 \n",
      " 10  Documentary   1681 non-null   int64 \n",
      " 11  Drama         1681 non-null   int64 \n",
      " 12  Fantasy       1681 non-null   int64 \n",
      " 13  Film-Noir     1681 non-null   int64 \n",
      " 14  Horror        1681 non-null   int64 \n",
      " 15  Musical       1681 non-null   int64 \n",
      " 16  Mystery       1681 non-null   int64 \n",
      " 17  Romance       1681 non-null   int64 \n",
      " 18  Sci-Fi        1681 non-null   int64 \n",
      " 19  Thriller      1681 non-null   int64 \n",
      " 20  War           1681 non-null   int64 \n",
      " 21  Western       1681 non-null   int64 \n",
      "dtypes: int64(20), object(2)\n",
      "memory usage: 289.0+ KB\n"
     ]
    }
   ],
   "source": [
    "movies_df.info()"
   ]
  },
  {
   "cell_type": "code",
   "execution_count": 5,
   "metadata": {},
   "outputs": [
    {
     "name": "stdout",
     "output_type": "stream",
     "text": [
      "<class 'pandas.core.frame.DataFrame'>\n",
      "RangeIndex: 100000 entries, 0 to 99999\n",
      "Data columns (total 4 columns):\n",
      " #   Column     Non-Null Count   Dtype\n",
      "---  ------     --------------   -----\n",
      " 0   user id    100000 non-null  int64\n",
      " 1   movie id   100000 non-null  int64\n",
      " 2   rating     100000 non-null  int64\n",
      " 3   timestamp  100000 non-null  int64\n",
      "dtypes: int64(4)\n",
      "memory usage: 3.1 MB\n"
     ]
    }
   ],
   "source": [
    "ratings_df.info()"
   ]
  },
  {
   "cell_type": "code",
   "execution_count": 6,
   "metadata": {},
   "outputs": [
    {
     "data": {
      "text/plain": [
       "(943, 5)"
      ]
     },
     "execution_count": 6,
     "metadata": {},
     "output_type": "execute_result"
    }
   ],
   "source": [
    "# checking shape of alll dataframes\n",
    "users_df.shape"
   ]
  },
  {
   "cell_type": "code",
   "execution_count": 7,
   "metadata": {},
   "outputs": [
    {
     "data": {
      "text/plain": [
       "(1681, 22)"
      ]
     },
     "execution_count": 7,
     "metadata": {},
     "output_type": "execute_result"
    }
   ],
   "source": [
    "movies_df.shape"
   ]
  },
  {
   "cell_type": "code",
   "execution_count": 8,
   "metadata": {},
   "outputs": [
    {
     "data": {
      "text/plain": [
       "(100000, 4)"
      ]
     },
     "execution_count": 8,
     "metadata": {},
     "output_type": "execute_result"
    }
   ],
   "source": [
    "ratings_df.shape"
   ]
  },
  {
   "cell_type": "code",
   "execution_count": 9,
   "metadata": {},
   "outputs": [
    {
     "data": {
      "text/plain": [
       "user id       0\n",
       "age           0\n",
       "gender        0\n",
       "occupation    0\n",
       "zip code      0\n",
       "dtype: int64"
      ]
     },
     "execution_count": 9,
     "metadata": {},
     "output_type": "execute_result"
    }
   ],
   "source": [
    "# checking total missing values for dataframes\n",
    "users_df.isnull().sum()"
   ]
  },
  {
   "cell_type": "code",
   "execution_count": 10,
   "metadata": {},
   "outputs": [
    {
     "data": {
      "text/plain": [
       "movie id        0\n",
       "movie title     0\n",
       "release date    0\n",
       "unknown         0\n",
       "Action          0\n",
       "Adventure       0\n",
       "Animation       0\n",
       "Childrens       0\n",
       "Comedy          0\n",
       "Crime           0\n",
       "Documentary     0\n",
       "Drama           0\n",
       "Fantasy         0\n",
       "Film-Noir       0\n",
       "Horror          0\n",
       "Musical         0\n",
       "Mystery         0\n",
       "Romance         0\n",
       "Sci-Fi          0\n",
       "Thriller        0\n",
       "War             0\n",
       "Western         0\n",
       "dtype: int64"
      ]
     },
     "execution_count": 10,
     "metadata": {},
     "output_type": "execute_result"
    }
   ],
   "source": [
    "movies_df.isnull().sum()"
   ]
  },
  {
   "cell_type": "code",
   "execution_count": 11,
   "metadata": {},
   "outputs": [
    {
     "data": {
      "text/plain": [
       "user id      0\n",
       "movie id     0\n",
       "rating       0\n",
       "timestamp    0\n",
       "dtype: int64"
      ]
     },
     "execution_count": 11,
     "metadata": {},
     "output_type": "execute_result"
    }
   ],
   "source": [
    "ratings_df.isnull().sum()"
   ]
  },
  {
   "cell_type": "code",
   "execution_count": 12,
   "metadata": {},
   "outputs": [
    {
     "data": {
      "text/html": [
       "<div>\n",
       "<style scoped>\n",
       "    .dataframe tbody tr th:only-of-type {\n",
       "        vertical-align: middle;\n",
       "    }\n",
       "\n",
       "    .dataframe tbody tr th {\n",
       "        vertical-align: top;\n",
       "    }\n",
       "\n",
       "    .dataframe thead th {\n",
       "        text-align: right;\n",
       "    }\n",
       "</style>\n",
       "<table border=\"1\" class=\"dataframe\">\n",
       "  <thead>\n",
       "    <tr style=\"text-align: right;\">\n",
       "      <th></th>\n",
       "      <th>user id</th>\n",
       "      <th>age</th>\n",
       "    </tr>\n",
       "  </thead>\n",
       "  <tbody>\n",
       "    <tr>\n",
       "      <th>count</th>\n",
       "      <td>943.000000</td>\n",
       "      <td>943.000000</td>\n",
       "    </tr>\n",
       "    <tr>\n",
       "      <th>mean</th>\n",
       "      <td>472.000000</td>\n",
       "      <td>34.051962</td>\n",
       "    </tr>\n",
       "    <tr>\n",
       "      <th>std</th>\n",
       "      <td>272.364951</td>\n",
       "      <td>12.192740</td>\n",
       "    </tr>\n",
       "    <tr>\n",
       "      <th>min</th>\n",
       "      <td>1.000000</td>\n",
       "      <td>7.000000</td>\n",
       "    </tr>\n",
       "    <tr>\n",
       "      <th>25%</th>\n",
       "      <td>236.500000</td>\n",
       "      <td>25.000000</td>\n",
       "    </tr>\n",
       "    <tr>\n",
       "      <th>50%</th>\n",
       "      <td>472.000000</td>\n",
       "      <td>31.000000</td>\n",
       "    </tr>\n",
       "    <tr>\n",
       "      <th>75%</th>\n",
       "      <td>707.500000</td>\n",
       "      <td>43.000000</td>\n",
       "    </tr>\n",
       "    <tr>\n",
       "      <th>max</th>\n",
       "      <td>943.000000</td>\n",
       "      <td>73.000000</td>\n",
       "    </tr>\n",
       "  </tbody>\n",
       "</table>\n",
       "</div>"
      ],
      "text/plain": [
       "          user id         age\n",
       "count  943.000000  943.000000\n",
       "mean   472.000000   34.051962\n",
       "std    272.364951   12.192740\n",
       "min      1.000000    7.000000\n",
       "25%    236.500000   25.000000\n",
       "50%    472.000000   31.000000\n",
       "75%    707.500000   43.000000\n",
       "max    943.000000   73.000000"
      ]
     },
     "execution_count": 12,
     "metadata": {},
     "output_type": "execute_result"
    }
   ],
   "source": [
    "# all three dataframes descriptions\n",
    "users_df.describe()"
   ]
  },
  {
   "cell_type": "code",
   "execution_count": 13,
   "metadata": {},
   "outputs": [
    {
     "data": {
      "text/html": [
       "<div>\n",
       "<style scoped>\n",
       "    .dataframe tbody tr th:only-of-type {\n",
       "        vertical-align: middle;\n",
       "    }\n",
       "\n",
       "    .dataframe tbody tr th {\n",
       "        vertical-align: top;\n",
       "    }\n",
       "\n",
       "    .dataframe thead th {\n",
       "        text-align: right;\n",
       "    }\n",
       "</style>\n",
       "<table border=\"1\" class=\"dataframe\">\n",
       "  <thead>\n",
       "    <tr style=\"text-align: right;\">\n",
       "      <th></th>\n",
       "      <th>movie id</th>\n",
       "      <th>unknown</th>\n",
       "      <th>Action</th>\n",
       "      <th>Adventure</th>\n",
       "      <th>Animation</th>\n",
       "      <th>Childrens</th>\n",
       "      <th>Comedy</th>\n",
       "      <th>Crime</th>\n",
       "      <th>Documentary</th>\n",
       "      <th>Drama</th>\n",
       "      <th>Fantasy</th>\n",
       "      <th>Film-Noir</th>\n",
       "      <th>Horror</th>\n",
       "      <th>Musical</th>\n",
       "      <th>Mystery</th>\n",
       "      <th>Romance</th>\n",
       "      <th>Sci-Fi</th>\n",
       "      <th>Thriller</th>\n",
       "      <th>War</th>\n",
       "      <th>Western</th>\n",
       "    </tr>\n",
       "  </thead>\n",
       "  <tbody>\n",
       "    <tr>\n",
       "      <th>count</th>\n",
       "      <td>1681.000000</td>\n",
       "      <td>1681.000000</td>\n",
       "      <td>1681.000000</td>\n",
       "      <td>1681.000000</td>\n",
       "      <td>1681.000000</td>\n",
       "      <td>1681.000000</td>\n",
       "      <td>1681.000000</td>\n",
       "      <td>1681.000000</td>\n",
       "      <td>1681.000000</td>\n",
       "      <td>1681.000000</td>\n",
       "      <td>1681.000000</td>\n",
       "      <td>1681.000000</td>\n",
       "      <td>1681.000000</td>\n",
       "      <td>1681.000000</td>\n",
       "      <td>1681.000000</td>\n",
       "      <td>1681.000000</td>\n",
       "      <td>1681.000000</td>\n",
       "      <td>1681.000000</td>\n",
       "      <td>1681.000000</td>\n",
       "      <td>1681.000000</td>\n",
       "    </tr>\n",
       "    <tr>\n",
       "      <th>mean</th>\n",
       "      <td>841.841761</td>\n",
       "      <td>0.000595</td>\n",
       "      <td>0.149316</td>\n",
       "      <td>0.080309</td>\n",
       "      <td>0.024985</td>\n",
       "      <td>0.072576</td>\n",
       "      <td>0.300416</td>\n",
       "      <td>0.064842</td>\n",
       "      <td>0.029744</td>\n",
       "      <td>0.431291</td>\n",
       "      <td>0.013087</td>\n",
       "      <td>0.014277</td>\n",
       "      <td>0.054729</td>\n",
       "      <td>0.033314</td>\n",
       "      <td>0.036288</td>\n",
       "      <td>0.146936</td>\n",
       "      <td>0.060083</td>\n",
       "      <td>0.149316</td>\n",
       "      <td>0.042237</td>\n",
       "      <td>0.016062</td>\n",
       "    </tr>\n",
       "    <tr>\n",
       "      <th>std</th>\n",
       "      <td>485.638077</td>\n",
       "      <td>0.024390</td>\n",
       "      <td>0.356506</td>\n",
       "      <td>0.271852</td>\n",
       "      <td>0.156126</td>\n",
       "      <td>0.259516</td>\n",
       "      <td>0.458576</td>\n",
       "      <td>0.246321</td>\n",
       "      <td>0.169931</td>\n",
       "      <td>0.495404</td>\n",
       "      <td>0.113683</td>\n",
       "      <td>0.118667</td>\n",
       "      <td>0.227519</td>\n",
       "      <td>0.179507</td>\n",
       "      <td>0.187061</td>\n",
       "      <td>0.354148</td>\n",
       "      <td>0.237712</td>\n",
       "      <td>0.356506</td>\n",
       "      <td>0.201189</td>\n",
       "      <td>0.125751</td>\n",
       "    </tr>\n",
       "    <tr>\n",
       "      <th>min</th>\n",
       "      <td>1.000000</td>\n",
       "      <td>0.000000</td>\n",
       "      <td>0.000000</td>\n",
       "      <td>0.000000</td>\n",
       "      <td>0.000000</td>\n",
       "      <td>0.000000</td>\n",
       "      <td>0.000000</td>\n",
       "      <td>0.000000</td>\n",
       "      <td>0.000000</td>\n",
       "      <td>0.000000</td>\n",
       "      <td>0.000000</td>\n",
       "      <td>0.000000</td>\n",
       "      <td>0.000000</td>\n",
       "      <td>0.000000</td>\n",
       "      <td>0.000000</td>\n",
       "      <td>0.000000</td>\n",
       "      <td>0.000000</td>\n",
       "      <td>0.000000</td>\n",
       "      <td>0.000000</td>\n",
       "      <td>0.000000</td>\n",
       "    </tr>\n",
       "    <tr>\n",
       "      <th>25%</th>\n",
       "      <td>422.000000</td>\n",
       "      <td>0.000000</td>\n",
       "      <td>0.000000</td>\n",
       "      <td>0.000000</td>\n",
       "      <td>0.000000</td>\n",
       "      <td>0.000000</td>\n",
       "      <td>0.000000</td>\n",
       "      <td>0.000000</td>\n",
       "      <td>0.000000</td>\n",
       "      <td>0.000000</td>\n",
       "      <td>0.000000</td>\n",
       "      <td>0.000000</td>\n",
       "      <td>0.000000</td>\n",
       "      <td>0.000000</td>\n",
       "      <td>0.000000</td>\n",
       "      <td>0.000000</td>\n",
       "      <td>0.000000</td>\n",
       "      <td>0.000000</td>\n",
       "      <td>0.000000</td>\n",
       "      <td>0.000000</td>\n",
       "    </tr>\n",
       "    <tr>\n",
       "      <th>50%</th>\n",
       "      <td>842.000000</td>\n",
       "      <td>0.000000</td>\n",
       "      <td>0.000000</td>\n",
       "      <td>0.000000</td>\n",
       "      <td>0.000000</td>\n",
       "      <td>0.000000</td>\n",
       "      <td>0.000000</td>\n",
       "      <td>0.000000</td>\n",
       "      <td>0.000000</td>\n",
       "      <td>0.000000</td>\n",
       "      <td>0.000000</td>\n",
       "      <td>0.000000</td>\n",
       "      <td>0.000000</td>\n",
       "      <td>0.000000</td>\n",
       "      <td>0.000000</td>\n",
       "      <td>0.000000</td>\n",
       "      <td>0.000000</td>\n",
       "      <td>0.000000</td>\n",
       "      <td>0.000000</td>\n",
       "      <td>0.000000</td>\n",
       "    </tr>\n",
       "    <tr>\n",
       "      <th>75%</th>\n",
       "      <td>1262.000000</td>\n",
       "      <td>0.000000</td>\n",
       "      <td>0.000000</td>\n",
       "      <td>0.000000</td>\n",
       "      <td>0.000000</td>\n",
       "      <td>0.000000</td>\n",
       "      <td>1.000000</td>\n",
       "      <td>0.000000</td>\n",
       "      <td>0.000000</td>\n",
       "      <td>1.000000</td>\n",
       "      <td>0.000000</td>\n",
       "      <td>0.000000</td>\n",
       "      <td>0.000000</td>\n",
       "      <td>0.000000</td>\n",
       "      <td>0.000000</td>\n",
       "      <td>0.000000</td>\n",
       "      <td>0.000000</td>\n",
       "      <td>0.000000</td>\n",
       "      <td>0.000000</td>\n",
       "      <td>0.000000</td>\n",
       "    </tr>\n",
       "    <tr>\n",
       "      <th>max</th>\n",
       "      <td>1682.000000</td>\n",
       "      <td>1.000000</td>\n",
       "      <td>1.000000</td>\n",
       "      <td>1.000000</td>\n",
       "      <td>1.000000</td>\n",
       "      <td>1.000000</td>\n",
       "      <td>1.000000</td>\n",
       "      <td>1.000000</td>\n",
       "      <td>1.000000</td>\n",
       "      <td>1.000000</td>\n",
       "      <td>1.000000</td>\n",
       "      <td>1.000000</td>\n",
       "      <td>1.000000</td>\n",
       "      <td>1.000000</td>\n",
       "      <td>1.000000</td>\n",
       "      <td>1.000000</td>\n",
       "      <td>1.000000</td>\n",
       "      <td>1.000000</td>\n",
       "      <td>1.000000</td>\n",
       "      <td>1.000000</td>\n",
       "    </tr>\n",
       "  </tbody>\n",
       "</table>\n",
       "</div>"
      ],
      "text/plain": [
       "          movie id      unknown       Action    Adventure    Animation  \\\n",
       "count  1681.000000  1681.000000  1681.000000  1681.000000  1681.000000   \n",
       "mean    841.841761     0.000595     0.149316     0.080309     0.024985   \n",
       "std     485.638077     0.024390     0.356506     0.271852     0.156126   \n",
       "min       1.000000     0.000000     0.000000     0.000000     0.000000   \n",
       "25%     422.000000     0.000000     0.000000     0.000000     0.000000   \n",
       "50%     842.000000     0.000000     0.000000     0.000000     0.000000   \n",
       "75%    1262.000000     0.000000     0.000000     0.000000     0.000000   \n",
       "max    1682.000000     1.000000     1.000000     1.000000     1.000000   \n",
       "\n",
       "         Childrens       Comedy        Crime  Documentary        Drama  \\\n",
       "count  1681.000000  1681.000000  1681.000000  1681.000000  1681.000000   \n",
       "mean      0.072576     0.300416     0.064842     0.029744     0.431291   \n",
       "std       0.259516     0.458576     0.246321     0.169931     0.495404   \n",
       "min       0.000000     0.000000     0.000000     0.000000     0.000000   \n",
       "25%       0.000000     0.000000     0.000000     0.000000     0.000000   \n",
       "50%       0.000000     0.000000     0.000000     0.000000     0.000000   \n",
       "75%       0.000000     1.000000     0.000000     0.000000     1.000000   \n",
       "max       1.000000     1.000000     1.000000     1.000000     1.000000   \n",
       "\n",
       "           Fantasy    Film-Noir       Horror      Musical      Mystery  \\\n",
       "count  1681.000000  1681.000000  1681.000000  1681.000000  1681.000000   \n",
       "mean      0.013087     0.014277     0.054729     0.033314     0.036288   \n",
       "std       0.113683     0.118667     0.227519     0.179507     0.187061   \n",
       "min       0.000000     0.000000     0.000000     0.000000     0.000000   \n",
       "25%       0.000000     0.000000     0.000000     0.000000     0.000000   \n",
       "50%       0.000000     0.000000     0.000000     0.000000     0.000000   \n",
       "75%       0.000000     0.000000     0.000000     0.000000     0.000000   \n",
       "max       1.000000     1.000000     1.000000     1.000000     1.000000   \n",
       "\n",
       "           Romance       Sci-Fi     Thriller          War      Western  \n",
       "count  1681.000000  1681.000000  1681.000000  1681.000000  1681.000000  \n",
       "mean      0.146936     0.060083     0.149316     0.042237     0.016062  \n",
       "std       0.354148     0.237712     0.356506     0.201189     0.125751  \n",
       "min       0.000000     0.000000     0.000000     0.000000     0.000000  \n",
       "25%       0.000000     0.000000     0.000000     0.000000     0.000000  \n",
       "50%       0.000000     0.000000     0.000000     0.000000     0.000000  \n",
       "75%       0.000000     0.000000     0.000000     0.000000     0.000000  \n",
       "max       1.000000     1.000000     1.000000     1.000000     1.000000  "
      ]
     },
     "execution_count": 13,
     "metadata": {},
     "output_type": "execute_result"
    }
   ],
   "source": [
    "movies_df.describe()"
   ]
  },
  {
   "cell_type": "code",
   "execution_count": 14,
   "metadata": {},
   "outputs": [
    {
     "data": {
      "text/html": [
       "<div>\n",
       "<style scoped>\n",
       "    .dataframe tbody tr th:only-of-type {\n",
       "        vertical-align: middle;\n",
       "    }\n",
       "\n",
       "    .dataframe tbody tr th {\n",
       "        vertical-align: top;\n",
       "    }\n",
       "\n",
       "    .dataframe thead th {\n",
       "        text-align: right;\n",
       "    }\n",
       "</style>\n",
       "<table border=\"1\" class=\"dataframe\">\n",
       "  <thead>\n",
       "    <tr style=\"text-align: right;\">\n",
       "      <th></th>\n",
       "      <th>user id</th>\n",
       "      <th>movie id</th>\n",
       "      <th>rating</th>\n",
       "      <th>timestamp</th>\n",
       "    </tr>\n",
       "  </thead>\n",
       "  <tbody>\n",
       "    <tr>\n",
       "      <th>count</th>\n",
       "      <td>100000.00000</td>\n",
       "      <td>100000.000000</td>\n",
       "      <td>100000.000000</td>\n",
       "      <td>1.000000e+05</td>\n",
       "    </tr>\n",
       "    <tr>\n",
       "      <th>mean</th>\n",
       "      <td>462.48475</td>\n",
       "      <td>425.530130</td>\n",
       "      <td>3.529860</td>\n",
       "      <td>8.835289e+08</td>\n",
       "    </tr>\n",
       "    <tr>\n",
       "      <th>std</th>\n",
       "      <td>266.61442</td>\n",
       "      <td>330.798356</td>\n",
       "      <td>1.125674</td>\n",
       "      <td>5.343856e+06</td>\n",
       "    </tr>\n",
       "    <tr>\n",
       "      <th>min</th>\n",
       "      <td>1.00000</td>\n",
       "      <td>1.000000</td>\n",
       "      <td>1.000000</td>\n",
       "      <td>8.747247e+08</td>\n",
       "    </tr>\n",
       "    <tr>\n",
       "      <th>25%</th>\n",
       "      <td>254.00000</td>\n",
       "      <td>175.000000</td>\n",
       "      <td>3.000000</td>\n",
       "      <td>8.794487e+08</td>\n",
       "    </tr>\n",
       "    <tr>\n",
       "      <th>50%</th>\n",
       "      <td>447.00000</td>\n",
       "      <td>322.000000</td>\n",
       "      <td>4.000000</td>\n",
       "      <td>8.828269e+08</td>\n",
       "    </tr>\n",
       "    <tr>\n",
       "      <th>75%</th>\n",
       "      <td>682.00000</td>\n",
       "      <td>631.000000</td>\n",
       "      <td>4.000000</td>\n",
       "      <td>8.882600e+08</td>\n",
       "    </tr>\n",
       "    <tr>\n",
       "      <th>max</th>\n",
       "      <td>943.00000</td>\n",
       "      <td>1682.000000</td>\n",
       "      <td>5.000000</td>\n",
       "      <td>8.932866e+08</td>\n",
       "    </tr>\n",
       "  </tbody>\n",
       "</table>\n",
       "</div>"
      ],
      "text/plain": [
       "            user id       movie id         rating     timestamp\n",
       "count  100000.00000  100000.000000  100000.000000  1.000000e+05\n",
       "mean      462.48475     425.530130       3.529860  8.835289e+08\n",
       "std       266.61442     330.798356       1.125674  5.343856e+06\n",
       "min         1.00000       1.000000       1.000000  8.747247e+08\n",
       "25%       254.00000     175.000000       3.000000  8.794487e+08\n",
       "50%       447.00000     322.000000       4.000000  8.828269e+08\n",
       "75%       682.00000     631.000000       4.000000  8.882600e+08\n",
       "max       943.00000    1682.000000       5.000000  8.932866e+08"
      ]
     },
     "execution_count": 14,
     "metadata": {},
     "output_type": "execute_result"
    }
   ],
   "source": [
    "ratings_df.describe()"
   ]
  },
  {
   "cell_type": "markdown",
   "metadata": {},
   "source": [
    "#### 4. Find the number of movies per genre using the item data - 5 marks"
   ]
  },
  {
   "cell_type": "code",
   "execution_count": 15,
   "metadata": {
    "scrolled": true
   },
   "outputs": [
    {
     "data": {
      "text/html": [
       "<div>\n",
       "<style scoped>\n",
       "    .dataframe tbody tr th:only-of-type {\n",
       "        vertical-align: middle;\n",
       "    }\n",
       "\n",
       "    .dataframe tbody tr th {\n",
       "        vertical-align: top;\n",
       "    }\n",
       "\n",
       "    .dataframe thead th {\n",
       "        text-align: right;\n",
       "    }\n",
       "</style>\n",
       "<table border=\"1\" class=\"dataframe\">\n",
       "  <thead>\n",
       "    <tr style=\"text-align: right;\">\n",
       "      <th></th>\n",
       "      <th>0</th>\n",
       "    </tr>\n",
       "  </thead>\n",
       "  <tbody>\n",
       "    <tr>\n",
       "      <th>unknown</th>\n",
       "      <td>1</td>\n",
       "    </tr>\n",
       "    <tr>\n",
       "      <th>Action</th>\n",
       "      <td>251</td>\n",
       "    </tr>\n",
       "    <tr>\n",
       "      <th>Adventure</th>\n",
       "      <td>135</td>\n",
       "    </tr>\n",
       "    <tr>\n",
       "      <th>Animation</th>\n",
       "      <td>42</td>\n",
       "    </tr>\n",
       "    <tr>\n",
       "      <th>Childrens</th>\n",
       "      <td>122</td>\n",
       "    </tr>\n",
       "    <tr>\n",
       "      <th>Comedy</th>\n",
       "      <td>505</td>\n",
       "    </tr>\n",
       "    <tr>\n",
       "      <th>Crime</th>\n",
       "      <td>109</td>\n",
       "    </tr>\n",
       "    <tr>\n",
       "      <th>Documentary</th>\n",
       "      <td>50</td>\n",
       "    </tr>\n",
       "    <tr>\n",
       "      <th>Drama</th>\n",
       "      <td>725</td>\n",
       "    </tr>\n",
       "    <tr>\n",
       "      <th>Fantasy</th>\n",
       "      <td>22</td>\n",
       "    </tr>\n",
       "    <tr>\n",
       "      <th>Film-Noir</th>\n",
       "      <td>24</td>\n",
       "    </tr>\n",
       "    <tr>\n",
       "      <th>Horror</th>\n",
       "      <td>92</td>\n",
       "    </tr>\n",
       "    <tr>\n",
       "      <th>Musical</th>\n",
       "      <td>56</td>\n",
       "    </tr>\n",
       "    <tr>\n",
       "      <th>Mystery</th>\n",
       "      <td>61</td>\n",
       "    </tr>\n",
       "    <tr>\n",
       "      <th>Romance</th>\n",
       "      <td>247</td>\n",
       "    </tr>\n",
       "    <tr>\n",
       "      <th>Sci-Fi</th>\n",
       "      <td>101</td>\n",
       "    </tr>\n",
       "    <tr>\n",
       "      <th>Thriller</th>\n",
       "      <td>251</td>\n",
       "    </tr>\n",
       "    <tr>\n",
       "      <th>War</th>\n",
       "      <td>71</td>\n",
       "    </tr>\n",
       "    <tr>\n",
       "      <th>Western</th>\n",
       "      <td>27</td>\n",
       "    </tr>\n",
       "  </tbody>\n",
       "</table>\n",
       "</div>"
      ],
      "text/plain": [
       "               0\n",
       "unknown        1\n",
       "Action       251\n",
       "Adventure    135\n",
       "Animation     42\n",
       "Childrens    122\n",
       "Comedy       505\n",
       "Crime        109\n",
       "Documentary   50\n",
       "Drama        725\n",
       "Fantasy       22\n",
       "Film-Noir     24\n",
       "Horror        92\n",
       "Musical       56\n",
       "Mystery       61\n",
       "Romance      247\n",
       "Sci-Fi       101\n",
       "Thriller     251\n",
       "War           71\n",
       "Western       27"
      ]
     },
     "execution_count": 15,
     "metadata": {},
     "output_type": "execute_result"
    }
   ],
   "source": [
    "# use sum on the default axis\n",
    "# for this operation, drop unncessary columns like movie id, movie title, release date etc\n",
    "movies_df_with_for_geners = movies_df.drop(columns=['movie id','movie title','release date'])\n",
    "movies_df_with_for_geners.sum().to_frame()"
   ]
  },
  {
   "cell_type": "code",
   "execution_count": 16,
   "metadata": {},
   "outputs": [],
   "source": [
    "#highest movie fall into drama genre while fantacy is lowest known genre"
   ]
  },
  {
   "cell_type": "markdown",
   "metadata": {},
   "source": [
    "#### 5. Find the movies that have more than one genre - 2.5 marks"
   ]
  },
  {
   "cell_type": "code",
   "execution_count": 17,
   "metadata": {},
   "outputs": [
    {
     "data": {
      "text/html": [
       "<div>\n",
       "<style scoped>\n",
       "    .dataframe tbody tr th:only-of-type {\n",
       "        vertical-align: middle;\n",
       "    }\n",
       "\n",
       "    .dataframe tbody tr th {\n",
       "        vertical-align: top;\n",
       "    }\n",
       "\n",
       "    .dataframe thead th {\n",
       "        text-align: right;\n",
       "    }\n",
       "</style>\n",
       "<table border=\"1\" class=\"dataframe\">\n",
       "  <thead>\n",
       "    <tr style=\"text-align: right;\">\n",
       "      <th></th>\n",
       "      <th>movie title</th>\n",
       "      <th>release date</th>\n",
       "      <th>unknown</th>\n",
       "      <th>Action</th>\n",
       "      <th>Adventure</th>\n",
       "      <th>Animation</th>\n",
       "      <th>Childrens</th>\n",
       "      <th>Comedy</th>\n",
       "      <th>Crime</th>\n",
       "      <th>Documentary</th>\n",
       "      <th>...</th>\n",
       "      <th>Film-Noir</th>\n",
       "      <th>Horror</th>\n",
       "      <th>Musical</th>\n",
       "      <th>Mystery</th>\n",
       "      <th>Romance</th>\n",
       "      <th>Sci-Fi</th>\n",
       "      <th>Thriller</th>\n",
       "      <th>War</th>\n",
       "      <th>Western</th>\n",
       "      <th>multiple_genre</th>\n",
       "    </tr>\n",
       "  </thead>\n",
       "  <tbody>\n",
       "    <tr>\n",
       "      <th>0</th>\n",
       "      <td>Toy Story</td>\n",
       "      <td>01-Jan-1995</td>\n",
       "      <td>0</td>\n",
       "      <td>0</td>\n",
       "      <td>0</td>\n",
       "      <td>1</td>\n",
       "      <td>1</td>\n",
       "      <td>1</td>\n",
       "      <td>0</td>\n",
       "      <td>0</td>\n",
       "      <td>...</td>\n",
       "      <td>0</td>\n",
       "      <td>0</td>\n",
       "      <td>0</td>\n",
       "      <td>0</td>\n",
       "      <td>0</td>\n",
       "      <td>0</td>\n",
       "      <td>0</td>\n",
       "      <td>0</td>\n",
       "      <td>0</td>\n",
       "      <td>3</td>\n",
       "    </tr>\n",
       "    <tr>\n",
       "      <th>1</th>\n",
       "      <td>GoldenEye</td>\n",
       "      <td>01-Jan-1995</td>\n",
       "      <td>0</td>\n",
       "      <td>1</td>\n",
       "      <td>1</td>\n",
       "      <td>0</td>\n",
       "      <td>0</td>\n",
       "      <td>0</td>\n",
       "      <td>0</td>\n",
       "      <td>0</td>\n",
       "      <td>...</td>\n",
       "      <td>0</td>\n",
       "      <td>0</td>\n",
       "      <td>0</td>\n",
       "      <td>0</td>\n",
       "      <td>0</td>\n",
       "      <td>0</td>\n",
       "      <td>1</td>\n",
       "      <td>0</td>\n",
       "      <td>0</td>\n",
       "      <td>3</td>\n",
       "    </tr>\n",
       "    <tr>\n",
       "      <th>3</th>\n",
       "      <td>Get Shorty</td>\n",
       "      <td>01-Jan-1995</td>\n",
       "      <td>0</td>\n",
       "      <td>1</td>\n",
       "      <td>0</td>\n",
       "      <td>0</td>\n",
       "      <td>0</td>\n",
       "      <td>1</td>\n",
       "      <td>0</td>\n",
       "      <td>0</td>\n",
       "      <td>...</td>\n",
       "      <td>0</td>\n",
       "      <td>0</td>\n",
       "      <td>0</td>\n",
       "      <td>0</td>\n",
       "      <td>0</td>\n",
       "      <td>0</td>\n",
       "      <td>0</td>\n",
       "      <td>0</td>\n",
       "      <td>0</td>\n",
       "      <td>3</td>\n",
       "    </tr>\n",
       "    <tr>\n",
       "      <th>4</th>\n",
       "      <td>Copycat</td>\n",
       "      <td>01-Jan-1995</td>\n",
       "      <td>0</td>\n",
       "      <td>0</td>\n",
       "      <td>0</td>\n",
       "      <td>0</td>\n",
       "      <td>0</td>\n",
       "      <td>0</td>\n",
       "      <td>1</td>\n",
       "      <td>0</td>\n",
       "      <td>...</td>\n",
       "      <td>0</td>\n",
       "      <td>0</td>\n",
       "      <td>0</td>\n",
       "      <td>0</td>\n",
       "      <td>0</td>\n",
       "      <td>0</td>\n",
       "      <td>1</td>\n",
       "      <td>0</td>\n",
       "      <td>0</td>\n",
       "      <td>3</td>\n",
       "    </tr>\n",
       "    <tr>\n",
       "      <th>6</th>\n",
       "      <td>Twelve Monkeys</td>\n",
       "      <td>01-Jan-1995</td>\n",
       "      <td>0</td>\n",
       "      <td>0</td>\n",
       "      <td>0</td>\n",
       "      <td>0</td>\n",
       "      <td>0</td>\n",
       "      <td>0</td>\n",
       "      <td>0</td>\n",
       "      <td>0</td>\n",
       "      <td>...</td>\n",
       "      <td>0</td>\n",
       "      <td>0</td>\n",
       "      <td>0</td>\n",
       "      <td>0</td>\n",
       "      <td>0</td>\n",
       "      <td>1</td>\n",
       "      <td>0</td>\n",
       "      <td>0</td>\n",
       "      <td>0</td>\n",
       "      <td>2</td>\n",
       "    </tr>\n",
       "    <tr>\n",
       "      <th>...</th>\n",
       "      <td>...</td>\n",
       "      <td>...</td>\n",
       "      <td>...</td>\n",
       "      <td>...</td>\n",
       "      <td>...</td>\n",
       "      <td>...</td>\n",
       "      <td>...</td>\n",
       "      <td>...</td>\n",
       "      <td>...</td>\n",
       "      <td>...</td>\n",
       "      <td>...</td>\n",
       "      <td>...</td>\n",
       "      <td>...</td>\n",
       "      <td>...</td>\n",
       "      <td>...</td>\n",
       "      <td>...</td>\n",
       "      <td>...</td>\n",
       "      <td>...</td>\n",
       "      <td>...</td>\n",
       "      <td>...</td>\n",
       "      <td>...</td>\n",
       "    </tr>\n",
       "    <tr>\n",
       "      <th>1667</th>\n",
       "      <td>MURDER and murder</td>\n",
       "      <td>20-Jun-1997</td>\n",
       "      <td>0</td>\n",
       "      <td>0</td>\n",
       "      <td>0</td>\n",
       "      <td>0</td>\n",
       "      <td>0</td>\n",
       "      <td>0</td>\n",
       "      <td>1</td>\n",
       "      <td>0</td>\n",
       "      <td>...</td>\n",
       "      <td>0</td>\n",
       "      <td>0</td>\n",
       "      <td>0</td>\n",
       "      <td>1</td>\n",
       "      <td>0</td>\n",
       "      <td>0</td>\n",
       "      <td>0</td>\n",
       "      <td>0</td>\n",
       "      <td>0</td>\n",
       "      <td>3</td>\n",
       "    </tr>\n",
       "    <tr>\n",
       "      <th>1668</th>\n",
       "      <td>Tainted</td>\n",
       "      <td>01-Feb-1998</td>\n",
       "      <td>0</td>\n",
       "      <td>0</td>\n",
       "      <td>0</td>\n",
       "      <td>0</td>\n",
       "      <td>0</td>\n",
       "      <td>1</td>\n",
       "      <td>0</td>\n",
       "      <td>0</td>\n",
       "      <td>...</td>\n",
       "      <td>0</td>\n",
       "      <td>0</td>\n",
       "      <td>0</td>\n",
       "      <td>0</td>\n",
       "      <td>0</td>\n",
       "      <td>0</td>\n",
       "      <td>1</td>\n",
       "      <td>0</td>\n",
       "      <td>0</td>\n",
       "      <td>2</td>\n",
       "    </tr>\n",
       "    <tr>\n",
       "      <th>1671</th>\n",
       "      <td>Mirage</td>\n",
       "      <td>01-Jan-1995</td>\n",
       "      <td>0</td>\n",
       "      <td>1</td>\n",
       "      <td>0</td>\n",
       "      <td>0</td>\n",
       "      <td>0</td>\n",
       "      <td>0</td>\n",
       "      <td>0</td>\n",
       "      <td>0</td>\n",
       "      <td>...</td>\n",
       "      <td>0</td>\n",
       "      <td>0</td>\n",
       "      <td>0</td>\n",
       "      <td>0</td>\n",
       "      <td>0</td>\n",
       "      <td>0</td>\n",
       "      <td>1</td>\n",
       "      <td>0</td>\n",
       "      <td>0</td>\n",
       "      <td>2</td>\n",
       "    </tr>\n",
       "    <tr>\n",
       "      <th>1677</th>\n",
       "      <td>B. Monkey</td>\n",
       "      <td>06-Feb-1998</td>\n",
       "      <td>0</td>\n",
       "      <td>0</td>\n",
       "      <td>0</td>\n",
       "      <td>0</td>\n",
       "      <td>0</td>\n",
       "      <td>0</td>\n",
       "      <td>0</td>\n",
       "      <td>0</td>\n",
       "      <td>...</td>\n",
       "      <td>0</td>\n",
       "      <td>0</td>\n",
       "      <td>0</td>\n",
       "      <td>0</td>\n",
       "      <td>1</td>\n",
       "      <td>0</td>\n",
       "      <td>1</td>\n",
       "      <td>0</td>\n",
       "      <td>0</td>\n",
       "      <td>2</td>\n",
       "    </tr>\n",
       "    <tr>\n",
       "      <th>1678</th>\n",
       "      <td>Sliding Doors</td>\n",
       "      <td>01-Jan-1998</td>\n",
       "      <td>0</td>\n",
       "      <td>0</td>\n",
       "      <td>0</td>\n",
       "      <td>0</td>\n",
       "      <td>0</td>\n",
       "      <td>0</td>\n",
       "      <td>0</td>\n",
       "      <td>0</td>\n",
       "      <td>...</td>\n",
       "      <td>0</td>\n",
       "      <td>0</td>\n",
       "      <td>0</td>\n",
       "      <td>0</td>\n",
       "      <td>1</td>\n",
       "      <td>0</td>\n",
       "      <td>0</td>\n",
       "      <td>0</td>\n",
       "      <td>0</td>\n",
       "      <td>2</td>\n",
       "    </tr>\n",
       "  </tbody>\n",
       "</table>\n",
       "<p>849 rows × 22 columns</p>\n",
       "</div>"
      ],
      "text/plain": [
       "             movie title release date  unknown  Action  Adventure  Animation  \\\n",
       "0             Toy Story   01-Jan-1995        0       0          0          1   \n",
       "1             GoldenEye   01-Jan-1995        0       1          1          0   \n",
       "3            Get Shorty   01-Jan-1995        0       1          0          0   \n",
       "4               Copycat   01-Jan-1995        0       0          0          0   \n",
       "6        Twelve Monkeys   01-Jan-1995        0       0          0          0   \n",
       "...                  ...          ...      ...     ...        ...        ...   \n",
       "1667  MURDER and murder   20-Jun-1997        0       0          0          0   \n",
       "1668            Tainted   01-Feb-1998        0       0          0          0   \n",
       "1671             Mirage   01-Jan-1995        0       1          0          0   \n",
       "1677          B. Monkey   06-Feb-1998        0       0          0          0   \n",
       "1678      Sliding Doors   01-Jan-1998        0       0          0          0   \n",
       "\n",
       "      Childrens  Comedy  Crime  Documentary  ...  Film-Noir  Horror  Musical  \\\n",
       "0             1       1      0            0  ...          0       0        0   \n",
       "1             0       0      0            0  ...          0       0        0   \n",
       "3             0       1      0            0  ...          0       0        0   \n",
       "4             0       0      1            0  ...          0       0        0   \n",
       "6             0       0      0            0  ...          0       0        0   \n",
       "...         ...     ...    ...          ...  ...        ...     ...      ...   \n",
       "1667          0       0      1            0  ...          0       0        0   \n",
       "1668          0       1      0            0  ...          0       0        0   \n",
       "1671          0       0      0            0  ...          0       0        0   \n",
       "1677          0       0      0            0  ...          0       0        0   \n",
       "1678          0       0      0            0  ...          0       0        0   \n",
       "\n",
       "      Mystery  Romance  Sci-Fi  Thriller  War  Western  multiple_genre  \n",
       "0           0        0       0         0    0        0               3  \n",
       "1           0        0       0         1    0        0               3  \n",
       "3           0        0       0         0    0        0               3  \n",
       "4           0        0       0         1    0        0               3  \n",
       "6           0        0       1         0    0        0               2  \n",
       "...       ...      ...     ...       ...  ...      ...             ...  \n",
       "1667        1        0       0         0    0        0               3  \n",
       "1668        0        0       0         1    0        0               2  \n",
       "1671        0        0       0         1    0        0               2  \n",
       "1677        0        1       0         1    0        0               2  \n",
       "1678        0        1       0         0    0        0               2  \n",
       "\n",
       "[849 rows x 22 columns]"
      ]
     },
     "execution_count": 17,
     "metadata": {},
     "output_type": "execute_result"
    }
   ],
   "source": [
    "#hint: use sum on the axis = 1\n",
    "\n",
    "# creating new data frame named mutligenre which drop movie id since movie_id will number that add into column\n",
    "multi_genre = movies_df.drop(['movie id'],axis=1)\n",
    "\n",
    "# now add all geners columns and assign new column called multi_genre\n",
    "multi_genre['multiple_genre'] = multi_genre.sum(axis=1)\n",
    "\n",
    "# in case of sum is >1 indicates multiple geners for movie, lets filter out and print them.\n",
    "multi_genre[multi_genre['multiple_genre'] > 1]\n"
   ]
  },
  {
   "cell_type": "code",
   "execution_count": 18,
   "metadata": {},
   "outputs": [],
   "source": [
    "# Total 849 movies have multiple geners."
   ]
  },
  {
   "cell_type": "markdown",
   "metadata": {},
   "source": [
    "#### 6. Drop the movie where the genre is unknown - 2.5 marks"
   ]
  },
  {
   "cell_type": "code",
   "execution_count": 19,
   "metadata": {},
   "outputs": [],
   "source": [
    "# filter value with only unknown 0\n",
    "movies_df = movies_df[movies_df['unknown'] < 1]"
   ]
  },
  {
   "cell_type": "code",
   "execution_count": 20,
   "metadata": {},
   "outputs": [
    {
     "data": {
      "text/html": [
       "<div>\n",
       "<style scoped>\n",
       "    .dataframe tbody tr th:only-of-type {\n",
       "        vertical-align: middle;\n",
       "    }\n",
       "\n",
       "    .dataframe tbody tr th {\n",
       "        vertical-align: top;\n",
       "    }\n",
       "\n",
       "    .dataframe thead th {\n",
       "        text-align: right;\n",
       "    }\n",
       "</style>\n",
       "<table border=\"1\" class=\"dataframe\">\n",
       "  <thead>\n",
       "    <tr style=\"text-align: right;\">\n",
       "      <th></th>\n",
       "      <th>movie id</th>\n",
       "      <th>movie title</th>\n",
       "      <th>release date</th>\n",
       "      <th>unknown</th>\n",
       "      <th>Action</th>\n",
       "      <th>Adventure</th>\n",
       "      <th>Animation</th>\n",
       "      <th>Childrens</th>\n",
       "      <th>Comedy</th>\n",
       "      <th>Crime</th>\n",
       "      <th>...</th>\n",
       "      <th>Fantasy</th>\n",
       "      <th>Film-Noir</th>\n",
       "      <th>Horror</th>\n",
       "      <th>Musical</th>\n",
       "      <th>Mystery</th>\n",
       "      <th>Romance</th>\n",
       "      <th>Sci-Fi</th>\n",
       "      <th>Thriller</th>\n",
       "      <th>War</th>\n",
       "      <th>Western</th>\n",
       "    </tr>\n",
       "  </thead>\n",
       "  <tbody>\n",
       "  </tbody>\n",
       "</table>\n",
       "<p>0 rows × 22 columns</p>\n",
       "</div>"
      ],
      "text/plain": [
       "Empty DataFrame\n",
       "Columns: [movie id, movie title, release date, unknown, Action, Adventure, Animation, Childrens, Comedy, Crime, Documentary, Drama, Fantasy, Film-Noir, Horror, Musical, Mystery, Romance, Sci-Fi, Thriller, War, Western]\n",
       "Index: []\n",
       "\n",
       "[0 rows x 22 columns]"
      ]
     },
     "execution_count": 20,
     "metadata": {},
     "output_type": "execute_result"
    }
   ],
   "source": [
    "# make sure there is no unkown genre in movie\n",
    "movies_df[movies_df['unknown'] == 1]"
   ]
  },
  {
   "cell_type": "code",
   "execution_count": 21,
   "metadata": {},
   "outputs": [],
   "source": [
    "# unknown movie row dropped."
   ]
  },
  {
   "cell_type": "markdown",
   "metadata": {},
   "source": [
    "### 7. Univariate plots of columns: 'rating', 'Age', 'release year', 'Gender' and 'Occupation' - 10 marks"
   ]
  },
  {
   "cell_type": "code",
   "execution_count": 22,
   "metadata": {},
   "outputs": [],
   "source": [
    "# HINT: use distplot for age and countplot for gender,ratings,occupation.\n",
    "# HINT: Please refer to the below snippet to understand how to get to release year from release date. You can use str.split()\n",
    "# as depicted below\n",
    "# Hint : Use displot without kde for release year or line plot showing year wise count."
   ]
  },
  {
   "cell_type": "code",
   "execution_count": 23,
   "metadata": {},
   "outputs": [
    {
     "name": "stdout",
     "output_type": "stream",
     "text": [
      "brown\n",
      "brown\n",
      "brown\n"
     ]
    }
   ],
   "source": [
    "a = 'My*cat*is*brown'\n",
    "print(a.split('*')[3])\n",
    "\n",
    "#similarly, the release year needs to be taken out from release date\n",
    "\n",
    "#also you can simply slice existing string to get the desired data, if we want to take out the colour of the cat\n",
    "\n",
    "print(a[10:])\n",
    "print(a[-5:])"
   ]
  },
  {
   "cell_type": "code",
   "execution_count": 24,
   "metadata": {},
   "outputs": [
    {
     "data": {
      "text/plain": [
       "<matplotlib.axes._subplots.AxesSubplot at 0x7f19503c4668>"
      ]
     },
     "execution_count": 24,
     "metadata": {},
     "output_type": "execute_result"
    },
    {
     "data": {
      "image/png": "[encoded data removed]",
      "text/plain": [
       "<Figure size 432x288 with 1 Axes>"
      ]
     },
     "metadata": {},
     "output_type": "display_data"
    }
   ],
   "source": [
    "#your answers here\n",
    "\n",
    "# Univariant ge plot\n",
    "sns.set()\n",
    "sns.distplot(users_df['age'],kde=False,color='purple')"
   ]
  },
  {
   "cell_type": "code",
   "execution_count": 25,
   "metadata": {},
   "outputs": [
    {
     "data": {
      "text/plain": [
       "<matplotlib.axes._subplots.AxesSubplot at 0x7f19503b7a90>"
      ]
     },
     "execution_count": 25,
     "metadata": {},
     "output_type": "execute_result"
    },
    {
     "data": {
      "image/png": "[encoded data removed]",
      "text/plain": [
       "<Figure size 432x288 with 1 Axes>"
      ]
     },
     "metadata": {},
     "output_type": "display_data"
    }
   ],
   "source": [
    "# Univariate gender plot\n",
    "sns.countplot(users_df['gender'])"
   ]
  },
  {
   "cell_type": "code",
   "execution_count": 26,
   "metadata": {},
   "outputs": [
    {
     "data": {
      "text/plain": [
       "<matplotlib.axes._subplots.AxesSubplot at 0x7f19502c4da0>"
      ]
     },
     "execution_count": 26,
     "metadata": {},
     "output_type": "execute_result"
    },
    {
     "data": {
      "image/png": "[encoded data removed]",
      "text/plain": [
       "<Figure size 432x288 with 1 Axes>"
      ]
     },
     "metadata": {},
     "output_type": "display_data"
    }
   ],
   "source": [
    "# Univariate occupation plot\n",
    "sns.set(style=\"darkgrid\")\n",
    "sns.countplot(y=users_df['occupation'])"
   ]
  },
  {
   "cell_type": "code",
   "execution_count": 27,
   "metadata": {},
   "outputs": [
    {
     "data": {
      "text/plain": [
       "<matplotlib.axes._subplots.AxesSubplot at 0x7f1950161208>"
      ]
     },
     "execution_count": 27,
     "metadata": {},
     "output_type": "execute_result"
    },
    {
     "data": {
      "image/png": "[encoded data removed]",
      "text/plain": [
       "<Figure size 432x288 with 1 Axes>"
      ]
     },
     "metadata": {},
     "output_type": "display_data"
    }
   ],
   "source": [
    "# Univariate rating plot\n",
    "sns.countplot(ratings_df['rating'])"
   ]
  },
  {
   "cell_type": "code",
   "execution_count": 28,
   "metadata": {},
   "outputs": [],
   "source": [
    "# now for release year needs some compuatation \n",
    "# craete release year from release date column by using lambda\n",
    "movies_df['release year'] = movies_df['release date'].apply(lambda x:int(x.split('-')[2]))\n"
   ]
  },
  {
   "cell_type": "code",
   "execution_count": 29,
   "metadata": {},
   "outputs": [
    {
     "data": {
      "text/plain": [
       "<matplotlib.axes._subplots.AxesSubplot at 0x7f1950145fd0>"
      ]
     },
     "execution_count": 29,
     "metadata": {},
     "output_type": "execute_result"
    },
    {
     "data": {
      "image/png": "[encoded data removed]",
      "text/plain": [
       "<Figure size 432x288 with 1 Axes>"
      ]
     },
     "metadata": {},
     "output_type": "display_data"
    }
   ],
   "source": [
    "# this will create new column called release year from release date\n",
    "# now univariant plot it\n",
    "sns.distplot(movies_df['release year'],kde=False)"
   ]
  },
  {
   "cell_type": "markdown",
   "metadata": {},
   "source": [
    "### 8. Visualize how popularity of genres has changed over the years - 10 marks\n",
    "\n",
    "Note that you need to use the number of releases in a year as a parameter of popularity of a genre"
   ]
  },
  {
   "cell_type": "markdown",
   "metadata": {},
   "source": [
    "Hint \n",
    "\n",
    "1: you need to reach to a data frame where the release year is the index and the genre is the column names (one cell shows the number of release in a year in one genre) or vice versa.\n",
    "Once that is achieved, you can either use univariate plots or can use the heatmap to visualise all the changes over the years \n",
    "in one go. \n",
    "\n",
    "Hint 2: Use groupby on the relevant column and use sum() on the same to find out the nuumber of releases in a year/genre.  "
   ]
  },
  {
   "cell_type": "code",
   "execution_count": 30,
   "metadata": {},
   "outputs": [
    {
     "data": {
      "text/html": [
       "<div>\n",
       "<style scoped>\n",
       "    .dataframe tbody tr th:only-of-type {\n",
       "        vertical-align: middle;\n",
       "    }\n",
       "\n",
       "    .dataframe tbody tr th {\n",
       "        vertical-align: top;\n",
       "    }\n",
       "\n",
       "    .dataframe thead th {\n",
       "        text-align: right;\n",
       "    }\n",
       "</style>\n",
       "<table border=\"1\" class=\"dataframe\">\n",
       "  <thead>\n",
       "    <tr style=\"text-align: right;\">\n",
       "      <th></th>\n",
       "      <th>Action</th>\n",
       "      <th>Adventure</th>\n",
       "      <th>Animation</th>\n",
       "      <th>Childrens</th>\n",
       "      <th>Comedy</th>\n",
       "      <th>Crime</th>\n",
       "      <th>Documentary</th>\n",
       "      <th>Drama</th>\n",
       "      <th>Fantasy</th>\n",
       "      <th>Film-Noir</th>\n",
       "      <th>Horror</th>\n",
       "      <th>Musical</th>\n",
       "      <th>Mystery</th>\n",
       "      <th>Romance</th>\n",
       "      <th>Sci-Fi</th>\n",
       "      <th>Thriller</th>\n",
       "      <th>War</th>\n",
       "      <th>Western</th>\n",
       "      <th>unknown</th>\n",
       "    </tr>\n",
       "    <tr>\n",
       "      <th>release year</th>\n",
       "      <th></th>\n",
       "      <th></th>\n",
       "      <th></th>\n",
       "      <th></th>\n",
       "      <th></th>\n",
       "      <th></th>\n",
       "      <th></th>\n",
       "      <th></th>\n",
       "      <th></th>\n",
       "      <th></th>\n",
       "      <th></th>\n",
       "      <th></th>\n",
       "      <th></th>\n",
       "      <th></th>\n",
       "      <th></th>\n",
       "      <th></th>\n",
       "      <th></th>\n",
       "      <th></th>\n",
       "      <th></th>\n",
       "    </tr>\n",
       "  </thead>\n",
       "  <tbody>\n",
       "    <tr>\n",
       "      <th>1922</th>\n",
       "      <td>0</td>\n",
       "      <td>0</td>\n",
       "      <td>0</td>\n",
       "      <td>0</td>\n",
       "      <td>0</td>\n",
       "      <td>0</td>\n",
       "      <td>0</td>\n",
       "      <td>0</td>\n",
       "      <td>0</td>\n",
       "      <td>0</td>\n",
       "      <td>1</td>\n",
       "      <td>0</td>\n",
       "      <td>0</td>\n",
       "      <td>0</td>\n",
       "      <td>0</td>\n",
       "      <td>0</td>\n",
       "      <td>0</td>\n",
       "      <td>0</td>\n",
       "      <td>0</td>\n",
       "    </tr>\n",
       "    <tr>\n",
       "      <th>1926</th>\n",
       "      <td>0</td>\n",
       "      <td>0</td>\n",
       "      <td>0</td>\n",
       "      <td>0</td>\n",
       "      <td>0</td>\n",
       "      <td>0</td>\n",
       "      <td>0</td>\n",
       "      <td>1</td>\n",
       "      <td>0</td>\n",
       "      <td>0</td>\n",
       "      <td>0</td>\n",
       "      <td>0</td>\n",
       "      <td>0</td>\n",
       "      <td>0</td>\n",
       "      <td>0</td>\n",
       "      <td>0</td>\n",
       "      <td>0</td>\n",
       "      <td>0</td>\n",
       "      <td>0</td>\n",
       "    </tr>\n",
       "    <tr>\n",
       "      <th>1930</th>\n",
       "      <td>0</td>\n",
       "      <td>0</td>\n",
       "      <td>0</td>\n",
       "      <td>0</td>\n",
       "      <td>0</td>\n",
       "      <td>0</td>\n",
       "      <td>0</td>\n",
       "      <td>1</td>\n",
       "      <td>0</td>\n",
       "      <td>0</td>\n",
       "      <td>0</td>\n",
       "      <td>0</td>\n",
       "      <td>0</td>\n",
       "      <td>0</td>\n",
       "      <td>0</td>\n",
       "      <td>0</td>\n",
       "      <td>0</td>\n",
       "      <td>0</td>\n",
       "      <td>0</td>\n",
       "    </tr>\n",
       "    <tr>\n",
       "      <th>1931</th>\n",
       "      <td>0</td>\n",
       "      <td>0</td>\n",
       "      <td>0</td>\n",
       "      <td>0</td>\n",
       "      <td>0</td>\n",
       "      <td>1</td>\n",
       "      <td>0</td>\n",
       "      <td>0</td>\n",
       "      <td>0</td>\n",
       "      <td>1</td>\n",
       "      <td>0</td>\n",
       "      <td>0</td>\n",
       "      <td>0</td>\n",
       "      <td>0</td>\n",
       "      <td>0</td>\n",
       "      <td>1</td>\n",
       "      <td>0</td>\n",
       "      <td>0</td>\n",
       "      <td>0</td>\n",
       "    </tr>\n",
       "    <tr>\n",
       "      <th>1932</th>\n",
       "      <td>0</td>\n",
       "      <td>0</td>\n",
       "      <td>0</td>\n",
       "      <td>0</td>\n",
       "      <td>0</td>\n",
       "      <td>0</td>\n",
       "      <td>0</td>\n",
       "      <td>0</td>\n",
       "      <td>0</td>\n",
       "      <td>0</td>\n",
       "      <td>0</td>\n",
       "      <td>0</td>\n",
       "      <td>0</td>\n",
       "      <td>1</td>\n",
       "      <td>0</td>\n",
       "      <td>0</td>\n",
       "      <td>1</td>\n",
       "      <td>0</td>\n",
       "      <td>0</td>\n",
       "    </tr>\n",
       "  </tbody>\n",
       "</table>\n",
       "</div>"
      ],
      "text/plain": [
       "              Action  Adventure  Animation  Childrens  Comedy  Crime  \\\n",
       "release year                                                           \n",
       "1922               0          0          0          0       0      0   \n",
       "1926               0          0          0          0       0      0   \n",
       "1930               0          0          0          0       0      0   \n",
       "1931               0          0          0          0       0      1   \n",
       "1932               0          0          0          0       0      0   \n",
       "\n",
       "              Documentary  Drama  Fantasy  Film-Noir  Horror  Musical  \\\n",
       "release year                                                            \n",
       "1922                    0      0        0          0       1        0   \n",
       "1926                    0      1        0          0       0        0   \n",
       "1930                    0      1        0          0       0        0   \n",
       "1931                    0      0        0          1       0        0   \n",
       "1932                    0      0        0          0       0        0   \n",
       "\n",
       "              Mystery  Romance  Sci-Fi  Thriller  War  Western  unknown  \n",
       "release year                                                             \n",
       "1922                0        0       0         0    0        0        0  \n",
       "1926                0        0       0         0    0        0        0  \n",
       "1930                0        0       0         0    0        0        0  \n",
       "1931                0        0       0         1    0        0        0  \n",
       "1932                0        1       0         0    1        0        0  "
      ]
     },
     "execution_count": 30,
     "metadata": {},
     "output_type": "execute_result"
    }
   ],
   "source": [
    "#Your answer here\n",
    "# use generes list for easy apply\n",
    "genere_list = ['Action','Adventure','Animation','Childrens','Comedy','Crime','Documentary','Drama','Fantasy','Film-Noir',\n",
    "              'Horror','Musical','Mystery','Romance','Sci-Fi','Thriller','War','Western','unknown']\n",
    "\n",
    "# now create data frame movie by year with group by release year \n",
    "movie_by_year = movies_df.groupby(['release year'])\n",
    "\n",
    "# now from use of genere list create total movies by genere by year\n",
    "genere_movie_by_year = movie_by_year[genere_list].sum()\n",
    "genere_movie_by_year.head()"
   ]
  },
  {
   "cell_type": "code",
   "execution_count": 31,
   "metadata": {},
   "outputs": [
    {
     "data": {
      "text/plain": [
       "<matplotlib.axes._subplots.AxesSubplot at 0x7f194db862b0>"
      ]
     },
     "execution_count": 31,
     "metadata": {},
     "output_type": "execute_result"
    },
    {
     "data": {
      "image/png": "[encoded data removed]",
      "text/plain": [
       "<Figure size 3600x3600 with 2 Axes>"
      ]
     },
     "metadata": {},
     "output_type": "display_data"
    }
   ],
   "source": [
    "# finally create heat map for it\n",
    "fig,ax = plt.subplots(figsize=(50,50))\n",
    "sns.heatmap(genere_movie_by_year,ax=ax,annot=True,linewidths=.005,fmt='.1f',cmap='inferno',square=True)"
   ]
  },
  {
   "cell_type": "markdown",
   "metadata": {},
   "source": [
    "### 9. Find the top 25 movies according to average ratings such that each movie has number of ratings more than 100 - 10 marks\n",
    "\n",
    "Hint : \n",
    "1. First find the movies that have more than 100 ratings(use merge, groupby and count). Extract the movie titles in a list.\n",
    "2. Find the average rating of all the movies and sort them in the descending order. You will have to use the .merge() function to reach to a data set through which you can get the names and the average rating.\n",
    "3. Use isin(list obtained from 1) to filter out the movies which have more than 100 ratings.\n",
    "\n",
    "Note: This question will need you to research about groupby and apply your findings. You can find more on groupby on https://realpython.com/pandas-groupby/."
   ]
  },
  {
   "cell_type": "code",
   "execution_count": 32,
   "metadata": {},
   "outputs": [
    {
     "data": {
      "text/html": [
       "<div>\n",
       "<style scoped>\n",
       "    .dataframe tbody tr th:only-of-type {\n",
       "        vertical-align: middle;\n",
       "    }\n",
       "\n",
       "    .dataframe tbody tr th {\n",
       "        vertical-align: top;\n",
       "    }\n",
       "\n",
       "    .dataframe thead th {\n",
       "        text-align: right;\n",
       "    }\n",
       "</style>\n",
       "<table border=\"1\" class=\"dataframe\">\n",
       "  <thead>\n",
       "    <tr style=\"text-align: right;\">\n",
       "      <th></th>\n",
       "      <th>movie id</th>\n",
       "      <th>movie title</th>\n",
       "      <th>rating</th>\n",
       "    </tr>\n",
       "  </thead>\n",
       "  <tbody>\n",
       "    <tr>\n",
       "      <th>0</th>\n",
       "      <td>50</td>\n",
       "      <td>Star Wars</td>\n",
       "      <td>583</td>\n",
       "    </tr>\n",
       "    <tr>\n",
       "      <th>1</th>\n",
       "      <td>258</td>\n",
       "      <td>Contact</td>\n",
       "      <td>509</td>\n",
       "    </tr>\n",
       "    <tr>\n",
       "      <th>2</th>\n",
       "      <td>100</td>\n",
       "      <td>Fargo</td>\n",
       "      <td>508</td>\n",
       "    </tr>\n",
       "    <tr>\n",
       "      <th>3</th>\n",
       "      <td>181</td>\n",
       "      <td>Return of the Jedi</td>\n",
       "      <td>507</td>\n",
       "    </tr>\n",
       "    <tr>\n",
       "      <th>4</th>\n",
       "      <td>294</td>\n",
       "      <td>Liar Liar</td>\n",
       "      <td>485</td>\n",
       "    </tr>\n",
       "    <tr>\n",
       "      <th>...</th>\n",
       "      <td>...</td>\n",
       "      <td>...</td>\n",
       "      <td>...</td>\n",
       "    </tr>\n",
       "    <tr>\n",
       "      <th>329</th>\n",
       "      <td>232</td>\n",
       "      <td>Young Guns</td>\n",
       "      <td>101</td>\n",
       "    </tr>\n",
       "    <tr>\n",
       "      <th>330</th>\n",
       "      <td>404</td>\n",
       "      <td>Pinocchio</td>\n",
       "      <td>101</td>\n",
       "    </tr>\n",
       "    <tr>\n",
       "      <th>331</th>\n",
       "      <td>926</td>\n",
       "      <td>Down Periscope</td>\n",
       "      <td>101</td>\n",
       "    </tr>\n",
       "    <tr>\n",
       "      <th>332</th>\n",
       "      <td>264</td>\n",
       "      <td>Mimic</td>\n",
       "      <td>101</td>\n",
       "    </tr>\n",
       "    <tr>\n",
       "      <th>333</th>\n",
       "      <td>378</td>\n",
       "      <td>Miracle on 34th Street</td>\n",
       "      <td>101</td>\n",
       "    </tr>\n",
       "  </tbody>\n",
       "</table>\n",
       "<p>334 rows × 3 columns</p>\n",
       "</div>"
      ],
      "text/plain": [
       "     movie id              movie title  rating\n",
       "0          50               Star Wars      583\n",
       "1         258                 Contact      509\n",
       "2         100                   Fargo      508\n",
       "3         181      Return of the Jedi      507\n",
       "4         294               Liar Liar      485\n",
       "..        ...                      ...     ...\n",
       "329       232              Young Guns      101\n",
       "330       404               Pinocchio      101\n",
       "331       926          Down Periscope      101\n",
       "332       264                   Mimic      101\n",
       "333       378  Miracle on 34th Street      101\n",
       "\n",
       "[334 rows x 3 columns]"
      ]
     },
     "execution_count": 32,
     "metadata": {},
     "output_type": "execute_result"
    }
   ],
   "source": [
    "#your answer here\n",
    "\n",
    "# for finding, top 25 movies, find first movies that have more than 100 rating.\n",
    "# need to merge two dataframes to achive this.\n",
    "movie_with_ratings = movies_df.merge(ratings_df,on=\"movie id\").groupby(['movie id','movie title'])['rating'].count()\n",
    "\n",
    "# now filter movie with rating has more than 100 ratings\n",
    "movie_with_ratings_more_than_100 = movie_with_ratings[movie_with_ratings>100]\n",
    "\n",
    "# sort and convert into dataframe\n",
    "movie_with_ratings_more_than_100 = movie_with_ratings_more_than_100.sort_values(ascending=False).to_frame()\n",
    "movie_with_ratings_more_than_100 = movie_with_ratings_more_than_100.reset_index()\n",
    "movie_with_ratings_more_than_100\n"
   ]
  },
  {
   "cell_type": "code",
   "execution_count": 33,
   "metadata": {},
   "outputs": [
    {
     "data": {
      "text/plain": [
       "['Star Wars ',\n",
       " 'Contact ',\n",
       " 'Fargo ',\n",
       " 'Return of the Jedi ',\n",
       " 'Liar Liar ',\n",
       " 'English Patient, The ',\n",
       " 'Scream ',\n",
       " 'Toy Story ',\n",
       " 'Air Force One ',\n",
       " 'Independence Day (ID4) ',\n",
       " 'Raiders of the Lost Ark ',\n",
       " 'Godfather, The ',\n",
       " 'Pulp Fiction ',\n",
       " 'Twelve Monkeys ',\n",
       " 'Silence of the Lambs, The ',\n",
       " 'Jerry Maguire ',\n",
       " 'Rock, The ',\n",
       " 'Empire Strikes Back, The ',\n",
       " 'Star Trek: First Contact ',\n",
       " 'Titanic ',\n",
       " 'Back to the Future ',\n",
       " 'Mission: Impossible ',\n",
       " 'Fugitive, The ',\n",
       " 'Indiana Jones and the Last Crusade ',\n",
       " 'Willy Wonka and the Chocolate Factory ',\n",
       " 'Princess Bride, The ',\n",
       " 'Forrest Gump ',\n",
       " 'Saint, The ',\n",
       " 'Monty Python and the Holy Grail ',\n",
       " 'Full Monty, The ',\n",
       " 'Men in Black ',\n",
       " 'Terminator, The ',\n",
       " 'E.T. the Extra-Terrestrial ',\n",
       " 'Dead Man Walking ',\n",
       " \"Schindler's List \",\n",
       " 'Leaving Las Vegas ',\n",
       " 'L.A. Confidential ',\n",
       " 'Braveheart ',\n",
       " 'Conspiracy Theory ',\n",
       " 'Terminator 2: Judgment Day ',\n",
       " 'Twister ',\n",
       " \"Mr. Holland's Opus \",\n",
       " 'Birdcage, The ',\n",
       " 'Alien ',\n",
       " 'When Harry Met Sally... ',\n",
       " 'Aliens ',\n",
       " 'Shawshank Redemption, The ',\n",
       " 'Jaws ',\n",
       " 'Groundhog Day ',\n",
       " 'Apollo 13 ',\n",
       " 'Amadeus ',\n",
       " 'Blade Runner ',\n",
       " 'Truth About Cats & Dogs, The ',\n",
       " 'Sense and Sensibility ',\n",
       " 'Usual Suspects, The ',\n",
       " 'Ransom ',\n",
       " \"One Flew Over the Cuckoo's Nest \",\n",
       " 'Jurassic Park ',\n",
       " 'Evita ',\n",
       " '2001: A Space Odyssey ',\n",
       " 'Raising Arizona ',\n",
       " 'Dances with Wolves ',\n",
       " 'Chasing Amy ',\n",
       " 'Broken Arrow ',\n",
       " 'Game, The ',\n",
       " 'Dead Poets Society ',\n",
       " 'Blues Brothers, The ',\n",
       " 'Four Weddings and a Funeral ',\n",
       " 'Trainspotting ',\n",
       " 'Fish Called Wanda, A ',\n",
       " 'Wizard of Oz, The ',\n",
       " 'Star Trek: The Wrath of Khan ',\n",
       " 'Phenomenon ',\n",
       " 'Die Hard ',\n",
       " 'Casablanca ',\n",
       " 'Sting, The ',\n",
       " \"Dante's Peak \",\n",
       " \"Devil's Own, The \",\n",
       " 'Graduate, The ',\n",
       " 'Psycho ',\n",
       " 'Seven (Se7en) ',\n",
       " 'Time to Kill, A ',\n",
       " \"It's a Wonderful Life \",\n",
       " 'Speed ',\n",
       " 'In & Out ',\n",
       " 'Hunt for Red October, The ',\n",
       " 'Stand by Me ',\n",
       " 'GoodFellas ',\n",
       " 'Heat ',\n",
       " 'Sound of Music, The ',\n",
       " 'Clockwork Orange, A ',\n",
       " 'Apocalypse Now ',\n",
       " 'Courage Under Fire ',\n",
       " 'Top Gun ',\n",
       " 'Lion King, The ',\n",
       " 'Aladdin ',\n",
       " 'To Kill a Mockingbird ',\n",
       " 'Babe ',\n",
       " 'Volcano ',\n",
       " 'Murder at 1600 ',\n",
       " 'Mars Attacks! ',\n",
       " 'Butch Cassidy and the Sundance Kid ',\n",
       " 'People vs. Larry Flynt, The ',\n",
       " 'Sleepless in Seattle ',\n",
       " 'Field of Dreams ',\n",
       " 'Starship Troopers ',\n",
       " 'Get Shorty ',\n",
       " 'Godfather: Part II, The ',\n",
       " 'Rear Window ',\n",
       " 'True Lies ',\n",
       " 'Brazil ',\n",
       " 'Shining, The ',\n",
       " 'M*A*S*H ',\n",
       " 'Eraser ',\n",
       " 'Beauty and the Beast ',\n",
       " 'Boot, Das ',\n",
       " 'Batman ',\n",
       " 'Young Frankenstein ',\n",
       " 'Star Trek IV: The Voyage Home ',\n",
       " 'Citizen Kane ',\n",
       " 'Good Will Hunting ',\n",
       " 'Fifth Element, The ',\n",
       " 'Gandhi ',\n",
       " 'Face/Off ',\n",
       " 'Dr. Strangelove or: How I Learned to Stop Worrying and Love the Bomb ',\n",
       " 'Tin Cup ',\n",
       " 'Mrs. Doubtfire ',\n",
       " 'This Is Spinal Tap ',\n",
       " 'Sabrina ',\n",
       " 'Boogie Nights ',\n",
       " \"Devil's Advocate, The \",\n",
       " 'Lone Star ',\n",
       " 'Long Kiss Goodnight, The ',\n",
       " 'Mighty Aphrodite ',\n",
       " 'Postino, Il ',\n",
       " 'Unforgiven ',\n",
       " 'Taxi Driver ',\n",
       " 'Dave ',\n",
       " 'Tomorrow Never Dies ',\n",
       " 'Annie Hall ',\n",
       " 'Clear and Present Danger ',\n",
       " 'North by Northwest ',\n",
       " 'Vertigo ',\n",
       " 'Primal Fear ',\n",
       " 'Mary Poppins ',\n",
       " 'Emma ',\n",
       " 'Much Ado About Nothing ',\n",
       " 'That Thing You Do! ',\n",
       " 'Cop Land ',\n",
       " 'Quiz Show ',\n",
       " 'G.I. Jane ',\n",
       " 'Rumble in the Bronx ',\n",
       " 'Fantasia ',\n",
       " \"Monty Python's Life of Brian \",\n",
       " 'Lawrence of Arabia ',\n",
       " \"My Best Friend's Wedding \",\n",
       " 'Snow White and the Seven Dwarfs ',\n",
       " 'Gone with the Wind ',\n",
       " 'Star Trek III: The Search for Spock ',\n",
       " 'Glory ',\n",
       " 'Big Night ',\n",
       " 'Cape Fear ',\n",
       " 'Heathers ',\n",
       " 'Clueless ',\n",
       " 'Grease ',\n",
       " 'Ghost ',\n",
       " 'Full Metal Jacket ',\n",
       " 'Sleepers ',\n",
       " 'Mother ',\n",
       " 'In the Line of Fire ',\n",
       " 'Everyone Says I Love You ',\n",
       " 'Piano, The ',\n",
       " 'Die Hard 2 ',\n",
       " 'Bridge on the River Kwai, The ',\n",
       " 'Cool Hand Luke ',\n",
       " 'Pretty Woman ',\n",
       " 'American President, The ',\n",
       " 'Nutty Professor, The ',\n",
       " 'While You Were Sleeping ',\n",
       " 'Kingpin ',\n",
       " 'George of the Jungle ',\n",
       " 'Birds, The ',\n",
       " 'Secrets & Lies ',\n",
       " 'Star Trek VI: The Undiscovered Country ',\n",
       " 'Apt Pupil ',\n",
       " 'First Wives Club, The ',\n",
       " 'Grosse Pointe Blank ',\n",
       " 'Lost World: Jurassic Park, The ',\n",
       " 'Dragonheart ',\n",
       " 'Executive Decision ',\n",
       " 'Swingers ',\n",
       " 'Right Stuff, The ',\n",
       " 'Beavis and Butt-head Do America ',\n",
       " 'Seven Years in Tibet ',\n",
       " 'Crimson Tide ',\n",
       " 'Highlander ',\n",
       " 'Fried Green Tomatoes ',\n",
       " 'African Queen, The ',\n",
       " 'Abyss, The ',\n",
       " 'Firm, The ',\n",
       " 'Die Hard: With a Vengeance ',\n",
       " 'Sneakers ',\n",
       " 'Remains of the Day, The ',\n",
       " 'Fly Away Home ',\n",
       " 'Professional, The ',\n",
       " 'Happy Gilmore ',\n",
       " 'Reservoir Dogs ',\n",
       " 'Grumpier Old Men ',\n",
       " 'Clerks ',\n",
       " 'Like Water For Chocolate (Como agua para chocolate) ',\n",
       " 'Chinatown ',\n",
       " 'Donnie Brasco ',\n",
       " 'River Wild, The ',\n",
       " \"Jackie Chan's First Strike \",\n",
       " 'Rainmaker, The ',\n",
       " 'Nightmare Before Christmas, The ',\n",
       " 'Spawn ',\n",
       " 'Kiss the Girls ',\n",
       " 'Batman Returns ',\n",
       " 'Maltese Falcon, The ',\n",
       " 'Searching for Bobby Fischer ',\n",
       " 'Good, The Bad and The Ugly, The ',\n",
       " 'Con Air ',\n",
       " 'Home Alone ',\n",
       " 'Interview with the Vampire ',\n",
       " 'Wag the Dog ',\n",
       " \"Singin' in the Rain \",\n",
       " 'Philadelphia ',\n",
       " 'Gattaca ',\n",
       " 'Sling Blade ',\n",
       " 'Peacemaker, The ',\n",
       " 'Patton ',\n",
       " 'Crow, The ',\n",
       " 'Multiplicity ',\n",
       " \"Ulee's Gold \",\n",
       " 'Room with a View, A ',\n",
       " 'Ed Wood ',\n",
       " 'Jungle2Jungle ',\n",
       " 'Manchurian Candidate, The ',\n",
       " 'GoldenEye ',\n",
       " 'Austin Powers: International Man of Mystery ',\n",
       " 'Mystery Science Theater 3000: The Movie ',\n",
       " 'Shine ',\n",
       " 'Mask, The ',\n",
       " 'Bound ',\n",
       " 'Cinderella ',\n",
       " 'Natural Born Killers ',\n",
       " 'Ghost and the Darkness, The ',\n",
       " 'Crash ',\n",
       " 'Father of the Bride Part II ',\n",
       " 'Some Like It Hot ',\n",
       " 'Last of the Mohicans, The ',\n",
       " 'Maverick ',\n",
       " 'Absolute Power ',\n",
       " 'Event Horizon ',\n",
       " 'Platoon ',\n",
       " 'Stargate ',\n",
       " 'Hunchback of Notre Dame, The ',\n",
       " 'Nikita (La Femme Nikita) ',\n",
       " 'James and the Giant Peach ',\n",
       " 'Jackie Brown ',\n",
       " 'My Fair Lady ',\n",
       " 'Cold Comfort Farm ',\n",
       " 'Lost Highway ',\n",
       " '12 Angry Men ',\n",
       " 'Amistad ',\n",
       " 'Ben-Hur ',\n",
       " 'Alien: Resurrection ',\n",
       " 'Great Escape, The ',\n",
       " 'Henry V ',\n",
       " 'Under Siege ',\n",
       " 'Chasing Amy ',\n",
       " 'Dumbo ',\n",
       " 'Bonnie and Clyde ',\n",
       " 'Harold and Maude ',\n",
       " 'Killing Fields, The ',\n",
       " 'Magnificent Seven, The ',\n",
       " 'My Left Foot ',\n",
       " 'Cinema Paradiso ',\n",
       " 'Carrie ',\n",
       " 'Deer Hunter, The ',\n",
       " \"Bram Stoker's Dracula \",\n",
       " 'Net, The ',\n",
       " 'Crying Game, The ',\n",
       " 'Michael ',\n",
       " 'Real Genius ',\n",
       " 'Wrong Trousers, The ',\n",
       " 'Hoop Dreams ',\n",
       " 'Star Trek: The Motion Picture ',\n",
       " 'Kolya ',\n",
       " 'Army of Darkness ',\n",
       " 'Raging Bull ',\n",
       " 'Star Trek: Generations ',\n",
       " 'Being There ',\n",
       " \"What's Eating Gilbert Grape \",\n",
       " 'Frighteners, The ',\n",
       " 'Beautiful Girls ',\n",
       " 'Arsenic and Old Lace ',\n",
       " 'Rosewood ',\n",
       " 'Batman Forever ',\n",
       " 'Pink Floyd - The Wall ',\n",
       " 'Edge, The ',\n",
       " 'Welcome to the Dollhouse ',\n",
       " 'As Good As It Gets ',\n",
       " 'One Fine Day ',\n",
       " 'Close Shave, A ',\n",
       " 'Adventures of Priscilla, Queen of the Desert, The ',\n",
       " 'Nightmare on Elm Street, A ',\n",
       " 'Hudsucker Proxy, The ',\n",
       " '101 Dalmatians ',\n",
       " 'Tombstone ',\n",
       " 'Conan the Barbarian ',\n",
       " 'On Golden Pond ',\n",
       " \"William Shakespeare's Romeo and Juliet \",\n",
       " 'Scream 2 ',\n",
       " 'Cable Guy, The ',\n",
       " 'Mr. Smith Goes to Washington ',\n",
       " 'Strictly Ballroom ',\n",
       " 'Craft, The ',\n",
       " 'True Romance ',\n",
       " 'Outbreak ',\n",
       " 'Philadelphia Story, The ',\n",
       " 'Ace Ventura: Pet Detective ',\n",
       " 'Little Women ',\n",
       " 'Benny & Joon ',\n",
       " 'Waterworld ',\n",
       " 'In the Name of the Father ',\n",
       " 'Sex, Lies, and Videotape ',\n",
       " 'Basic Instinct ',\n",
       " 'Young Guns ',\n",
       " 'Pinocchio ',\n",
       " 'Down Periscope ',\n",
       " 'Mimic ',\n",
       " 'Miracle on 34th Street ']"
      ]
     },
     "execution_count": 33,
     "metadata": {},
     "output_type": "execute_result"
    }
   ],
   "source": [
    "# now create title list which has more than 100 reviews\n",
    "movie_with_100_rating_count = list(movie_with_ratings_more_than_100['movie title'])\n",
    "movie_with_100_rating_count"
   ]
  },
  {
   "cell_type": "code",
   "execution_count": 34,
   "metadata": {},
   "outputs": [
    {
     "data": {
      "text/html": [
       "<div>\n",
       "<style scoped>\n",
       "    .dataframe tbody tr th:only-of-type {\n",
       "        vertical-align: middle;\n",
       "    }\n",
       "\n",
       "    .dataframe tbody tr th {\n",
       "        vertical-align: top;\n",
       "    }\n",
       "\n",
       "    .dataframe thead th {\n",
       "        text-align: right;\n",
       "    }\n",
       "</style>\n",
       "<table border=\"1\" class=\"dataframe\">\n",
       "  <thead>\n",
       "    <tr style=\"text-align: right;\">\n",
       "      <th></th>\n",
       "      <th>movie id</th>\n",
       "      <th>movie title</th>\n",
       "      <th>rating</th>\n",
       "    </tr>\n",
       "  </thead>\n",
       "  <tbody>\n",
       "    <tr>\n",
       "      <th>15</th>\n",
       "      <td>408</td>\n",
       "      <td>Close Shave, A</td>\n",
       "      <td>4.491071</td>\n",
       "    </tr>\n",
       "    <tr>\n",
       "      <th>16</th>\n",
       "      <td>318</td>\n",
       "      <td>Schindler's List</td>\n",
       "      <td>4.466443</td>\n",
       "    </tr>\n",
       "    <tr>\n",
       "      <th>17</th>\n",
       "      <td>169</td>\n",
       "      <td>Wrong Trousers, The</td>\n",
       "      <td>4.466102</td>\n",
       "    </tr>\n",
       "    <tr>\n",
       "      <th>18</th>\n",
       "      <td>483</td>\n",
       "      <td>Casablanca</td>\n",
       "      <td>4.456790</td>\n",
       "    </tr>\n",
       "    <tr>\n",
       "      <th>20</th>\n",
       "      <td>64</td>\n",
       "      <td>Shawshank Redemption, The</td>\n",
       "      <td>4.445230</td>\n",
       "    </tr>\n",
       "    <tr>\n",
       "      <th>21</th>\n",
       "      <td>603</td>\n",
       "      <td>Rear Window</td>\n",
       "      <td>4.387560</td>\n",
       "    </tr>\n",
       "    <tr>\n",
       "      <th>22</th>\n",
       "      <td>12</td>\n",
       "      <td>Usual Suspects, The</td>\n",
       "      <td>4.385768</td>\n",
       "    </tr>\n",
       "    <tr>\n",
       "      <th>23</th>\n",
       "      <td>50</td>\n",
       "      <td>Star Wars</td>\n",
       "      <td>4.358491</td>\n",
       "    </tr>\n",
       "    <tr>\n",
       "      <th>24</th>\n",
       "      <td>178</td>\n",
       "      <td>12 Angry Men</td>\n",
       "      <td>4.344000</td>\n",
       "    </tr>\n",
       "    <tr>\n",
       "      <th>28</th>\n",
       "      <td>134</td>\n",
       "      <td>Citizen Kane</td>\n",
       "      <td>4.292929</td>\n",
       "    </tr>\n",
       "    <tr>\n",
       "      <th>30</th>\n",
       "      <td>427</td>\n",
       "      <td>To Kill a Mockingbird</td>\n",
       "      <td>4.292237</td>\n",
       "    </tr>\n",
       "    <tr>\n",
       "      <th>31</th>\n",
       "      <td>357</td>\n",
       "      <td>One Flew Over the Cuckoo's Nest</td>\n",
       "      <td>4.291667</td>\n",
       "    </tr>\n",
       "    <tr>\n",
       "      <th>32</th>\n",
       "      <td>98</td>\n",
       "      <td>Silence of the Lambs, The</td>\n",
       "      <td>4.289744</td>\n",
       "    </tr>\n",
       "    <tr>\n",
       "      <th>33</th>\n",
       "      <td>480</td>\n",
       "      <td>North by Northwest</td>\n",
       "      <td>4.284916</td>\n",
       "    </tr>\n",
       "    <tr>\n",
       "      <th>34</th>\n",
       "      <td>127</td>\n",
       "      <td>Godfather, The</td>\n",
       "      <td>4.283293</td>\n",
       "    </tr>\n",
       "    <tr>\n",
       "      <th>35</th>\n",
       "      <td>285</td>\n",
       "      <td>Secrets &amp; Lies</td>\n",
       "      <td>4.265432</td>\n",
       "    </tr>\n",
       "    <tr>\n",
       "      <th>36</th>\n",
       "      <td>272</td>\n",
       "      <td>Good Will Hunting</td>\n",
       "      <td>4.262626</td>\n",
       "    </tr>\n",
       "    <tr>\n",
       "      <th>38</th>\n",
       "      <td>657</td>\n",
       "      <td>Manchurian Candidate, The</td>\n",
       "      <td>4.259542</td>\n",
       "    </tr>\n",
       "    <tr>\n",
       "      <th>39</th>\n",
       "      <td>474</td>\n",
       "      <td>Dr. Strangelove or: How I Learned to Stop Worr...</td>\n",
       "      <td>4.252577</td>\n",
       "    </tr>\n",
       "    <tr>\n",
       "      <th>40</th>\n",
       "      <td>174</td>\n",
       "      <td>Raiders of the Lost Ark</td>\n",
       "      <td>4.252381</td>\n",
       "    </tr>\n",
       "    <tr>\n",
       "      <th>41</th>\n",
       "      <td>479</td>\n",
       "      <td>Vertigo</td>\n",
       "      <td>4.251397</td>\n",
       "    </tr>\n",
       "    <tr>\n",
       "      <th>45</th>\n",
       "      <td>313</td>\n",
       "      <td>Titanic</td>\n",
       "      <td>4.245714</td>\n",
       "    </tr>\n",
       "    <tr>\n",
       "      <th>46</th>\n",
       "      <td>511</td>\n",
       "      <td>Lawrence of Arabia</td>\n",
       "      <td>4.231214</td>\n",
       "    </tr>\n",
       "    <tr>\n",
       "      <th>48</th>\n",
       "      <td>484</td>\n",
       "      <td>Maltese Falcon, The</td>\n",
       "      <td>4.210145</td>\n",
       "    </tr>\n",
       "    <tr>\n",
       "      <th>49</th>\n",
       "      <td>172</td>\n",
       "      <td>Empire Strikes Back, The</td>\n",
       "      <td>4.204360</td>\n",
       "    </tr>\n",
       "  </tbody>\n",
       "</table>\n",
       "</div>"
      ],
      "text/plain": [
       "    movie id                                        movie title    rating\n",
       "15       408                                    Close Shave, A   4.491071\n",
       "16       318                                  Schindler's List   4.466443\n",
       "17       169                               Wrong Trousers, The   4.466102\n",
       "18       483                                        Casablanca   4.456790\n",
       "20        64                         Shawshank Redemption, The   4.445230\n",
       "21       603                                       Rear Window   4.387560\n",
       "22        12                               Usual Suspects, The   4.385768\n",
       "23        50                                         Star Wars   4.358491\n",
       "24       178                                      12 Angry Men   4.344000\n",
       "28       134                                      Citizen Kane   4.292929\n",
       "30       427                             To Kill a Mockingbird   4.292237\n",
       "31       357                   One Flew Over the Cuckoo's Nest   4.291667\n",
       "32        98                         Silence of the Lambs, The   4.289744\n",
       "33       480                                North by Northwest   4.284916\n",
       "34       127                                    Godfather, The   4.283293\n",
       "35       285                                    Secrets & Lies   4.265432\n",
       "36       272                                 Good Will Hunting   4.262626\n",
       "38       657                         Manchurian Candidate, The   4.259542\n",
       "39       474  Dr. Strangelove or: How I Learned to Stop Worr...  4.252577\n",
       "40       174                           Raiders of the Lost Ark   4.252381\n",
       "41       479                                           Vertigo   4.251397\n",
       "45       313                                           Titanic   4.245714\n",
       "46       511                                Lawrence of Arabia   4.231214\n",
       "48       484                               Maltese Falcon, The   4.210145\n",
       "49       172                          Empire Strikes Back, The   4.204360"
      ]
     },
     "execution_count": 34,
     "metadata": {},
     "output_type": "execute_result"
    }
   ],
   "source": [
    "# Now merging rating and movie, calculate avg rating\n",
    "movie_with_ratings = ratings_df.merge(movies_df,on=\"movie id\")\n",
    "movie_rating_df = movie_with_ratings.groupby(['movie id','movie title'])['rating'].mean().sort_values(ascending=False).to_frame().reset_index()\n",
    "\n",
    "# filter movie has 100 or more ratings by using calcullted previous list\n",
    "movie_rating_df =  movie_rating_df[movie_rating_df['movie title'].isin(movie_with_100_rating_count)]\n",
    "\n",
    "# display top 25 movies such that has more than 100 rating, \n",
    "movie_rating_df[:25]"
   ]
  },
  {
   "cell_type": "markdown",
   "metadata": {},
   "source": [
    "### 10. See gender distribution across different genres check for the validity of the below statements - 10 marks\n",
    "\n",
    "* Men watch more drama than women\n",
    "* Women watch more Sci-Fi than men\n",
    "* Men watch more Romance than women\n"
   ]
  },
  {
   "cell_type": "markdown",
   "metadata": {},
   "source": [
    "1. There is no need to conduct statistical tests around this. Just compare the percentages and comment on the validity of the above statements.\n",
    "\n",
    "2. you might want ot use the .sum(), .div() function here.\n",
    "3. Use number of ratings to validate the numbers. For example, if out of 4000 ratings received by women, 3000 are for drama, we will assume that 75% of the women watch drama."
   ]
  },
  {
   "cell_type": "markdown",
   "metadata": {},
   "source": [
    "#### Conclusion:\n",
    "\n"
   ]
  },
  {
   "cell_type": "code",
   "execution_count": 35,
   "metadata": {},
   "outputs": [],
   "source": [
    "# merge all dataframes to achive this analysis first on movie_id and user_id\n",
    "movie_rating_data = ratings_df.merge(movies_df, on=\"movie id\")\n",
    "movie_rating_by_user = movie_rating_data.merge(users_df, on=\"user id\")\n",
    "\n",
    "# drop unncessary columns\n",
    "movie_rating_by_user.drop(columns=['timestamp','release date','release year','age','occupation','zip code'],inplace=True)"
   ]
  },
  {
   "cell_type": "code",
   "execution_count": 36,
   "metadata": {},
   "outputs": [
    {
     "data": {
      "text/plain": [
       "gender\n",
       "F    25738\n",
       "M    74252\n",
       "Name: user id, dtype: int64"
      ]
     },
     "execution_count": 36,
     "metadata": {},
     "output_type": "execute_result"
    }
   ],
   "source": [
    "movie_rating_by_user.groupby('gender')['user id'].count()"
   ]
  },
  {
   "cell_type": "code",
   "execution_count": 37,
   "metadata": {},
   "outputs": [],
   "source": [
    "# Analysis on drama movie by rating\n",
    "movie_rating_by_user_for_drama  = movie_rating_by_user[movie_rating_by_user['Drama']==1]"
   ]
  },
  {
   "cell_type": "code",
   "execution_count": 38,
   "metadata": {},
   "outputs": [
    {
     "data": {
      "text/plain": [
       "gender\n",
       "F    11008\n",
       "M    28887\n",
       "Name: user id, dtype: int64"
      ]
     },
     "execution_count": 38,
     "metadata": {},
     "output_type": "execute_result"
    }
   ],
   "source": [
    "# count genders\n",
    "movie_rating_by_user_for_drama.groupby('gender')['user id'].count()"
   ]
  },
  {
   "cell_type": "code",
   "execution_count": 39,
   "metadata": {},
   "outputs": [
    {
     "data": {
      "text/plain": [
       "42.76944595539669"
      ]
     },
     "execution_count": 39,
     "metadata": {},
     "output_type": "execute_result"
    }
   ],
   "source": [
    "# calculate total women percentage for drama movie\n",
    "percentage_women_for_drama = (11008/25738) * 100\n",
    "percentage_women_for_drama"
   ]
  },
  {
   "cell_type": "code",
   "execution_count": 40,
   "metadata": {},
   "outputs": [
    {
     "data": {
      "text/plain": [
       "38.90400258578893"
      ]
     },
     "execution_count": 40,
     "metadata": {},
     "output_type": "execute_result"
    }
   ],
   "source": [
    "# calculate total men percentage for drama movie\n",
    "percentage_men_for_drama = (28887/74252) * 100\n",
    "percentage_men_for_drama"
   ]
  },
  {
   "cell_type": "markdown",
   "metadata": {},
   "source": [
    "### Men watch more drama than women: Invalid statement, Justified by above total % men watched drama movie is 39% while women is 42%"
   ]
  },
  {
   "cell_type": "code",
   "execution_count": 41,
   "metadata": {},
   "outputs": [],
   "source": [
    "# Analysis on Sci-Fi movie by rating\n",
    "movie_rating_by_user_for_scifi  = movie_rating_by_user[movie_rating_by_user['Sci-Fi']==1]\n"
   ]
  },
  {
   "cell_type": "code",
   "execution_count": 42,
   "metadata": {},
   "outputs": [
    {
     "data": {
      "text/plain": [
       "gender\n",
       "F     2629\n",
       "M    10101\n",
       "Name: user id, dtype: int64"
      ]
     },
     "execution_count": 42,
     "metadata": {},
     "output_type": "execute_result"
    }
   ],
   "source": [
    "# count genders\n",
    "movie_rating_by_user_for_scifi.groupby('gender')['user id'].count()"
   ]
  },
  {
   "cell_type": "code",
   "execution_count": 43,
   "metadata": {},
   "outputs": [
    {
     "data": {
      "text/plain": [
       "10.214468878700753"
      ]
     },
     "execution_count": 43,
     "metadata": {},
     "output_type": "execute_result"
    }
   ],
   "source": [
    "# calculate total women percentage for scifi movie\n",
    "percentage_women_for_scifi = (2629/25738) * 100\n",
    "percentage_women_for_scifi"
   ]
  },
  {
   "cell_type": "code",
   "execution_count": 44,
   "metadata": {},
   "outputs": [
    {
     "data": {
      "text/plain": [
       "13.603673975111782"
      ]
     },
     "execution_count": 44,
     "metadata": {},
     "output_type": "execute_result"
    }
   ],
   "source": [
    "# calculate total men percentage for scifi movie\n",
    "percentage_men_for_scifi = (10101/74252) * 100\n",
    "percentage_men_for_scifi"
   ]
  },
  {
   "cell_type": "markdown",
   "metadata": {},
   "source": [
    "### Women watch more Sci-Fi than men: Invalid statement. Justified by above observation, total % men watched scifi movie is 13.6% and women percentage is 10%"
   ]
  },
  {
   "cell_type": "code",
   "execution_count": 45,
   "metadata": {},
   "outputs": [],
   "source": [
    "# Analysis on Romance movie by rating\n",
    "movie_rating_by_user_for_romance = movie_rating_by_user[movie_rating_by_user['Romance']==1]"
   ]
  },
  {
   "cell_type": "code",
   "execution_count": 46,
   "metadata": {},
   "outputs": [
    {
     "data": {
      "text/plain": [
       "gender\n",
       "F     5858\n",
       "M    13603\n",
       "Name: user id, dtype: int64"
      ]
     },
     "execution_count": 46,
     "metadata": {},
     "output_type": "execute_result"
    }
   ],
   "source": [
    "# count genders\n",
    "movie_rating_by_user_for_romance.groupby('gender')['user id'].count()"
   ]
  },
  {
   "cell_type": "code",
   "execution_count": 47,
   "metadata": {},
   "outputs": [
    {
     "data": {
      "text/plain": [
       "22.760121221540135"
      ]
     },
     "execution_count": 47,
     "metadata": {},
     "output_type": "execute_result"
    }
   ],
   "source": [
    "# calculate total women percentage for romance movie\n",
    "percentage_women_for_romance = (5858/25738) * 100\n",
    "percentage_women_for_romance"
   ]
  },
  {
   "cell_type": "code",
   "execution_count": 48,
   "metadata": {},
   "outputs": [
    {
     "data": {
      "text/plain": [
       "18.320045251306365"
      ]
     },
     "execution_count": 48,
     "metadata": {},
     "output_type": "execute_result"
    }
   ],
   "source": [
    "# calculate total men percentage for romance movie\n",
    "percentage_men_for_romance = (13603/74252) * 100\n",
    "percentage_men_for_romance"
   ]
  },
  {
   "cell_type": "markdown",
   "metadata": {},
   "source": [
    "### Men watch more Romance than women: Invalid statement. Seems women give higher percentage rating 22% compare to 18%"
   ]
  },
  {
   "cell_type": "code",
   "execution_count": null,
   "metadata": {},
   "outputs": [],
   "source": []
  }
 ],
 "metadata": {
  "kernelspec": {
   "display_name": "Python 3",
   "language": "python",
   "name": "python3"
  },
  "language_info": {
   "codemirror_mode": {
    "name": "ipython",
    "version": 3
   },
   "file_extension": ".py",
   "mimetype": "text/x-python",
   "name": "python",
   "nbconvert_exporter": "python",
   "pygments_lexer": "ipython3",
   "version": "3.6.8"
  }
 },
 "nbformat": 4,
 "nbformat_minor": 2
}
